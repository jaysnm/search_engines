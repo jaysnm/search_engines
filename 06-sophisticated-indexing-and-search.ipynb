{
 "metadata": {
  "language_info": {
   "codemirror_mode": {
    "name": "ipython",
    "version": 3
   },
   "file_extension": ".py",
   "mimetype": "text/x-python",
   "name": "python",
   "nbconvert_exporter": "python",
   "pygments_lexer": "ipython3",
   "version": "3.9.2-final"
  },
  "orig_nbformat": 2,
  "kernelspec": {
   "name": "python392jvsc74a57bd05c42fe252a17680b3092c13cff773c6bfaaa54f0dea3a1659c27a632305033c6",
   "display_name": "Python 3.9.2 64-bit ('searchengine')"
  }
 },
 "nbformat": 4,
 "nbformat_minor": 2,
 "cells": [
  {
   "source": [
    "# Sophisticated Indexing and Search  \n",
    "\n",
    "In this lab, we will look at various ways we can fine-tune our search results using Solr `analyzers`, `tokenizers` and `filters`.  \n",
    "We will use books archive data downloaded from [open library](https://openlibrary.org/developers/dumps).  \n",
    "\n",
    "Download [editions dump](https://openlibrary.org/data/ol_dump_editions_latest.txt.gz), this is a big file that requires some patience! When download process is done, decompress your file into data folder. I have included a sample text file with first 10 lines in the `ol_dump_editions_2021-03-19.txt` dump file. Let's take a look at first line in the file:  "
   ],
   "cell_type": "markdown",
   "metadata": {}
  },
  {
   "cell_type": "code",
   "execution_count": 37,
   "metadata": {},
   "outputs": [
    {
     "output_type": "execute_result",
     "data": {
      "text/plain": [
       "'/type/edition\\t/books/OL10000135M\\t4\\t2010-04-24T17:54:01.503315\\t{\"publishers\": [\"Bernan Press\"], \"physical_format\": \"Hardcover\", \"subtitle\": \"9th November - 3rd December, 1992\", \"key\": \"/books/OL10000135M\", \"title\": \"Parliamentary Debates, House of Lords, Bound Volumes, 1992-93\", \"identifiers\": {\"goodreads\": [\"6850240\"]}, \"isbn_13\": [\"9780107805401\"], \"languages\": [{\"key\": \"/languages/eng\"}], \"number_of_pages\": 64, \"isbn_10\": [\"0107805405\"], \"publish_date\": \"December 1993\", \"last_modified\": {\"type\": \"/type/datetime\", \"value\": \"2010-04-24T17:54:01.503315\"}, \"authors\": [{\"key\": \"/authors/OL2645777A\"}], \"latest_revision\": 4, \"works\": [{\"key\": \"/works/OL7925046W\"}], \"type\": {\"key\": \"/type/edition\"}, \"subjects\": [\"Government - Comparative\", \"Politics / Current Events\"], \"revision\": 4}\\n'"
      ]
     },
     "metadata": {},
     "execution_count": 37
    }
   ],
   "source": [
    "fopen = open('data/editions.txt')\n",
    "line = fopen.readline()\n",
    "fopen.close()\n",
    "line"
   ]
  },
  {
   "source": [
    "Each line is a book edition entry with attributes separated by tabs. Let's split the line for a clearer view!"
   ],
   "cell_type": "markdown",
   "metadata": {}
  },
  {
   "cell_type": "code",
   "execution_count": 38,
   "metadata": {},
   "outputs": [
    {
     "output_type": "execute_result",
     "data": {
      "text/plain": [
       "['/type/edition',\n",
       " '/books/OL10000135M',\n",
       " '4',\n",
       " '2010-04-24T17:54:01.503315',\n",
       " '{\"publishers\": [\"Bernan Press\"], \"physical_format\": \"Hardcover\", \"subtitle\": \"9th November - 3rd December, 1992\", \"key\": \"/books/OL10000135M\", \"title\": \"Parliamentary Debates, House of Lords, Bound Volumes, 1992-93\", \"identifiers\": {\"goodreads\": [\"6850240\"]}, \"isbn_13\": [\"9780107805401\"], \"languages\": [{\"key\": \"/languages/eng\"}], \"number_of_pages\": 64, \"isbn_10\": [\"0107805405\"], \"publish_date\": \"December 1993\", \"last_modified\": {\"type\": \"/type/datetime\", \"value\": \"2010-04-24T17:54:01.503315\"}, \"authors\": [{\"key\": \"/authors/OL2645777A\"}], \"latest_revision\": 4, \"works\": [{\"key\": \"/works/OL7925046W\"}], \"type\": {\"key\": \"/type/edition\"}, \"subjects\": [\"Government - Comparative\", \"Politics / Current Events\"], \"revision\": 4}']"
      ]
     },
     "metadata": {},
     "execution_count": 38
    }
   ],
   "source": [
    "line.strip().split('\\t')"
   ]
  },
  {
   "source": [
    "We have five components with first four metadata not being useful (to us) as is the fifth JSON attribute. Lets draw attention into the fifth component!"
   ],
   "cell_type": "markdown",
   "metadata": {}
  },
  {
   "cell_type": "code",
   "execution_count": 39,
   "metadata": {},
   "outputs": [
    {
     "output_type": "stream",
     "name": "stdout",
     "text": [
      "{\n  \"publishers\": [\n    \"Bernan Press\"\n  ],\n  \"physical_format\": \"Hardcover\",\n  \"subtitle\": \"9th November - 3rd December, 1992\",\n  \"key\": \"/books/OL10000135M\",\n  \"title\": \"Parliamentary Debates, House of Lords, Bound Volumes, 1992-93\",\n  \"identifiers\": {\n    \"goodreads\": [\n      \"6850240\"\n    ]\n  },\n  \"isbn_13\": [\n    \"9780107805401\"\n  ],\n  \"languages\": [\n    {\n      \"key\": \"/languages/eng\"\n    }\n  ],\n  \"number_of_pages\": 64,\n  \"isbn_10\": [\n    \"0107805405\"\n  ],\n  \"publish_date\": \"December 1993\",\n  \"last_modified\": {\n    \"type\": \"/type/datetime\",\n    \"value\": \"2010-04-24T17:54:01.503315\"\n  },\n  \"authors\": [\n    {\n      \"key\": \"/authors/OL2645777A\"\n    }\n  ],\n  \"latest_revision\": 4,\n  \"works\": [\n    {\n      \"key\": \"/works/OL7925046W\"\n    }\n  ],\n  \"type\": {\n    \"key\": \"/type/edition\"\n  },\n  \"subjects\": [\n    \"Government - Comparative\",\n    \"Politics / Current Events\"\n  ],\n  \"revision\": 4\n}\n"
     ]
    }
   ],
   "source": [
    "import simplejson as json\n",
    "\n",
    "line = line.strip().split('\\t')\n",
    "\n",
    "print(json.dumps(json.loads(line[4]), indent=2))"
   ]
  },
  {
   "source": [
    "The progress looks promissing. From openlibrary [API docs](https://openlibrary.org/dev/docs/restful_api), with the attributes from edition data, we can read authors and book information. Take sometime to check the printout above against the [API guide](https://openlibrary.org/dev/docs/restful_api).  \n"
   ],
   "cell_type": "markdown",
   "metadata": {}
  },
  {
   "cell_type": "code",
   "execution_count": 26,
   "metadata": {},
   "outputs": [
    {
     "output_type": "stream",
     "name": "stdout",
     "text": [
      "{\n  \"publishers\": [\n    \"Bernan Press\"\n  ],\n  \"physical_format\": \"Hardcover\",\n  \"subtitle\": \"9th November - 3rd December, 1992\",\n  \"title\": \"Parliamentary Debates, House of Lords, Bound Volumes, 1992-93\",\n  \"identifiers\": {\n    \"goodreads\": [\n      \"6850240\"\n    ]\n  },\n  \"isbn_13\": [\n    \"9780107805401\"\n  ],\n  \"languages\": [\n    {\n      \"key\": \"/languages/eng\"\n    }\n  ],\n  \"number_of_pages\": 64,\n  \"isbn_10\": [\n    \"0107805405\"\n  ],\n  \"publish_date\": \"December 1993\",\n  \"last_modified\": {\n    \"type\": \"/type/datetime\",\n    \"value\": \"2010-04-24T17:54:01.503315\"\n  },\n  \"authors\": [\n    {\n      \"name\": \"HMSO Books\",\n      \"last_modified\": {\n        \"type\": \"/type/datetime\",\n        \"value\": \"2008-04-29 13:35:46.87638\"\n      },\n      \"key\": \"/authors/OL2645777A\",\n      \"type\": {\n        \"key\": \"/type/author\"\n      },\n      \"id\": 9978471,\n      \"revision\": 1\n    }\n  ],\n  \"latest_revision\": 4,\n  \"subjects\": [\n    \"Government - Comparative\",\n    \"Politics / Current Events\"\n  ],\n  \"revision\": 4,\n  \"book\": {\n    \"publishers\": [\n      \"Bernan Press\"\n    ],\n    \"number_of_pages\": 64,\n    \"subtitle\": \"9th November - 3rd December, 1992\",\n    \"last_modified\": {\n      \"type\": \"/type/datetime\",\n      \"value\": \"2010-04-24T17:54:01.503315\"\n    },\n    \"title\": \"Parliamentary Debates, House of Lords, Bound Volumes, 1992-93\",\n    \"type\": {\n      \"key\": \"/type/edition\"\n    },\n    \"identifiers\": {\n      \"goodreads\": [\n        \"6850240\"\n      ]\n    },\n    \"isbn_13\": [\n      \"9780107805401\"\n    ],\n    \"languages\": [\n      {\n        \"key\": \"/languages/eng\"\n      }\n    ],\n    \"isbn_10\": [\n      \"0107805405\"\n    ],\n    \"publish_date\": \"December 1993\",\n    \"key\": \"/books/OL10000135M\",\n    \"authors\": [\n      {\n        \"key\": \"/authors/OL2645777A\"\n      }\n    ],\n    \"latest_revision\": 4,\n    \"works\": [\n      {\n        \"key\": \"/works/OL7925046W\"\n      }\n    ],\n    \"physical_format\": \"Hardcover\",\n    \"subjects\": [\n      \"Government - Comparative\",\n      \"Politics / Current Events\"\n    ],\n    \"revision\": 4\n  }\n}\n"
     ]
    }
   ],
   "source": [
    "# Given that the data that we are dealing with is very big, we would rather use unblocking libraries and perform I/O tasks asyncronously!\n",
    "import asyncio\n",
    "import aiohttp\n",
    "import simplejson as json\n",
    "\n",
    "# set http header content\n",
    "headers = {\n",
    "    'Content-type':'application/json'\n",
    "}\n",
    "ol_url = 'https://openlibrary.org' \n",
    "\n",
    "async def get_author_info(author_key):\n",
    "    '''\n",
    "    Read author details using openlibrary API\n",
    "    ----\n",
    "    Parameters: \n",
    "        author_key: url mapping of author in the API graph\n",
    "    ---\n",
    "    Returns: JSON response with author details or error message\n",
    "    '''\n",
    "    async with aiohttp.ClientSession() as session:\n",
    "        async with session.get(f'{ol_url}{author_key}.json', headers=headers) as resp:\n",
    "            return await resp.text()\n",
    "\n",
    "async def get_book_info(book_key):\n",
    "    '''\n",
    "    Read edition book details using openlibrary API\n",
    "    ----\n",
    "    Parameters: \n",
    "        book_key: url mapping of edition book in the API graph\n",
    "    ----\n",
    "    Returns: JSON response with edition book details or error message\n",
    "    '''\n",
    "    async with aiohttp.ClientSession() as session:\n",
    "        async with session.get(f'{ol_url}{book_key}.json', headers=headers) as resp:\n",
    "            return await resp.text()\n",
    "\n",
    "async def load_editions_data():\n",
    "    '''\n",
    "    Process edition line data as demonstrated above to extract the JSON component! \n",
    "    ----\n",
    "    Parameters: None\n",
    "    ----\n",
    "    Returns : None\n",
    "    '''\n",
    "    eof = False\n",
    "    fopen = open('data/editions.txt', 'r')\n",
    "    editions = []\n",
    "\n",
    "    # read the file line after line, process the line fully and index on Solr\n",
    "    # Why index each line at a time? The data is too big to store in memory!\n",
    "    while not eof:\n",
    "        line = fopen.readline()\n",
    "        if not line:\n",
    "            eof=True\n",
    "        # process the data concurrently in independent threads\n",
    "        else:\n",
    "            edition = json.loads(line.strip().split('\\t')[4])\n",
    "            authors = [await get_author_info(author.get('key')) for author in edition.get('authors')]\n",
    "            book = await get_book_info(edition.get('key'))\n",
    "            edition['authors'] = [json.loads(author) for author in authors] \n",
    "            edition['book'] = json.loads(book)\n",
    "            del [edition['key'], edition['type'], edition['works']]\n",
    "            editions.append(edition)\n",
    "\n",
    "    fopen.close()\n",
    "    return editions\n",
    "    \n",
    "editions = await load_editions_data()\n",
    "print(json.dumps(editions[0], indent=2))"
   ]
  },
  {
   "source": [
    "This data now looks great!  \n",
    "\n",
    "We can now proceed with the rest of indexing and searching work!  \n",
    "\n",
    "## Back to Solr"
   ],
   "cell_type": "markdown",
   "metadata": {}
  },
  {
   "cell_type": "code",
   "execution_count": 49,
   "metadata": {},
   "outputs": [],
   "source": [
    "# define Solr instance resources\n",
    "base_url = 'http://localhost:8983'\n",
    "core_name = 'openLib'\n",
    "# define important paths\n",
    "api_endpoint = f'{base_url}/api/cores/{core_name}'\n",
    "schema_endpoint = f'{api_endpoint}/schema'"
   ]
  },
  {
   "source": [
    "## Create Solr index schema"
   ],
   "cell_type": "markdown",
   "metadata": {}
  }
 ]
}
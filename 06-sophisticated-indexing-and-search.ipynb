{
 "metadata": {
  "language_info": {
   "codemirror_mode": {
    "name": "ipython",
    "version": 3
   },
   "file_extension": ".py",
   "mimetype": "text/x-python",
   "name": "python",
   "nbconvert_exporter": "python",
   "pygments_lexer": "ipython3",
   "version": "3.9.2"
  },
  "orig_nbformat": 2,
  "kernelspec": {
   "name": "python392jvsc74a57bd05c42fe252a17680b3092c13cff773c6bfaaa54f0dea3a1659c27a632305033c6",
   "display_name": "Python 3.9.2 64-bit ('searchengine': virtualenvwrapper)"
  }
 },
 "nbformat": 4,
 "nbformat_minor": 2,
 "cells": [
  {
   "source": [
    "# Sophisticated Indexing and Search  \n",
    "\n",
    "In this lab, we will look at various ways we can fine-tune our search results using Solr `analyzers`, `tokenizers` and `filters`.  \n",
    "We will use books archive data downloaded from [open library](https://openlibrary.org/developers/dumps).  \n",
    "\n",
    "Download [editions dump](https://openlibrary.org/data/ol_dump_editions_latest.txt.gz), this is a big file that requires some patience! When download process is done, decompress your file into data folder. I have included a sample text file with first 10 lines in the `ol_dump_editions_2021-03-19.txt` dump file. Let's take a look at first line in the file:  "
   ],
   "cell_type": "markdown",
   "metadata": {}
  },
  {
   "cell_type": "code",
   "execution_count": 37,
   "metadata": {},
   "outputs": [
    {
     "output_type": "execute_result",
     "data": {
      "text/plain": [
       "'/type/edition\\t/books/OL10000135M\\t4\\t2010-04-24T17:54:01.503315\\t{\"publishers\": [\"Bernan Press\"], \"physical_format\": \"Hardcover\", \"subtitle\": \"9th November - 3rd December, 1992\", \"key\": \"/books/OL10000135M\", \"title\": \"Parliamentary Debates, House of Lords, Bound Volumes, 1992-93\", \"identifiers\": {\"goodreads\": [\"6850240\"]}, \"isbn_13\": [\"9780107805401\"], \"languages\": [{\"key\": \"/languages/eng\"}], \"number_of_pages\": 64, \"isbn_10\": [\"0107805405\"], \"publish_date\": \"December 1993\", \"last_modified\": {\"type\": \"/type/datetime\", \"value\": \"2010-04-24T17:54:01.503315\"}, \"authors\": [{\"key\": \"/authors/OL2645777A\"}], \"latest_revision\": 4, \"works\": [{\"key\": \"/works/OL7925046W\"}], \"type\": {\"key\": \"/type/edition\"}, \"subjects\": [\"Government - Comparative\", \"Politics / Current Events\"], \"revision\": 4}\\n'"
      ]
     },
     "metadata": {},
     "execution_count": 37
    }
   ],
   "source": [
    "fopen = open('data/editions.txt')\n",
    "line = fopen.readline()\n",
    "fopen.close()\n",
    "line"
   ]
  },
  {
   "source": [
    "Each line is a book edition entry with attributes separated by tabs. Let's split the line for a clearer view!"
   ],
   "cell_type": "markdown",
   "metadata": {}
  },
  {
   "cell_type": "code",
   "execution_count": 38,
   "metadata": {},
   "outputs": [
    {
     "output_type": "execute_result",
     "data": {
      "text/plain": [
       "['/type/edition',\n",
       " '/books/OL10000135M',\n",
       " '4',\n",
       " '2010-04-24T17:54:01.503315',\n",
       " '{\"publishers\": [\"Bernan Press\"], \"physical_format\": \"Hardcover\", \"subtitle\": \"9th November - 3rd December, 1992\", \"key\": \"/books/OL10000135M\", \"title\": \"Parliamentary Debates, House of Lords, Bound Volumes, 1992-93\", \"identifiers\": {\"goodreads\": [\"6850240\"]}, \"isbn_13\": [\"9780107805401\"], \"languages\": [{\"key\": \"/languages/eng\"}], \"number_of_pages\": 64, \"isbn_10\": [\"0107805405\"], \"publish_date\": \"December 1993\", \"last_modified\": {\"type\": \"/type/datetime\", \"value\": \"2010-04-24T17:54:01.503315\"}, \"authors\": [{\"key\": \"/authors/OL2645777A\"}], \"latest_revision\": 4, \"works\": [{\"key\": \"/works/OL7925046W\"}], \"type\": {\"key\": \"/type/edition\"}, \"subjects\": [\"Government - Comparative\", \"Politics / Current Events\"], \"revision\": 4}']"
      ]
     },
     "metadata": {},
     "execution_count": 38
    }
   ],
   "source": [
    "line.strip().split('\\t')"
   ]
  },
  {
   "source": [
    "We have five components with first four metadata not being useful (to us) as is the fifth JSON attribute. Lets draw attention into the fifth component!"
   ],
   "cell_type": "markdown",
   "metadata": {}
  },
  {
   "cell_type": "code",
   "execution_count": 39,
   "metadata": {},
   "outputs": [
    {
     "output_type": "stream",
     "name": "stdout",
     "text": [
      "{\n  \"publishers\": [\n    \"Bernan Press\"\n  ],\n  \"physical_format\": \"Hardcover\",\n  \"subtitle\": \"9th November - 3rd December, 1992\",\n  \"key\": \"/books/OL10000135M\",\n  \"title\": \"Parliamentary Debates, House of Lords, Bound Volumes, 1992-93\",\n  \"identifiers\": {\n    \"goodreads\": [\n      \"6850240\"\n    ]\n  },\n  \"isbn_13\": [\n    \"9780107805401\"\n  ],\n  \"languages\": [\n    {\n      \"key\": \"/languages/eng\"\n    }\n  ],\n  \"number_of_pages\": 64,\n  \"isbn_10\": [\n    \"0107805405\"\n  ],\n  \"publish_date\": \"December 1993\",\n  \"last_modified\": {\n    \"type\": \"/type/datetime\",\n    \"value\": \"2010-04-24T17:54:01.503315\"\n  },\n  \"authors\": [\n    {\n      \"key\": \"/authors/OL2645777A\"\n    }\n  ],\n  \"latest_revision\": 4,\n  \"works\": [\n    {\n      \"key\": \"/works/OL7925046W\"\n    }\n  ],\n  \"type\": {\n    \"key\": \"/type/edition\"\n  },\n  \"subjects\": [\n    \"Government - Comparative\",\n    \"Politics / Current Events\"\n  ],\n  \"revision\": 4\n}\n"
     ]
    }
   ],
   "source": [
    "import simplejson as json\n",
    "\n",
    "line = line.strip().split('\\t')\n",
    "\n",
    "print(json.dumps(json.loads(line[4]), indent=2))"
   ]
  },
  {
   "source": [
    "The progress looks promissing. From openlibrary [API docs](https://openlibrary.org/dev/docs/restful_api), with the attributes from edition data, we can read authors and book information. Take sometime to check the printout above against the [API guide](https://openlibrary.org/dev/docs/restful_api).  \n"
   ],
   "cell_type": "markdown",
   "metadata": {}
  },
  {
   "cell_type": "code",
   "execution_count": 17,
   "metadata": {},
   "outputs": [
    {
     "output_type": "stream",
     "name": "stdout",
     "text": [
      "[\n {\n  \"publishers\": [\n   \"Bernan Press\"\n  ],\n  \"physical_format\": \"Hardcover\",\n  \"subtitle\": \"9th November - 3rd December, 1992\",\n  \"title\": \"Parliamentary Debates, House of Lords, Bound Volumes, 1992-93\",\n  \"identifiers\": {\n   \"goodreads\": [\n    \"6850240\"\n   ]\n  },\n  \"isbn_13\": [\n   \"9780107805401\"\n  ],\n  \"languages\": [\n   {\n    \"key\": \"/languages/eng\"\n   }\n  ],\n  \"number_of_pages\": 64,\n  \"isbn_10\": [\n   \"0107805405\"\n  ],\n  \"publish_date\": \"December 1993\",\n  \"last_modified\": {\n   \"type\": \"/type/datetime\",\n   \"value\": \"2010-04-24T17:54:01.503315\"\n  },\n  \"authors\": [\n   {\n    \"name\": \"HMSO Books\",\n    \"last_modified\": {\n     \"type\": \"/type/datetime\",\n     \"value\": \"2008-04-29 13:35:46.87638\"\n    },\n    \"key\": \"/authors/OL2645777A\",\n    \"type\": {\n     \"key\": \"/type/author\"\n    },\n    \"id\": 9978471,\n    \"revision\": 1\n   }\n  ],\n  \"latest_revision\": 4,\n  \"subjects\": [\n   \"Government - Comparative\",\n   \"Politics / Current Events\"\n  ],\n  \"revision\": 4,\n  \"book\": {\n   \"publishers\": [\n    \"Bernan Press\"\n   ],\n   \"number_of_pages\": 64,\n   \"subtitle\": \"9th November - 3rd December, 1992\",\n   \"last_modified\": {\n    \"type\": \"/type/datetime\",\n    \"value\": \"2010-04-24T17:54:01.503315\"\n   },\n   \"title\": \"Parliamentary Debates, House of Lords, Bound Volumes, 1992-93\",\n   \"type\": {\n    \"key\": \"/type/edition\"\n   },\n   \"identifiers\": {\n    \"goodreads\": [\n     \"6850240\"\n    ]\n   },\n   \"isbn_13\": [\n    \"9780107805401\"\n   ],\n   \"languages\": [\n    {\n     \"key\": \"/languages/eng\"\n    }\n   ],\n   \"isbn_10\": [\n    \"0107805405\"\n   ],\n   \"publish_date\": \"December 1993\",\n   \"key\": \"/books/OL10000135M\",\n   \"authors\": [\n    {\n     \"key\": \"/authors/OL2645777A\"\n    }\n   ],\n   \"latest_revision\": 4,\n   \"works\": [\n    {\n     \"key\": \"/works/OL7925046W\"\n    }\n   ],\n   \"physical_format\": \"Hardcover\",\n   \"subjects\": [\n    \"Government - Comparative\",\n    \"Politics / Current Events\"\n   ],\n   \"revision\": 4\n  },\n  \"id\": \"OL10000135M\"\n },\n {\n  \"publishers\": [\n   \"Stationery Office\"\n  ],\n  \"physical_format\": \"Hardcover\",\n  \"subtitle\": \"26 January - 4 February 1998\",\n  \"title\": \"Parliamentary Debates, House of Lords, 1997-98\",\n  \"isbn_10\": [\n   \"0107805855\"\n  ],\n  \"identifiers\": {\n   \"goodreads\": [\n    \"2862283\"\n   ]\n  },\n  \"isbn_13\": [\n   \"9780107805852\"\n  ],\n  \"edition_name\": \"5th edition\",\n  \"languages\": [\n   {\n    \"key\": \"/languages/eng\"\n   }\n  ],\n  \"number_of_pages\": 124,\n  \"last_modified\": {\n   \"type\": \"/type/datetime\",\n   \"value\": \"2010-04-24T17:54:01.503315\"\n  },\n  \"latest_revision\": 4,\n  \"authors\": [\n   {\n    \"name\": \"Tso\",\n    \"last_modified\": {\n     \"type\": \"/type/datetime\",\n     \"value\": \"2008-04-29 13:35:46.87638\"\n    },\n    \"key\": \"/authors/OL2645811A\",\n    \"type\": {\n     \"key\": \"/type/author\"\n    },\n    \"id\": 9978075,\n    \"revision\": 1\n   }\n  ],\n  \"publish_date\": \"January 1999\",\n  \"subjects\": [\n   \"Bibliographies, catalogues, discographies\",\n   \"POLITICS & GOVERNMENT\",\n   \"Reference works\",\n   \"Bibliographies & Indexes\",\n   \"Reference\"\n  ],\n  \"revision\": 4,\n  \"book\": {\n   \"publishers\": [\n    \"Stationery Office\"\n   ],\n   \"number_of_pages\": 124,\n   \"subtitle\": \"26 January - 4 February 1998\",\n   \"key\": \"/books/OL10000179M\",\n   \"title\": \"Parliamentary Debates, House of Lords, 1997-98\",\n   \"type\": {\n    \"key\": \"/type/edition\"\n   },\n   \"identifiers\": {\n    \"goodreads\": [\n     \"2862283\"\n    ]\n   },\n   \"isbn_13\": [\n    \"9780107805852\"\n   ],\n   \"edition_name\": \"5th edition\",\n   \"languages\": [\n    {\n     \"key\": \"/languages/eng\"\n    }\n   ],\n   \"isbn_10\": [\n    \"0107805855\"\n   ],\n   \"latest_revision\": 4,\n   \"last_modified\": {\n    \"type\": \"/type/datetime\",\n    \"value\": \"2010-04-24T17:54:01.503315\"\n   },\n   \"authors\": [\n    {\n     \"key\": \"/authors/OL2645811A\"\n    }\n   ],\n   \"publish_date\": \"January 1999\",\n   \"works\": [\n    {\n     \"key\": \"/works/OL7925994W\"\n    }\n   ],\n   \"physical_format\": \"Hardcover\",\n   \"subjects\": [\n    \"Bibliographies, catalogues, discographies\",\n    \"POLITICS & GOVERNMENT\",\n    \"Reference works\",\n    \"Bibliographies & Indexes\",\n    \"Reference\"\n   ],\n   \"revision\": 4\n  },\n  \"id\": \"OL10000179M\"\n },\n {\n  \"publishers\": [\n   \"Stationery Office Books\"\n  ],\n  \"physical_format\": \"Paperback\",\n  \"created\": {\n   \"type\": \"/type/datetime\",\n   \"value\": \"2008-04-30T09:38:13.731961\"\n  },\n  \"oclc_numbers\": [\n   \"314807776\"\n  ],\n  \"number_of_pages\": 12,\n  \"isbn_13\": [\n   \"9780108360374\"\n  ],\n  \"isbn_10\": [\n   \"0108360377\"\n  ],\n  \"publish_date\": \"July 1997\",\n  \"last_modified\": {\n   \"type\": \"/type/datetime\",\n   \"value\": \"2019-11-11T05:58:29.442660\"\n  },\n  \"authors\": [\n   {\n    \"bio\": {\n     \"type\": \"/type/text\",\n     \"value\": \"A U.S. publisher, renowned for its offerings of cartographic material (such as atlases, maps and globes). William Rand and Andrew McNally, the people that the company is named after, founded it in Chicago in 1856.\"\n    },\n    \"name\": \"Rand McNally\",\n    \"links\": [\n     {\n      \"url\": \"http://randmcnally.com\",\n      \"type\": {\n       \"key\": \"/type/link\"\n      },\n      \"title\": \"Official site\"\n     },\n     {\n      \"url\": \"http://en.wikipedia.org/wiki/Rand_McNally\",\n      \"type\": {\n       \"key\": \"/type/link\"\n      },\n      \"title\": \"Wikipedia\"\n     }\n    ],\n    \"personal_name\": \"McNally & co. [from old catalog] Rand\",\n    \"created\": {\n     \"type\": \"/type/datetime\",\n     \"value\": \"2008-04-29T13:35:46.876380\"\n    },\n    \"alternate_names\": [\n     \"Rand Mcnally\",\n     \"Rand McNally & Company\",\n     \"Rand McNally and Company\",\n     \"Rand Mcnally & Company\",\n     \"Rand McNally Staff\",\n     \"Rand McNally.\",\n     \"Rand McNally Inc.\",\n     \"Rand McNally Editors\",\n     \"McNally & co Rand\",\n     \"McNally Rand\",\n     \"Rand McNally and Company.\",\n     \"Rand McNally & Co.\",\n     \"Rand McNally Co.\",\n     \"Rand McNally & Co\",\n     \"Rand McNally & Company.\",\n     \"Rand McNally Corp\",\n     \"Rand McNally, Inc.\",\n     \"Rand McNally Editord\",\n     \"Rand McNally Company\",\n     \"RandMcNally and Company.\",\n     \"McNally & company Rand\",\n     \"Rand McNally and Compay\",\n     \"Inc Rand McNally\",\n     \"Rand, McNally & co., pub\",\n     \"Rand, McNally and Company.\",\n     \"RAND McNALLY & COMPANY.\",\n     \"Rand mcNally & company.\"\n    ],\n    \"last_modified\": {\n     \"type\": \"/type/datetime\",\n     \"value\": \"2017-12-30T08:31:38.671149\"\n    },\n    \"latest_revision\": 5,\n    \"key\": \"/authors/OL2656742A\",\n    \"birth_date\": \"1856\",\n    \"type\": {\n     \"key\": \"/type/author\"\n    },\n    \"revision\": 5\n   }\n  ],\n  \"title\": \"Local Government (Contracts) Bill (House of Lords Bills)\",\n  \"latest_revision\": 4,\n  \"subjects\": [\n   \"English law: contract law\"\n  ],\n  \"revision\": 4,\n  \"book\": {\n   \"publishers\": [\n    \"Stationery Office Books\"\n   ],\n   \"physical_format\": \"Paperback\",\n   \"last_modified\": {\n    \"type\": \"/type/datetime\",\n    \"value\": \"2019-11-11T05:58:29.442660\"\n   },\n   \"title\": \"Local Government (Contracts) Bill (House of Lords Bills)\",\n   \"number_of_pages\": 12,\n   \"created\": {\n    \"type\": \"/type/datetime\",\n    \"value\": \"2008-04-30T09:38:13.731961\"\n   },\n   \"isbn_13\": [\n    \"9780108360374\"\n   ],\n   \"isbn_10\": [\n    \"0108360377\"\n   ],\n   \"publish_date\": \"July 1997\",\n   \"key\": \"/books/OL10000276M\",\n   \"authors\": [\n    {\n     \"key\": \"/authors/OL2656742A\"\n    }\n   ],\n   \"latest_revision\": 4,\n   \"oclc_numbers\": [\n    \"314807776\"\n   ],\n   \"works\": [\n    {\n     \"key\": \"/works/OL14889681W\"\n    }\n   ],\n   \"type\": {\n    \"key\": \"/type/edition\"\n   },\n   \"subjects\": [\n    \"English law: contract law\"\n   ],\n   \"revision\": 4\n  },\n  \"id\": \"OL10000276M\"\n },\n {\n  \"number_of_pages\": 19,\n  \"series\": [\n   \"Resources for parenting\",\n   \"Johnson Institute resources for parenting.\"\n  ],\n  \"covers\": [\n   3857213\n  ],\n  \"lc_classifications\": [\n   \"HQ784.V55 R45 1997\"\n  ],\n  \"latest_revision\": 4,\n  \"title\": \"Helping kids resolve conflicts without violence\",\n  \"languages\": [\n   {\n    \"key\": \"/languages/eng\"\n   }\n  ],\n  \"subjects\": [\n   \"Violence in children -- Prevention.\",\n   \"Children and violence.\",\n   \"Conflict management.\"\n  ],\n  \"publish_country\": \"mnu\",\n  \"by_statement\": \"Carole Remboldt.\",\n  \"revision\": 4,\n  \"publishers\": [\n   \"Johnson Institute\"\n  ],\n  \"last_modified\": {\n   \"type\": \"/type/datetime\",\n   \"value\": \"2010-04-15T13:55:56.096159\"\n  },\n  \"authors\": [\n   {\n    \"name\": \"Carole Remboldt\",\n    \"personal_name\": \"Carole Remboldt\",\n    \"last_modified\": {\n     \"type\": \"/type/datetime\",\n     \"value\": \"2008-08-31 10:17:04.455369\"\n    },\n    \"key\": \"/authors/OL454282A\",\n    \"type\": {\n     \"key\": \"/type/author\"\n    },\n    \"id\": 1261787,\n    \"revision\": 2\n   }\n  ],\n  \"publish_places\": [\n   \"Minneapolis, MN\"\n  ],\n  \"pagination\": \"19 p. ;\",\n  \"created\": {\n   \"type\": \"/type/datetime\",\n   \"value\": \"2008-04-01T03:28:50.625462\"\n  },\n  \"dewey_decimal_class\": [\n   \"303.6/9\"\n  ],\n  \"notes\": {\n   \"type\": \"/type/text\",\n   \"value\": \"Filmography: p. 18-19.\\nIncludes bibliographical references (p. 17-18).\"\n  },\n  \"identifiers\": {\n   \"goodreads\": [\n    \"3140331\"\n   ]\n  },\n  \"lccn\": [\n   \"96038951\"\n  ],\n  \"isbn_10\": [\n   \"1562461397\"\n  ],\n  \"publish_date\": \"1997\",\n  \"book\": {\n   \"identifiers\": {\n    \"goodreads\": [\n     \"3140331\"\n    ]\n   },\n   \"series\": [\n    \"Resources for parenting\",\n    \"Johnson Institute resources for parenting.\"\n   ],\n   \"covers\": [\n    3857213\n   ],\n   \"lc_classifications\": [\n    \"HQ784.V55 R45 1997\"\n   ],\n   \"latest_revision\": 4,\n   \"id\": 1540926,\n   \"title\": \"Helping kids resolve conflicts without violence\",\n   \"languages\": [\n    {\n     \"key\": \"/languages/eng\"\n    }\n   ],\n   \"subjects\": [\n    \"Violence in children -- Prevention.\",\n    \"Children and violence.\",\n    \"Conflict management.\"\n   ],\n   \"publish_country\": \"mnu\",\n   \"by_statement\": \"Carole Remboldt.\",\n   \"type\": {\n    \"key\": \"/type/edition\"\n   },\n   \"revision\": 4,\n   \"publishers\": [\n    \"Johnson Institute\"\n   ],\n   \"last_modified\": {\n    \"type\": \"/type/datetime\",\n    \"value\": \"2010-04-15T13:55:56.096159\"\n   },\n   \"key\": \"/books/OL1000071M\",\n   \"authors\": [\n    {\n     \"key\": \"/authors/OL454282A\"\n    }\n   ],\n   \"publish_places\": [\n    \"Minneapolis, MN\"\n   ],\n   \"pagination\": \"19 p. ;\",\n   \"created\": {\n    \"type\": \"/type/datetime\",\n    \"value\": \"2008-04-01T03:28:50.625462\"\n   },\n   \"dewey_decimal_class\": [\n    \"303.6/9\"\n   ],\n   \"notes\": {\n    \"type\": \"/type/text\",\n    \"value\": \"Filmography: p. 18-19.\\nIncludes bibliographical references (p. 17-18).\"\n   },\n   \"number_of_pages\": 19,\n   \"lccn\": [\n    \"96038951\"\n   ],\n   \"isbn_10\": [\n    \"1562461397\"\n   ],\n   \"publish_date\": \"1997\",\n   \"works\": [\n    {\n     \"key\": \"/works/OL2971512W\"\n    }\n   ]\n  },\n  \"id\": \"OL1000071M\"\n },\n {\n  \"publishers\": [\n   \"Stationery Office Books\"\n  ],\n  \"physical_format\": \"Paperback\",\n  \"created\": {\n   \"type\": \"/type/datetime\",\n   \"value\": \"2008-04-30T09:38:13.731961\"\n  },\n  \"oclc_numbers\": [\n   \"315341122\"\n  ],\n  \"number_of_pages\": 4,\n  \"isbn_13\": [\n   \"9780108380280\"\n  ],\n  \"isbn_10\": [\n   \"0108380289\"\n  ],\n  \"publish_date\": \"March 1999\",\n  \"last_modified\": {\n   \"type\": \"/type/datetime\",\n   \"value\": \"2019-11-11T06:03:04.907856\"\n  },\n  \"authors\": [\n   {\n    \"bio\": {\n     \"type\": \"/type/text\",\n     \"value\": \"A U.S. publisher, renowned for its offerings of cartographic material (such as atlases, maps and globes). William Rand and Andrew McNally, the people that the company is named after, founded it in Chicago in 1856.\"\n    },\n    \"name\": \"Rand McNally\",\n    \"links\": [\n     {\n      \"url\": \"http://randmcnally.com\",\n      \"type\": {\n       \"key\": \"/type/link\"\n      },\n      \"title\": \"Official site\"\n     },\n     {\n      \"url\": \"http://en.wikipedia.org/wiki/Rand_McNally\",\n      \"type\": {\n       \"key\": \"/type/link\"\n      },\n      \"title\": \"Wikipedia\"\n     }\n    ],\n    \"personal_name\": \"McNally & co. [from old catalog] Rand\",\n    \"created\": {\n     \"type\": \"/type/datetime\",\n     \"value\": \"2008-04-29T13:35:46.876380\"\n    },\n    \"alternate_names\": [\n     \"Rand Mcnally\",\n     \"Rand McNally & Company\",\n     \"Rand McNally and Company\",\n     \"Rand Mcnally & Company\",\n     \"Rand McNally Staff\",\n     \"Rand McNally.\",\n     \"Rand McNally Inc.\",\n     \"Rand McNally Editors\",\n     \"McNally & co Rand\",\n     \"McNally Rand\",\n     \"Rand McNally and Company.\",\n     \"Rand McNally & Co.\",\n     \"Rand McNally Co.\",\n     \"Rand McNally & Co\",\n     \"Rand McNally & Company.\",\n     \"Rand McNally Corp\",\n     \"Rand McNally, Inc.\",\n     \"Rand McNally Editord\",\n     \"Rand McNally Company\",\n     \"RandMcNally and Company.\",\n     \"McNally & company Rand\",\n     \"Rand McNally and Compay\",\n     \"Inc Rand McNally\",\n     \"Rand, McNally & co., pub\",\n     \"Rand, McNally and Company.\",\n     \"RAND McNALLY & COMPANY.\",\n     \"Rand mcNally & company.\"\n    ],\n    \"last_modified\": {\n     \"type\": \"/type/datetime\",\n     \"value\": \"2017-12-30T08:31:38.671149\"\n    },\n    \"latest_revision\": 5,\n    \"key\": \"/authors/OL2656742A\",\n    \"birth_date\": \"1856\",\n    \"type\": {\n     \"key\": \"/type/author\"\n    },\n    \"revision\": 5\n   }\n  ],\n  \"title\": \"Scottish Enterprise Bill (House of Lords Bills)\",\n  \"latest_revision\": 4,\n  \"subjects\": [\n   \"Laws of Other Jurisdictions & General Law\"\n  ],\n  \"revision\": 4,\n  \"book\": {\n   \"publishers\": [\n    \"Stationery Office Books\"\n   ],\n   \"physical_format\": \"Paperback\",\n   \"last_modified\": {\n    \"type\": \"/type/datetime\",\n    \"value\": \"2019-11-11T06:03:04.907856\"\n   },\n   \"title\": \"Scottish Enterprise Bill (House of Lords Bills)\",\n   \"number_of_pages\": 4,\n   \"created\": {\n    \"type\": \"/type/datetime\",\n    \"value\": \"2008-04-30T09:38:13.731961\"\n   },\n   \"isbn_13\": [\n    \"9780108380280\"\n   ],\n   \"isbn_10\": [\n    \"0108380289\"\n   ],\n   \"publish_date\": \"March 1999\",\n   \"key\": \"/books/OL10001086M\",\n   \"authors\": [\n    {\n     \"key\": \"/authors/OL2656742A\"\n    }\n   ],\n   \"latest_revision\": 4,\n   \"oclc_numbers\": [\n    \"315341122\"\n   ],\n   \"works\": [\n    {\n     \"key\": \"/works/OL14901366W\"\n    }\n   ],\n   \"type\": {\n    \"key\": \"/type/edition\"\n   },\n   \"subjects\": [\n    \"Laws of Other Jurisdictions & General Law\"\n   ],\n   \"revision\": 4\n  },\n  \"id\": \"OL10001086M\"\n },\n {\n  \"publishers\": [\n   \"Stationery Office Books\"\n  ],\n  \"created\": {\n   \"type\": \"/type/datetime\",\n   \"value\": \"2008-04-30T09:38:13.731961\"\n  },\n  \"number_of_pages\": 84,\n  \"isbn_13\": [\n   \"9780108380723\"\n  ],\n  \"physical_format\": \"Paperback\",\n  \"isbn_10\": [\n   \"0108380726\"\n  ],\n  \"publish_date\": \"July 2, 1999\",\n  \"last_modified\": {\n   \"type\": \"/type/datetime\",\n   \"value\": \"2019-11-11T06:03:05.353248\"\n  },\n  \"authors\": [\n   {\n    \"bio\": {\n     \"type\": \"/type/text\",\n     \"value\": \"A U.S. publisher, renowned for its offerings of cartographic material (such as atlases, maps and globes). William Rand and Andrew McNally, the people that the company is named after, founded it in Chicago in 1856.\"\n    },\n    \"name\": \"Rand McNally\",\n    \"links\": [\n     {\n      \"url\": \"http://randmcnally.com\",\n      \"type\": {\n       \"key\": \"/type/link\"\n      },\n      \"title\": \"Official site\"\n     },\n     {\n      \"url\": \"http://en.wikipedia.org/wiki/Rand_McNally\",\n      \"type\": {\n       \"key\": \"/type/link\"\n      },\n      \"title\": \"Wikipedia\"\n     }\n    ],\n    \"personal_name\": \"McNally & co. [from old catalog] Rand\",\n    \"created\": {\n     \"type\": \"/type/datetime\",\n     \"value\": \"2008-04-29T13:35:46.876380\"\n    },\n    \"alternate_names\": [\n     \"Rand Mcnally\",\n     \"Rand McNally & Company\",\n     \"Rand McNally and Company\",\n     \"Rand Mcnally & Company\",\n     \"Rand McNally Staff\",\n     \"Rand McNally.\",\n     \"Rand McNally Inc.\",\n     \"Rand McNally Editors\",\n     \"McNally & co Rand\",\n     \"McNally Rand\",\n     \"Rand McNally and Company.\",\n     \"Rand McNally & Co.\",\n     \"Rand McNally Co.\",\n     \"Rand McNally & Co\",\n     \"Rand McNally & Company.\",\n     \"Rand McNally Corp\",\n     \"Rand McNally, Inc.\",\n     \"Rand McNally Editord\",\n     \"Rand McNally Company\",\n     \"RandMcNally and Company.\",\n     \"McNally & company Rand\",\n     \"Rand McNally and Compay\",\n     \"Inc Rand McNally\",\n     \"Rand, McNally & co., pub\",\n     \"Rand, McNally and Company.\",\n     \"RAND McNALLY & COMPANY.\",\n     \"Rand mcNally & company.\"\n    ],\n    \"last_modified\": {\n     \"type\": \"/type/datetime\",\n     \"value\": \"2017-12-30T08:31:38.671149\"\n    },\n    \"latest_revision\": 5,\n    \"key\": \"/authors/OL2656742A\",\n    \"birth_date\": \"1856\",\n    \"type\": {\n     \"key\": \"/type/author\"\n    },\n    \"revision\": 5\n   }\n  ],\n  \"title\": \"Access to Justice Bill [H.L.]\",\n  \"latest_revision\": 4,\n  \"oclc_numbers\": [\n   \"315341156\"\n  ],\n  \"revision\": 4,\n  \"book\": {\n   \"publishers\": [\n    \"Stationery Office Books\"\n   ],\n   \"physical_format\": \"Paperback\",\n   \"last_modified\": {\n    \"type\": \"/type/datetime\",\n    \"value\": \"2019-11-11T06:03:05.353248\"\n   },\n   \"title\": \"Access to Justice Bill [H.L.]\",\n   \"number_of_pages\": 84,\n   \"created\": {\n    \"type\": \"/type/datetime\",\n    \"value\": \"2008-04-30T09:38:13.731961\"\n   },\n   \"isbn_13\": [\n    \"9780108380723\"\n   ],\n   \"isbn_10\": [\n    \"0108380726\"\n   ],\n   \"publish_date\": \"July 2, 1999\",\n   \"key\": \"/books/OL10001129M\",\n   \"authors\": [\n    {\n     \"key\": \"/authors/OL2656742A\"\n    }\n   ],\n   \"latest_revision\": 4,\n   \"oclc_numbers\": [\n    \"315341156\"\n   ],\n   \"works\": [\n    {\n     \"key\": \"/works/OL14903239W\"\n    }\n   ],\n   \"type\": {\n    \"key\": \"/type/edition\"\n   },\n   \"revision\": 4\n  },\n  \"id\": \"OL10001129M\"\n },\n {\n  \"publishers\": [\n   \"Stationery Office Books\"\n  ],\n  \"created\": {\n   \"type\": \"/type/datetime\",\n   \"value\": \"2008-04-30T09:38:13.731961\"\n  },\n  \"number_of_pages\": 24,\n  \"isbn_13\": [\n   \"9780108383519\"\n  ],\n  \"physical_format\": \"Paperback\",\n  \"isbn_10\": [\n   \"0108383512\"\n  ],\n  \"publish_date\": \"February 4, 1999\",\n  \"last_modified\": {\n   \"type\": \"/type/datetime\",\n   \"value\": \"2019-11-11T06:03:05.735439\"\n  },\n  \"authors\": [\n   {\n    \"bio\": {\n     \"type\": \"/type/text\",\n     \"value\": \"A U.S. publisher, renowned for its offerings of cartographic material (such as atlases, maps and globes). William Rand and Andrew McNally, the people that the company is named after, founded it in Chicago in 1856.\"\n    },\n    \"name\": \"Rand McNally\",\n    \"links\": [\n     {\n      \"url\": \"http://randmcnally.com\",\n      \"type\": {\n       \"key\": \"/type/link\"\n      },\n      \"title\": \"Official site\"\n     },\n     {\n      \"url\": \"http://en.wikipedia.org/wiki/Rand_McNally\",\n      \"type\": {\n       \"key\": \"/type/link\"\n      },\n      \"title\": \"Wikipedia\"\n     }\n    ],\n    \"personal_name\": \"McNally & co. [from old catalog] Rand\",\n    \"created\": {\n     \"type\": \"/type/datetime\",\n     \"value\": \"2008-04-29T13:35:46.876380\"\n    },\n    \"alternate_names\": [\n     \"Rand Mcnally\",\n     \"Rand McNally & Company\",\n     \"Rand McNally and Company\",\n     \"Rand Mcnally & Company\",\n     \"Rand McNally Staff\",\n     \"Rand McNally.\",\n     \"Rand McNally Inc.\",\n     \"Rand McNally Editors\",\n     \"McNally & co Rand\",\n     \"McNally Rand\",\n     \"Rand McNally and Company.\",\n     \"Rand McNally & Co.\",\n     \"Rand McNally Co.\",\n     \"Rand McNally & Co\",\n     \"Rand McNally & Company.\",\n     \"Rand McNally Corp\",\n     \"Rand McNally, Inc.\",\n     \"Rand McNally Editord\",\n     \"Rand McNally Company\",\n     \"RandMcNally and Company.\",\n     \"McNally & company Rand\",\n     \"Rand McNally and Compay\",\n     \"Inc Rand McNally\",\n     \"Rand, McNally & co., pub\",\n     \"Rand, McNally and Company.\",\n     \"RAND McNALLY & COMPANY.\",\n     \"Rand mcNally & company.\"\n    ],\n    \"last_modified\": {\n     \"type\": \"/type/datetime\",\n     \"value\": \"2017-12-30T08:31:38.671149\"\n    },\n    \"latest_revision\": 5,\n    \"key\": \"/authors/OL2656742A\",\n    \"birth_date\": \"1856\",\n    \"type\": {\n     \"key\": \"/type/author\"\n    },\n    \"revision\": 5\n   }\n  ],\n  \"title\": \"Access to Justice Bill [H.L.]\",\n  \"latest_revision\": 4,\n  \"oclc_numbers\": [\n   \"315341156\"\n  ],\n  \"revision\": 4,\n  \"book\": {\n   \"publishers\": [\n    \"Stationery Office Books\"\n   ],\n   \"physical_format\": \"Paperback\",\n   \"last_modified\": {\n    \"type\": \"/type/datetime\",\n    \"value\": \"2019-11-11T06:03:05.735439\"\n   },\n   \"title\": \"Access to Justice Bill [H.L.]\",\n   \"number_of_pages\": 24,\n   \"created\": {\n    \"type\": \"/type/datetime\",\n    \"value\": \"2008-04-30T09:38:13.731961\"\n   },\n   \"isbn_13\": [\n    \"9780108383519\"\n   ],\n   \"isbn_10\": [\n    \"0108383512\"\n   ],\n   \"publish_date\": \"February 4, 1999\",\n   \"key\": \"/books/OL10001165M\",\n   \"authors\": [\n    {\n     \"key\": \"/authors/OL2656742A\"\n    }\n   ],\n   \"latest_revision\": 4,\n   \"oclc_numbers\": [\n    \"315341156\"\n   ],\n   \"works\": [\n    {\n     \"key\": \"/works/OL14903239W\"\n    }\n   ],\n   \"type\": {\n    \"key\": \"/type/edition\"\n   },\n   \"revision\": 4\n  },\n  \"id\": \"OL10001165M\"\n },\n {\n  \"publishers\": [\n   \"Stationery Office Books\"\n  ],\n  \"physical_format\": \"Paperback\",\n  \"source_records\": [\n   \"amazon:0108385140\"\n  ],\n  \"title\": \"Tax Credits Bill\",\n  \"number_of_pages\": 4,\n  \"created\": {\n   \"type\": \"/type/datetime\",\n   \"value\": \"2008-04-30T09:38:13.731961\"\n  },\n  \"isbn_13\": [\n   \"9780108385148\"\n  ],\n  \"isbn_10\": [\n   \"0108385140\"\n  ],\n  \"publish_date\": \"May 28, 1999\",\n  \"last_modified\": {\n   \"type\": \"/type/datetime\",\n   \"value\": \"2019-09-09T00:54:22.454325\"\n  },\n  \"authors\": [\n   {\n    \"bio\": {\n     \"type\": \"/type/text\",\n     \"value\": \"A U.S. publisher, renowned for its offerings of cartographic material (such as atlases, maps and globes). William Rand and Andrew McNally, the people that the company is named after, founded it in Chicago in 1856.\"\n    },\n    \"name\": \"Rand McNally\",\n    \"links\": [\n     {\n      \"url\": \"http://randmcnally.com\",\n      \"type\": {\n       \"key\": \"/type/link\"\n      },\n      \"title\": \"Official site\"\n     },\n     {\n      \"url\": \"http://en.wikipedia.org/wiki/Rand_McNally\",\n      \"type\": {\n       \"key\": \"/type/link\"\n      },\n      \"title\": \"Wikipedia\"\n     }\n    ],\n    \"personal_name\": \"McNally & co. [from old catalog] Rand\",\n    \"created\": {\n     \"type\": \"/type/datetime\",\n     \"value\": \"2008-04-29T13:35:46.876380\"\n    },\n    \"alternate_names\": [\n     \"Rand Mcnally\",\n     \"Rand McNally & Company\",\n     \"Rand McNally and Company\",\n     \"Rand Mcnally & Company\",\n     \"Rand McNally Staff\",\n     \"Rand McNally.\",\n     \"Rand McNally Inc.\",\n     \"Rand McNally Editors\",\n     \"McNally & co Rand\",\n     \"McNally Rand\",\n     \"Rand McNally and Company.\",\n     \"Rand McNally & Co.\",\n     \"Rand McNally Co.\",\n     \"Rand McNally & Co\",\n     \"Rand McNally & Company.\",\n     \"Rand McNally Corp\",\n     \"Rand McNally, Inc.\",\n     \"Rand McNally Editord\",\n     \"Rand McNally Company\",\n     \"RandMcNally and Company.\",\n     \"McNally & company Rand\",\n     \"Rand McNally and Compay\",\n     \"Inc Rand McNally\",\n     \"Rand, McNally & co., pub\",\n     \"Rand, McNally and Company.\",\n     \"RAND McNALLY & COMPANY.\",\n     \"Rand mcNally & company.\"\n    ],\n    \"last_modified\": {\n     \"type\": \"/type/datetime\",\n     \"value\": \"2017-12-30T08:31:38.671149\"\n    },\n    \"latest_revision\": 5,\n    \"key\": \"/authors/OL2656742A\",\n    \"birth_date\": \"1856\",\n    \"type\": {\n     \"key\": \"/type/author\"\n    },\n    \"revision\": 5\n   }\n  ],\n  \"latest_revision\": 4,\n  \"oclc_numbers\": [\n   \"315361052\"\n  ],\n  \"revision\": 4,\n  \"book\": {\n   \"publishers\": [\n    \"Stationery Office Books\"\n   ],\n   \"physical_format\": \"Paperback\",\n   \"source_records\": [\n    \"amazon:0108385140\"\n   ],\n   \"title\": \"Tax Credits Bill\",\n   \"number_of_pages\": 4,\n   \"last_modified\": {\n    \"type\": \"/type/datetime\",\n    \"value\": \"2019-09-09T00:54:22.454325\"\n   },\n   \"created\": {\n    \"type\": \"/type/datetime\",\n    \"value\": \"2008-04-30T09:38:13.731961\"\n   },\n   \"isbn_13\": [\n    \"9780108385148\"\n   ],\n   \"isbn_10\": [\n    \"0108385140\"\n   ],\n   \"publish_date\": \"May 28, 1999\",\n   \"key\": \"/books/OL10001323M\",\n   \"authors\": [\n    {\n     \"key\": \"/authors/OL2656742A\"\n    }\n   ],\n   \"latest_revision\": 4,\n   \"oclc_numbers\": [\n    \"315361052\"\n   ],\n   \"works\": [\n    {\n     \"key\": \"/works/OL14903211W\"\n    }\n   ],\n   \"type\": {\n    \"key\": \"/type/edition\"\n   },\n   \"revision\": 4\n  },\n  \"id\": \"OL10001323M\"\n },\n {\n  \"publishers\": [\n   \"Stationery Office Books\"\n  ],\n  \"created\": {\n   \"type\": \"/type/datetime\",\n   \"value\": \"2008-04-30T09:38:13.731961\"\n  },\n  \"number_of_pages\": 4,\n  \"isbn_13\": [\n   \"9780108738838\"\n  ],\n  \"physical_format\": \"Paperback\",\n  \"isbn_10\": [\n   \"0108738833\"\n  ],\n  \"publish_date\": \"December 31, 1992\",\n  \"last_modified\": {\n   \"type\": \"/type/datetime\",\n   \"value\": \"2019-11-11T06:05:58.896168\"\n  },\n  \"authors\": [\n   {\n    \"bio\": {\n     \"type\": \"/type/text\",\n     \"value\": \"A U.S. publisher, renowned for its offerings of cartographic material (such as atlases, maps and globes). William Rand and Andrew McNally, the people that the company is named after, founded it in Chicago in 1856.\"\n    },\n    \"name\": \"Rand McNally\",\n    \"links\": [\n     {\n      \"url\": \"http://randmcnally.com\",\n      \"type\": {\n       \"key\": \"/type/link\"\n      },\n      \"title\": \"Official site\"\n     },\n     {\n      \"url\": \"http://en.wikipedia.org/wiki/Rand_McNally\",\n      \"type\": {\n       \"key\": \"/type/link\"\n      },\n      \"title\": \"Wikipedia\"\n     }\n    ],\n    \"personal_name\": \"McNally & co. [from old catalog] Rand\",\n    \"created\": {\n     \"type\": \"/type/datetime\",\n     \"value\": \"2008-04-29T13:35:46.876380\"\n    },\n    \"alternate_names\": [\n     \"Rand Mcnally\",\n     \"Rand McNally & Company\",\n     \"Rand McNally and Company\",\n     \"Rand Mcnally & Company\",\n     \"Rand McNally Staff\",\n     \"Rand McNally.\",\n     \"Rand McNally Inc.\",\n     \"Rand McNally Editors\",\n     \"McNally & co Rand\",\n     \"McNally Rand\",\n     \"Rand McNally and Company.\",\n     \"Rand McNally & Co.\",\n     \"Rand McNally Co.\",\n     \"Rand McNally & Co\",\n     \"Rand McNally & Company.\",\n     \"Rand McNally Corp\",\n     \"Rand McNally, Inc.\",\n     \"Rand McNally Editord\",\n     \"Rand McNally Company\",\n     \"RandMcNally and Company.\",\n     \"McNally & company Rand\",\n     \"Rand McNally and Compay\",\n     \"Inc Rand McNally\",\n     \"Rand, McNally & co., pub\",\n     \"Rand, McNally and Company.\",\n     \"RAND McNALLY & COMPANY.\",\n     \"Rand mcNally & company.\"\n    ],\n    \"last_modified\": {\n     \"type\": \"/type/datetime\",\n     \"value\": \"2017-12-30T08:31:38.671149\"\n    },\n    \"latest_revision\": 5,\n    \"key\": \"/authors/OL2656742A\",\n    \"birth_date\": \"1856\",\n    \"type\": {\n     \"key\": \"/type/author\"\n    },\n    \"revision\": 5\n   }\n  ],\n  \"title\": \"British Coal and British Rail (Transfer Proposals) Bill\",\n  \"latest_revision\": 3,\n  \"revision\": 3,\n  \"book\": {\n   \"publishers\": [\n    \"Stationery Office Books\"\n   ],\n   \"physical_format\": \"Paperback\",\n   \"last_modified\": {\n    \"type\": \"/type/datetime\",\n    \"value\": \"2019-11-11T06:05:58.896168\"\n   },\n   \"title\": \"British Coal and British Rail (Transfer Proposals) Bill\",\n   \"number_of_pages\": 4,\n   \"created\": {\n    \"type\": \"/type/datetime\",\n    \"value\": \"2008-04-30T09:38:13.731961\"\n   },\n   \"isbn_13\": [\n    \"9780108738838\"\n   ],\n   \"isbn_10\": [\n    \"0108738833\"\n   ],\n   \"publish_date\": \"December 31, 1992\",\n   \"key\": \"/books/OL10002595M\",\n   \"authors\": [\n    {\n     \"key\": \"/authors/OL2656742A\"\n    }\n   ],\n   \"latest_revision\": 3,\n   \"works\": [\n    {\n     \"key\": \"/works/OL14899858W\"\n    }\n   ],\n   \"type\": {\n    \"key\": \"/type/edition\"\n   },\n   \"revision\": 3\n  },\n  \"id\": \"OL10002595M\"\n },\n {\n  \"publishers\": [\n   \"Stationery Office Books\"\n  ],\n  \"created\": {\n   \"type\": \"/type/datetime\",\n   \"value\": \"2008-04-30T09:38:13.731961\"\n  },\n  \"number_of_pages\": 24,\n  \"isbn_13\": [\n   \"9780108739453\"\n  ],\n  \"physical_format\": \"Paperback\",\n  \"isbn_10\": [\n   \"0108739457\"\n  ],\n  \"publish_date\": \"May 19, 1995\",\n  \"last_modified\": {\n   \"type\": \"/type/datetime\",\n   \"value\": \"2019-11-11T06:05:59.341916\"\n  },\n  \"authors\": [\n   {\n    \"bio\": {\n     \"type\": \"/type/text\",\n     \"value\": \"A U.S. publisher, renowned for its offerings of cartographic material (such as atlases, maps and globes). William Rand and Andrew McNally, the people that the company is named after, founded it in Chicago in 1856.\"\n    },\n    \"name\": \"Rand McNally\",\n    \"links\": [\n     {\n      \"url\": \"http://randmcnally.com\",\n      \"type\": {\n       \"key\": \"/type/link\"\n      },\n      \"title\": \"Official site\"\n     },\n     {\n      \"url\": \"http://en.wikipedia.org/wiki/Rand_McNally\",\n      \"type\": {\n       \"key\": \"/type/link\"\n      },\n      \"title\": \"Wikipedia\"\n     }\n    ],\n    \"personal_name\": \"McNally & co. [from old catalog] Rand\",\n    \"created\": {\n     \"type\": \"/type/datetime\",\n     \"value\": \"2008-04-29T13:35:46.876380\"\n    },\n    \"alternate_names\": [\n     \"Rand Mcnally\",\n     \"Rand McNally & Company\",\n     \"Rand McNally and Company\",\n     \"Rand Mcnally & Company\",\n     \"Rand McNally Staff\",\n     \"Rand McNally.\",\n     \"Rand McNally Inc.\",\n     \"Rand McNally Editors\",\n     \"McNally & co Rand\",\n     \"McNally Rand\",\n     \"Rand McNally and Company.\",\n     \"Rand McNally & Co.\",\n     \"Rand McNally Co.\",\n     \"Rand McNally & Co\",\n     \"Rand McNally & Company.\",\n     \"Rand McNally Corp\",\n     \"Rand McNally, Inc.\",\n     \"Rand McNally Editord\",\n     \"Rand McNally Company\",\n     \"RandMcNally and Company.\",\n     \"McNally & company Rand\",\n     \"Rand McNally and Compay\",\n     \"Inc Rand McNally\",\n     \"Rand, McNally & co., pub\",\n     \"Rand, McNally and Company.\",\n     \"RAND McNALLY & COMPANY.\",\n     \"Rand mcNally & company.\"\n    ],\n    \"last_modified\": {\n     \"type\": \"/type/datetime\",\n     \"value\": \"2017-12-30T08:31:38.671149\"\n    },\n    \"latest_revision\": 5,\n    \"key\": \"/authors/OL2656742A\",\n    \"birth_date\": \"1856\",\n    \"type\": {\n     \"key\": \"/type/author\"\n    },\n    \"revision\": 5\n   }\n  ],\n  \"title\": \"Jobseekers Bill [H.L.]\",\n  \"latest_revision\": 4,\n  \"oclc_numbers\": [\n   \"316186068\"\n  ],\n  \"revision\": 4,\n  \"book\": {\n   \"publishers\": [\n    \"Stationery Office Books\"\n   ],\n   \"physical_format\": \"Paperback\",\n   \"last_modified\": {\n    \"type\": \"/type/datetime\",\n    \"value\": \"2019-11-11T06:05:59.341916\"\n   },\n   \"title\": \"Jobseekers Bill [H.L.]\",\n   \"number_of_pages\": 24,\n   \"created\": {\n    \"type\": \"/type/datetime\",\n    \"value\": \"2008-04-30T09:38:13.731961\"\n   },\n   \"isbn_13\": [\n    \"9780108739453\"\n   ],\n   \"isbn_10\": [\n    \"0108739457\"\n   ],\n   \"publish_date\": \"May 19, 1995\",\n   \"key\": \"/books/OL10002616M\",\n   \"authors\": [\n    {\n     \"key\": \"/authors/OL2656742A\"\n    }\n   ],\n   \"latest_revision\": 4,\n   \"oclc_numbers\": [\n    \"316186068\"\n   ],\n   \"works\": [\n    {\n     \"key\": \"/works/OL14903262W\"\n    }\n   ],\n   \"type\": {\n    \"key\": \"/type/edition\"\n   },\n   \"revision\": 4\n  },\n  \"id\": \"OL10002616M\"\n }\n]\n"
     ]
    }
   ],
   "source": [
    "# Given that the data that we are dealing with is very big, we would rather use unblocking libraries and perform I/O tasks asyncronously!\n",
    "import asyncio, aiohttp\n",
    "import simplejson as json\n",
    "\n",
    "# set http header content\n",
    "headers = {\n",
    "    'Content-type':'application/json'\n",
    "}\n",
    "ol_url = 'https://openlibrary.org' \n",
    "\n",
    "async def get_author_info(session, author_key):\n",
    "    '''\n",
    "    Read author details using openlibrary API\n",
    "    ----\n",
    "    Parameters: \n",
    "        author_key: url mapping of author in the API graph\n",
    "    ---\n",
    "    Returns: JSON response with author details or error message\n",
    "    '''\n",
    "    async with session.get(f'{ol_url}{author_key}.json', headers=headers) as resp:\n",
    "        return await resp.text()\n",
    "\n",
    "async def get_book_info(session, book_key):\n",
    "    '''\n",
    "    Read edition book details using openlibrary API\n",
    "    ----\n",
    "    Parameters: \n",
    "        book_key: url mapping of edition book in the API graph\n",
    "    ----\n",
    "    Returns: JSON response with edition book details or error message\n",
    "    '''\n",
    "    async with session.get(f'{ol_url}{book_key}.json', headers=headers) as resp:\n",
    "        return await resp.text()\n",
    "\n",
    "async def load_editions_data():\n",
    "    '''\n",
    "    Process edition line data as demonstrated above to extract the JSON component! \n",
    "    ----\n",
    "    Parameters: None\n",
    "    ----\n",
    "    Returns : None\n",
    "    '''\n",
    "    eof = False\n",
    "    fopen = open('data/editions.txt', 'r')\n",
    "    editions = []\n",
    "    # create aiohttp ClientSession object that performs all requests alltogether\n",
    "    session = aiohttp.ClientSession()\n",
    "    # read the file line after line, process the line fully and index on Solr\n",
    "    # Why index each line at a time? The data is too big to store in memory!\n",
    "    while not eof:\n",
    "        line = fopen.readline()\n",
    "        if not line:\n",
    "            eof=True\n",
    "        # process the data concurrently in independent threads\n",
    "        else:\n",
    "            edition = json.loads(line.strip().split('\\t')[4])\n",
    "            authors = [await get_author_info(session, author.get('key')) for author in edition.get('authors')]\n",
    "            book = await get_book_info(session, edition.get('key'))\n",
    "            edition['authors'] = [json.loads(author) for author in authors] \n",
    "            edition['book'] = json.loads(book)\n",
    "            # add an ID field\n",
    "            edition['id'] = edition.get('key').replace('/books/','')\n",
    "            del [edition['key'], edition['type'], edition['works']]\n",
    "            editions.append(edition)            \n",
    "    # close the session object\n",
    "    await session.close()\n",
    "    # close open file\n",
    "    fopen.close()\n",
    "    return editions\n",
    "\n",
    "editions = await load_editions_data()\n",
    "# preview the data\n",
    "print(json.dumps(editions, indent=1))"
   ]
  },
  {
   "source": [
    "This data now looks great!  \n",
    "\n",
    "We can now proceed with the rest of indexing and searching work!  \n",
    "\n",
    "## Back to Solr"
   ],
   "cell_type": "markdown",
   "metadata": {}
  },
  {
   "cell_type": "code",
   "execution_count": 49,
   "metadata": {},
   "outputs": [],
   "source": [
    "# define Solr instance resources\n",
    "base_url = 'http://localhost:8983'\n",
    "core_name = 'openLib'\n",
    "# define important paths\n",
    "api_endpoint = f'{base_url}/api/cores/{core_name}'\n",
    "schema_endpoint = f'{api_endpoint}/schema'\n",
    "update_endpoint = f'{api_endpoint}/update/json/docs'"
   ]
  },
  {
   "source": [
    "## Create Solr index schema  \n",
    "\n",
    "Books catalog data displayed above is good for indexing **as is** but would be really cool customizing a few fields to be able to generate a rich schema. Let's start by defining the **rich schema** then come back to data processing later!"
   ],
   "cell_type": "markdown",
   "metadata": {}
  },
  {
   "cell_type": "code",
   "execution_count": null,
   "metadata": {},
   "outputs": [],
   "source": [
    "# we will enable docValues for fields we might associate with sorting, faceting, and highlighting,\n",
    "schema = {\n",
    "    'add-field':[\n",
    "        {\n",
    "            'name':'title',\n",
    "            'type':'text_en',\n",
    "            'indexed':'true',\n",
    "            'stored':'true',\n",
    "            'docValues':'true'\n",
    "        },\n",
    "        {\n",
    "            'name':'subtitle',\n",
    "            'indexed':'true',\n",
    "            'stored':'true',\n",
    "            'docValues':'true'\n",
    "        },\n",
    "        {\n",
    "            'name':'publish_date',\n",
    "            'type':'pdate',\n",
    "            'indexed':'true',\n",
    "            'stored':'true',\n",
    "            'docValues':'true'\n",
    "        },\n",
    "        {\n",
    "            'name':'last_modified',\n",
    "            'type':'pdate',\n",
    "            'indexed':'true',\n",
    "            'stored':'true',\n",
    "            'docValues':'true'\n",
    "        },\n",
    "        {\n",
    "            'name':'latest_revision',\n",
    "            'type':'pint',\n",
    "            'indexed':'true',\n",
    "            'stored':'true',\n",
    "            'docValues':'true'\n",
    "\n",
    "        },\n",
    "        {\n",
    "            'name':'revision',\n",
    "            'type':'pint',\n",
    "            'indexed':'true',\n",
    "            'stored':'true',\n",
    "            'docValues':'true'\n",
    "        },\n",
    "        {\n",
    "            'name':'number_of_pages',\n",
    "            'type':'pint',\n",
    "            'indexed':'true',\n",
    "            'stored':'true',\n",
    "            'docValues':'true'\n",
    "        },\n",
    "        {\n",
    "            'name':'physical_format',\n",
    "            'type':'string',\n",
    "            'indexed':'true',\n",
    "            'stored':'true',\n",
    "            'docValues':'true'\n",
    "        }\n",
    "    ]\n",
    "}"
   ]
  }
 ]
}
{
 "metadata": {
  "language_info": {
   "codemirror_mode": {
    "name": "ipython",
    "version": 3
   },
   "file_extension": ".py",
   "mimetype": "text/x-python",
   "name": "python",
   "nbconvert_exporter": "python",
   "pygments_lexer": "ipython3",
   "version": "3.9.2-final"
  },
  "orig_nbformat": 2,
  "kernelspec": {
   "name": "python392jvsc74a57bd05c42fe252a17680b3092c13cff773c6bfaaa54f0dea3a1659c27a632305033c6",
   "display_name": "Python 3.9.2 64-bit ('searchengine')"
  }
 },
 "nbformat": 4,
 "nbformat_minor": 2,
 "cells": [
  {
   "source": [
    "# Sophisticated Indexing and Search  \n",
    "\n",
    "In this lab, we will look at various ways we can fine-tune search results using Solr `analyzers`, `tokenizers` and `filters`.  \n",
    "We will use data from `lab 04` and books archive downloaded from [open library](https://openlibrary.org/developers/dumps).  \n",
    "All core operations including creating the core will be managed using the `REST API`."
   ],
   "cell_type": "markdown",
   "metadata": {}
  },
  {
   "cell_type": "code",
   "execution_count": 2,
   "metadata": {},
   "outputs": [],
   "source": [
    "from simplejson import loads, dumps\n",
    "from requests import request\n",
    "\n",
    "# define Solr instance resources\n",
    "base_url = 'http://localhost:8983'\n",
    "core_name = 'openLib'\n",
    "# define important paths\n",
    "api_endpoint = f'{base_url}/api/cores/{core_name}'\n",
    "# set http header content\n",
    "headers = {\n",
    "    'Content-type':'application/json'\n",
    "}\n",
    "\n",
    "def handle_request(method, endpoint, body={}, headers=headers):\n",
    "    r = request(method, endpoint, headers=headers, json=body)\n",
    "    if str(r.status_code) in [f'20{i}' for i in range(9)]:\n",
    "        return loads(r.text)\n",
    "    return {'status_code':r.status_code, 'reason':r.reason, 'text':r.text}"
   ]
  }
 ]
}
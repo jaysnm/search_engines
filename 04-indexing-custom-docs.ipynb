{
 "metadata": {
  "language_info": {
   "codemirror_mode": {
    "name": "ipython",
    "version": 3
   },
   "file_extension": ".py",
   "mimetype": "text/x-python",
   "name": "python",
   "nbconvert_exporter": "python",
   "pygments_lexer": "ipython3",
   "version": "3.9.2-final"
  },
  "orig_nbformat": 2,
  "kernelspec": {
   "name": "python392jvsc74a57bd05c42fe252a17680b3092c13cff773c6bfaaa54f0dea3a1659c27a632305033c6",
   "display_name": "Python 3.9.2 64-bit ('searchengine')"
  }
 },
 "nbformat": 4,
 "nbformat_minor": 2,
 "cells": [
  {
   "source": [
    "# Indexing custom documents\n",
    "\n",
    "Solr’s basic unit of information is a `document`, which is a set of data that describes something. A document about a book could contain the title, author, year of publication, number of pages, and so on. Documents are composed of `fields`, which are more specific pieces of information. Fields can contain different kinds of data. A title field, for example, is text and publication year could be a date or an integer. **If fields are defined correctly, Solr will be able to interpret field values correctly**. `Field analysis` tells Solr what to do with incoming data when building an index.\n",
    "\n",
    "> In this lab, we will borrow field types handling concepts from `03-schema-api.ipynb` notebook. If you are not familiar with the notebook, I suggest you take time to understance what is therein before proceeding any further with this notebook.\n",
    "\n"
   ],
   "cell_type": "markdown",
   "metadata": {}
  },
  {
   "cell_type": "code",
   "execution_count": 1,
   "metadata": {},
   "outputs": [],
   "source": [
    "from simplejson import loads\n",
    "from requests import request\n",
    "\n",
    "# define Solr instance resources\n",
    "base_url = 'http://localhost:8983'\n",
    "core_name = 'localDocs'\n",
    "# define important paths\n",
    "api_endpoint = f'{base_url}/api/cores/{core_name}' # note that we are using API V2\n",
    "schema_endpoint = f'{api_endpoint}/schema'\n",
    "# set http header content\n",
    "headers = {\n",
    "    'Content-type':'application/json'\n",
    "}\n",
    "\n",
    "def handle_request(method=\"POST\", body={}, endpoint=schema_endpoint, headers=headers):\n",
    "    r = request(method, endpoint, headers=headers, json=body)\n",
    "    return loads(r.text)"
   ]
  },
  {
   "cell_type": "code",
   "execution_count": 10,
   "metadata": {},
   "outputs": [
    {
     "output_type": "execute_result",
     "data": {
      "text/plain": [
       "{'responseHeader': {'status': 0, 'QTime': 0},\n",
       " 'fields': [{'name': '_nest_path_', 'type': '_nest_path_'},\n",
       "  {'name': '_root_',\n",
       "   'type': 'string',\n",
       "   'docValues': False,\n",
       "   'indexed': True,\n",
       "   'stored': False},\n",
       "  {'name': '_text_',\n",
       "   'type': 'text_general',\n",
       "   'multiValued': True,\n",
       "   'indexed': True,\n",
       "   'stored': False},\n",
       "  {'name': '_version_', 'type': 'plong', 'indexed': False, 'stored': False},\n",
       "  {'name': 'id',\n",
       "   'type': 'string',\n",
       "   'multiValued': False,\n",
       "   'indexed': True,\n",
       "   'required': True,\n",
       "   'stored': True}]}"
      ]
     },
     "metadata": {},
     "execution_count": 10
    }
   ],
   "source": [
    "# view fields defiened in our schema\n",
    "\n",
    "handle_request('GET', endpoint=f\"{schema_endpoint}/fields\")"
   ]
  },
  {
   "cell_type": "code",
   "execution_count": null,
   "metadata": {},
   "outputs": [],
   "source": []
  },
  {
   "source": [
    "Minimally, a documents search engine should have at least:  \n",
    "- Title field (document title)\n",
    "- Author(s) field\n",
    "- Publisher field\n",
    "- Publication date field\n",
    "- Language field (if targeting multi-lingual audience)\n",
    "- ISBN field \n",
    "- Price field (free books could be tagged to 0 price)\n",
    "- Document access mode field (ebook or hardcopy?)\n",
    "- Store(s) field (if hardcopy, where can it be found)\n",
    "- Authorized dealer(s) field (who is allowed to distribute the document)\n",
    "- InStock field (is the document availale)\n",
    "- Preface field (brief info about the document)\n",
    "- Any other relevant information (dynamic fields)\n",
    "\n",
    "Let's create these fields"
   ],
   "cell_type": "markdown",
   "metadata": {}
  },
  {
   "cell_type": "code",
   "execution_count": 8,
   "metadata": {},
   "outputs": [
    {
     "output_type": "execute_result",
     "data": {
      "text/plain": [
       "{'responseHeader': {'status': 0, 'QTime': 0},\n",
       " 'fieldType': {'name': 'pfloat',\n",
       "  'class': 'solr.FloatPointField',\n",
       "  'docValues': True}}"
      ]
     },
     "metadata": {},
     "execution_count": 8
    }
   ],
   "source": [
    "handle_request('GET', endpoint=f\"{schema_endpoint}/fieldtypes/pfloat\")"
   ]
  },
  {
   "cell_type": "code",
   "execution_count": 15,
   "metadata": {},
   "outputs": [
    {
     "output_type": "execute_result",
     "data": {
      "text/plain": [
       "{'responseHeader': {'status': 0, 'QTime': 225}}"
      ]
     },
     "metadata": {},
     "execution_count": 15
    }
   ],
   "source": [
    "fields = {\n",
    "    \"add-field\":[\n",
    "        {\n",
    "            'name':'title',\n",
    "            'type':'text_en',\n",
    "            'required':True # ensure all documents provided for indexing have a title\n",
    "        },\n",
    "        {\n",
    "            'name':'author',\n",
    "            'type':'string',\n",
    "            'multiValued':True, # a document may have more than one author\n",
    "            'required':True\n",
    "        },\n",
    "        {\n",
    "            'name':'publisher',\n",
    "            'type':'string',\n",
    "            'required':True\n",
    "        },\n",
    "        {\n",
    "            'name':'publication_date',\n",
    "            'type':'pdate'\n",
    "        },\n",
    "        {\n",
    "            'name':'language',\n",
    "            'type':'string',\n",
    "            'default':'english' # fall back to english if language not specified\n",
    "        },\n",
    "        {\n",
    "            'name':'isbn',\n",
    "            'type':'string'\n",
    "        },\n",
    "        {\n",
    "            'name':'price',\n",
    "            'type':'pfloat'\n",
    "        },\n",
    "        {\n",
    "            'name':'access_mode',\n",
    "            'type':'binary'\n",
    "        },\n",
    "        {\n",
    "            'name':'store',\n",
    "            'type':'string',\n",
    "            'multiValued': True # a document can be stocked in several stores\n",
    "        },\n",
    "        {\n",
    "            'name':'dealer',\n",
    "            'type':'string',\n",
    "            'multiValued':True\n",
    "        },\n",
    "        {\n",
    "            'name':'inStock',\n",
    "            'type':'boolean'\n",
    "        },\n",
    "        {\n",
    "            'name':'preface',\n",
    "            'type':'text_en'\n",
    "        },\n",
    "        {\n",
    "            'name':'_text', # define a field that will be used to store any other detail of the document\n",
    "            'type':'text_en',\n",
    "            'multiValued': True # allow several attributes e.g biographies of several authors in a dict enclosed in a list\n",
    "        }\n",
    "    ],\n",
    "    'add-copy-field':{ # add a catch all field\n",
    "        'source':\"*\",\n",
    "        \"dest\":\"_text\" # postpend _text to original field name\n",
    "    }\n",
    "}\n",
    "\n",
    "\n",
    "# trigger fields creation\n",
    "handle_request(body=fields)"
   ]
  }
 ]
}
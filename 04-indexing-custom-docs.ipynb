{
 "metadata": {
  "language_info": {
   "codemirror_mode": {
    "name": "ipython",
    "version": 3
   },
   "file_extension": ".py",
   "mimetype": "text/x-python",
   "name": "python",
   "nbconvert_exporter": "python",
   "pygments_lexer": "ipython3",
   "version": "3.9.2-final"
  },
  "orig_nbformat": 2,
  "kernelspec": {
   "name": "python392jvsc74a57bd05c42fe252a17680b3092c13cff773c6bfaaa54f0dea3a1659c27a632305033c6",
   "display_name": "Python 3.9.2 64-bit ('searchengine')"
  }
 },
 "nbformat": 4,
 "nbformat_minor": 2,
 "cells": [
  {
   "source": [
    "# Indexing custom documents\n",
    "\n",
    "Solr’s basic unit of information is a `document`, which is a set of data that describes something. A document about a book could contain the title, author, year of publication, number of pages, and so on. Documents are composed of `fields`, which are more specific pieces of information. Fields can contain different kinds of data. A title field, for example, is text and publication year could be a date or an integer. **If fields are defined correctly, Solr will be able to interpret field values correctly**. `Field analysis` tells Solr what to do with incoming data when building an index.\n",
    "\n",
    "> In this lab, we will borrow field types handling concepts from `03-schema-api.ipynb` notebook. If you are not familiar with the notebook, I suggest you take time to understance what is therein before proceeding any further with this notebook.\n",
    "\n"
   ],
   "cell_type": "markdown",
   "metadata": {}
  },
  {
   "cell_type": "code",
   "execution_count": 1,
   "metadata": {},
   "outputs": [],
   "source": [
    "from simplejson import loads\n",
    "from requests import request\n",
    "\n",
    "# define Solr instance resources\n",
    "base_url = 'http://localhost:8983'\n",
    "core_name = 'localDocs'\n",
    "# define important paths\n",
    "api_endpoint = f'{base_url}/api/cores/{core_name}' # note that we are using API V2\n",
    "schema_endpoint = f'{api_endpoint}/schema'\n",
    "# set http header content\n",
    "headers = {\n",
    "    'Content-type':'application/json'\n",
    "}\n",
    "\n",
    "def handle_request(method=\"POST\", body={}, endpoint=schema_endpoint, headers=headers):\n",
    "    r = request(method, endpoint, headers=headers, json=body)\n",
    "    return loads(r.text)"
   ]
  },
  {
   "cell_type": "code",
   "execution_count": 10,
   "metadata": {},
   "outputs": [
    {
     "output_type": "execute_result",
     "data": {
      "text/plain": [
       "{'responseHeader': {'status': 0, 'QTime': 0},\n",
       " 'fields': [{'name': '_nest_path_', 'type': '_nest_path_'},\n",
       "  {'name': '_root_',\n",
       "   'type': 'string',\n",
       "   'docValues': False,\n",
       "   'indexed': True,\n",
       "   'stored': False},\n",
       "  {'name': '_text_',\n",
       "   'type': 'text_general',\n",
       "   'multiValued': True,\n",
       "   'indexed': True,\n",
       "   'stored': False},\n",
       "  {'name': '_version_', 'type': 'plong', 'indexed': False, 'stored': False},\n",
       "  {'name': 'id',\n",
       "   'type': 'string',\n",
       "   'multiValued': False,\n",
       "   'indexed': True,\n",
       "   'required': True,\n",
       "   'stored': True}]}"
      ]
     },
     "metadata": {},
     "execution_count": 10
    }
   ],
   "source": [
    "# view fields defiened in our schema\n",
    "\n",
    "handle_request('GET', endpoint=f\"{schema_endpoint}/fields\")"
   ]
  },
  {
   "cell_type": "code",
   "execution_count": null,
   "metadata": {},
   "outputs": [],
   "source": []
  },
  {
   "source": [
    "## Defining Document Fields  \n",
    "\n",
    "Minimally, a documents search engine should have at least:  \n",
    "- Title field (document title)\n",
    "- Author(s) field\n",
    "- Publisher field\n",
    "- Publication date field\n",
    "- Language field (if targeting multi-lingual audience)\n",
    "- ISBN field \n",
    "- Pages field (number of pages making up the document)\n",
    "- Price field (free books could be tagged to 0 price)\n",
    "- Document access mode field (ebook or hardcopy?)\n",
    "- Store(s) field (if hardcopy, where can it be found)\n",
    "- Authorized dealer(s) field (who is allowed to distribute the document)\n",
    "- InStock field (is the document availale)\n",
    "- Preface field (brief info about the document)\n",
    "- Any other relevant information (dynamic fields)\n",
    "\n",
    "Let's create these fields"
   ],
   "cell_type": "markdown",
   "metadata": {}
  },
  {
   "cell_type": "code",
   "execution_count": 8,
   "metadata": {},
   "outputs": [
    {
     "output_type": "execute_result",
     "data": {
      "text/plain": [
       "{'responseHeader': {'status': 0, 'QTime': 0},\n",
       " 'fieldType': {'name': 'pfloat',\n",
       "  'class': 'solr.FloatPointField',\n",
       "  'docValues': True}}"
      ]
     },
     "metadata": {},
     "execution_count": 8
    }
   ],
   "source": [
    "handle_request('GET', endpoint=f\"{schema_endpoint}/fieldtypes/pfloat\")"
   ]
  },
  {
   "cell_type": "code",
   "execution_count": 15,
   "metadata": {},
   "outputs": [
    {
     "output_type": "execute_result",
     "data": {
      "text/plain": [
       "{'responseHeader': {'status': 0, 'QTime': 225}}"
      ]
     },
     "metadata": {},
     "execution_count": 15
    }
   ],
   "source": [
    "fields = {\n",
    "    \"add-field\":[\n",
    "        {\n",
    "            'name':'title',\n",
    "            'type':'text_en',\n",
    "            'required':True # ensure all documents provided for indexing have a title\n",
    "        },\n",
    "        {\n",
    "            'name':'author',\n",
    "            'type':'string',\n",
    "            'multiValued':True, # a document may have more than one author\n",
    "            'required':True\n",
    "        },\n",
    "        {\n",
    "            'name':'publisher',\n",
    "            'type':'string',\n",
    "            'required':True\n",
    "        },\n",
    "        {\n",
    "            'name':'publication_date',\n",
    "            'type':'pdate'\n",
    "        },\n",
    "        {\n",
    "            'name':'language',\n",
    "            'type':'string',\n",
    "            'default':'english' # fall back to english if language not specified\n",
    "        },\n",
    "        {\n",
    "            'name':'isbn',\n",
    "            'type':'string'\n",
    "        },\n",
    "        {\n",
    "            'name':'pages',\n",
    "            'type':'pint'\n",
    "        },\n",
    "        {\n",
    "            'name':'price',\n",
    "            'type':'pfloat'\n",
    "        },\n",
    "        {\n",
    "            'name':'access_mode',\n",
    "            'type':'binary'\n",
    "        },\n",
    "        {\n",
    "            'name':'store',\n",
    "            'type':'string',\n",
    "            'multiValued': True # a document can be stocked in several stores\n",
    "        },\n",
    "        {\n",
    "            'name':'dealer',\n",
    "            'type':'string',\n",
    "            'multiValued':True\n",
    "        },\n",
    "        {\n",
    "            'name':'inStock',\n",
    "            'type':'boolean'\n",
    "        },\n",
    "        {\n",
    "            'name':'preface',\n",
    "            'type':'text_en'\n",
    "        },\n",
    "        {\n",
    "            'name':'_text', # define a field that will be used to store any other detail of the document\n",
    "            'type':'text_en',\n",
    "            'multiValued': True # allow several attributes e.g biographies of several authors in a dict enclosed in a list\n",
    "        }\n",
    "    ],\n",
    "    'add-copy-field':{ # add a catch all field\n",
    "        'source':\"*\",\n",
    "        \"dest\":\"_text\" # postpend _text to original field name\n",
    "    }\n",
    "}\n",
    "\n",
    "\n",
    "# trigger fields creation\n",
    "handle_request(body=fields)"
   ]
  },
  {
   "source": [
    "## Documents Indexing  \n",
    "\n",
    "Now that we have our fields defined, it's time to index some documents"
   ],
   "cell_type": "markdown",
   "metadata": {}
  },
  {
   "cell_type": "code",
   "execution_count": 117,
   "metadata": {},
   "outputs": [
    {
     "output_type": "execute_result",
     "data": {
      "text/plain": [
       "                                                title  ...                                  editorial_reviews\n",
       "id                                                     ...                                                   \n",
       "1   Opening Spaces: An Anthology of Contemporary A...  ...                                                   \n",
       "2   The Caine Prize for African Writing 2010: 11th...  ...                                                   \n",
       "3                                   African Folktales  ...                                                   \n",
       "4   Unchained Voices: An Anthology of Black Author...  ...  <article>\\n    <h4>African American Review</h4...\n",
       "5     Women Writing Africa: West Africa and the Sahel  ...  <article>\\n    <h4>Library Journal</h4>This se...\n",
       "\n",
       "[5 rows x 23 columns]"
      ],
      "text/html": "<div>\n<style scoped>\n    .dataframe tbody tr th:only-of-type {\n        vertical-align: middle;\n    }\n\n    .dataframe tbody tr th {\n        vertical-align: top;\n    }\n\n    .dataframe thead th {\n        text-align: right;\n    }\n</style>\n<table border=\"1\" class=\"dataframe\">\n  <thead>\n    <tr style=\"text-align: right;\">\n      <th></th>\n      <th>title</th>\n      <th>author</th>\n      <th>author_id</th>\n      <th>author_bio</th>\n      <th>authors</th>\n      <th>title_slug</th>\n      <th>author_slug</th>\n      <th>isbn13</th>\n      <th>isbn10</th>\n      <th>price</th>\n      <th>format</th>\n      <th>publisher</th>\n      <th>pubdate</th>\n      <th>edition</th>\n      <th>subjects</th>\n      <th>lexile</th>\n      <th>pages</th>\n      <th>dimensions</th>\n      <th>overview</th>\n      <th>excerpt</th>\n      <th>synopsis</th>\n      <th>toc</th>\n      <th>editorial_reviews</th>\n    </tr>\n    <tr>\n      <th>id</th>\n      <th></th>\n      <th></th>\n      <th></th>\n      <th></th>\n      <th></th>\n      <th></th>\n      <th></th>\n      <th></th>\n      <th></th>\n      <th></th>\n      <th></th>\n      <th></th>\n      <th></th>\n      <th></th>\n      <th></th>\n      <th></th>\n      <th></th>\n      <th></th>\n      <th></th>\n      <th></th>\n      <th></th>\n      <th></th>\n      <th></th>\n    </tr>\n  </thead>\n  <tbody>\n    <tr>\n      <th>1</th>\n      <td>Opening Spaces: An Anthology of Contemporary A...</td>\n      <td>Yvonne Vera</td>\n      <td>0</td>\n      <td>&lt;p&gt;&lt;P&gt;EDITOR&lt;p&gt;Yvonne Vera was born and raised...</td>\n      <td>Yvonne Vera (Editor), Yvonne Vera</td>\n      <td>opening-spaces</td>\n      <td>yvonne-vera</td>\n      <td>9780435910105</td>\n      <td>0435910108</td>\n      <td>$14.52</td>\n      <td>Paperback</td>\n      <td>Heinemann</td>\n      <td>September 1999</td>\n      <td>1st Edition</td>\n      <td>General &amp; Miscellaneous Literature Anthologies...</td>\n      <td></td>\n      <td>186</td>\n      <td>5.07 (w) x 7.78 (h) x 0.42 (d)</td>\n      <td>In this anthology the award-winning author Yvo...</td>\n      <td></td>\n      <td>&lt;p&gt;&lt;p&gt;African women are seldom given the space...</td>\n      <td>&lt;P&gt;Preface&lt;p&gt;The Girl Who Can - Ama Ata Aidoo ...</td>\n      <td></td>\n    </tr>\n    <tr>\n      <th>2</th>\n      <td>The Caine Prize for African Writing 2010: 11th...</td>\n      <td>The Caine Prize for African Writing</td>\n      <td>0</td>\n      <td></td>\n      <td>The Caine Prize for African Writing</td>\n      <td>the-caine-prize-for-african-writing-2010</td>\n      <td>the-caine-prize-for-african-writing</td>\n      <td>9781906523374</td>\n      <td>1906523371</td>\n      <td>$13.46</td>\n      <td>Paperback</td>\n      <td>New Internationalist</td>\n      <td>August 2010</td>\n      <td></td>\n      <td>Short Story Anthologies, African Fiction, Afri...</td>\n      <td></td>\n      <td>208</td>\n      <td>5.00 (w) x 7.70 (h) x 0.70 (d)</td>\n      <td>&lt;p&gt;The Caine Prize for African Writing is Afri...</td>\n      <td></td>\n      <td>&lt;p&gt;&lt;p&gt;The best in new short story fiction from...</td>\n      <td>&lt;P&gt;Introduction 6&lt;P&gt;Caine Prize 2010 Shortlist...</td>\n      <td></td>\n    </tr>\n    <tr>\n      <th>3</th>\n      <td>African Folktales</td>\n      <td>Roger D. Abrahams</td>\n      <td>0</td>\n      <td></td>\n      <td>Roger D. Abrahams, Dan Frank</td>\n      <td>african-folktales</td>\n      <td>roger-d-abrahams</td>\n      <td>9780394721170</td>\n      <td>0394721179</td>\n      <td>$18.95</td>\n      <td>Paperback</td>\n      <td>Knopf Doubleday Publishing Group</td>\n      <td>August 1983</td>\n      <td></td>\n      <td>Travel, Africa</td>\n      <td></td>\n      <td></td>\n      <td></td>\n      <td></td>\n      <td></td>\n      <td>&lt;p&gt;&lt;P&gt;Nearly 100 stories from over 40 tribe-re...</td>\n      <td></td>\n      <td></td>\n    </tr>\n    <tr>\n      <th>4</th>\n      <td>Unchained Voices: An Anthology of Black Author...</td>\n      <td>Vincent Carretta</td>\n      <td>0</td>\n      <td></td>\n      <td>Vincent Carretta</td>\n      <td>unchained-voices</td>\n      <td>vincent-carretta</td>\n      <td>9780813190761</td>\n      <td>0813190762</td>\n      <td>$30.00</td>\n      <td>Paperback</td>\n      <td>University Press of Kentucky</td>\n      <td>December 2003</td>\n      <td>Expanded</td>\n      <td>United States History - African American Histo...</td>\n      <td></td>\n      <td>416</td>\n      <td>6.10 (w) x 9.40 (h) x 1.10 (d)</td>\n      <td>Vincent Carretta has assembled the most compre...</td>\n      <td></td>\n      <td>&lt;p&gt;&lt;P&gt;Vincent Carretta has assembled the most ...</td>\n      <td>&lt;TABLE&gt;&lt;TR&gt;&lt;TD WIDTH=\"20%\"&gt;&lt;/TD&gt;&lt;TD WIDTH=\"70%...</td>\n      <td>&lt;article&gt;\\n    &lt;h4&gt;African American Review&lt;/h4...</td>\n    </tr>\n    <tr>\n      <th>5</th>\n      <td>Women Writing Africa: West Africa and the Sahel</td>\n      <td>Esi Sutherland-Addy</td>\n      <td>0</td>\n      <td>&lt;p&gt;&lt;P&gt;Esi Sutherland-Addy (Ph.D. Hon, Hon FCP)...</td>\n      <td>Esi Sutherland-Addy (Editor), Abena P. A. Busi...</td>\n      <td>women-writing-africa</td>\n      <td>esi-sutherland-addy</td>\n      <td>9781558615007</td>\n      <td>1558615008</td>\n      <td>$29.95</td>\n      <td>Paperback</td>\n      <td>Feminist Press at CUNY, The</td>\n      <td>August 2005</td>\n      <td></td>\n      <td>Literary Criticism - General &amp; Miscellaneous, ...</td>\n      <td></td>\n      <td>560</td>\n      <td>6.00 (w) x 9.00 (h) x 1.30 (d)</td>\n      <td>&lt;p&gt;The acclaimed Women Writing Africa project ...</td>\n      <td></td>\n      <td>&lt;p&gt;&lt;P&gt;A major literary and scholarly work that...</td>\n      <td></td>\n      <td>&lt;article&gt;\\n    &lt;h4&gt;Library Journal&lt;/h4&gt;This se...</td>\n    </tr>\n  </tbody>\n</table>\n</div>"
     },
     "metadata": {},
     "execution_count": 117
    }
   ],
   "source": [
    "# we will use books library catalog data downloaded from https://www.usabledatabases.com/database/books-isbn-covers/sample/#table_author\n",
    "\n",
    "import pandas as pd\n",
    "\n",
    "books = pd.read_csv(\"data/book.csv\", header=0, index_col=\"id\", keep_default_na=False)\n",
    "books.head()\n"
   ]
  },
  {
   "cell_type": "code",
   "execution_count": 95,
   "metadata": {},
   "outputs": [
    {
     "output_type": "execute_result",
     "data": {
      "text/plain": [
       "'EDITOR Yvonne Vera was born and raised in Bulawayo, Zimbabwe, gained her Ph.D. from York University in Canada, and was the Director of the National Gallery of Zimbabwe in Bulawayo. Yvonne Vera died at age 40 in 2005 Yvonne Vera’s Without a Name and Under the Tongue both won first prize in the Zimbabwe Publishers Literary Awards of 1995 and 1997 respectively. Under the Tongue won the 1997 Commonwealth Writers Prize (Africa Region). Yvonne Vera won the Swedish literary award The Voice of Africa 1999. \\n'"
      ]
     },
     "metadata": {},
     "execution_count": 95
    }
   ],
   "source": [
    "# This data is not as clean as we would like. \n",
    "# we will use https://docs.python.org/3/library/html.parser.html to create a custom html to text parser\n",
    "# Alternatively, we would have used html2text\n",
    "\n",
    "from html.parser import HTMLParser\n",
    "\n",
    "class Html2Text(HTMLParser):\n",
    "    text = \"\"\n",
    "    def handle_endtag(self, tag):\n",
    "        new_line_tags = ['p', 'div', 'br']\n",
    "        new_line_tags.extend([f\"h{str(i)}\" for i in range(1, 7)])\n",
    "        if tag in new_line_tags:\n",
    "            self.text += \"\\n\"\n",
    "        else:\n",
    "            self.text += ' '\n",
    "\n",
    "    def handle_data(self, data):\n",
    "        self.text +=  f\"{data} \"\n",
    "\n",
    "# See how the parser algorithm works\n",
    "parser = Html2Text()\n",
    "parser.feed(books['author_bio'].iloc[0])\n",
    "parser.text\n"
   ]
  },
  {
   "cell_type": "code",
   "execution_count": 118,
   "metadata": {},
   "outputs": [
    {
     "output_type": "execute_result",
     "data": {
      "text/plain": [
       "                                                title  ...                                  editorial_reviews\n",
       "id                                                     ...                                                   \n",
       "51            The Best American Essays of the Century  ...  \\n     From Barnes & Noble \\nBookseller Review...\n",
       "52        The Best Loved Poems of the American People  ...                                                   \n",
       "53  The Norton Anthology of American Literature: V...  ...                                                   \n",
       "54                     The Norton Anthology of Poetry  ...                                                   \n",
       "55  The Norton Anthology of African American Liter...  ...  \\n     Publishers Weekly\\n                    ...\n",
       "56  Poems, Poets, Poetry: An Introduction and Anth...  ...                                                   \n",
       "57                       The Poets Laureate Anthology  ...  \\n     Publishers Weekly \\nThe United States h...\n",
       "58                           The Portable Beat Reader  ...                                                   \n",
       "59            The Best American Short Plays 2008-2009  ...                                                   \n",
       "60                                   The Gift of Love  ...                                                   \n",
       "\n",
       "[10 rows x 23 columns]"
      ],
      "text/html": "<div>\n<style scoped>\n    .dataframe tbody tr th:only-of-type {\n        vertical-align: middle;\n    }\n\n    .dataframe tbody tr th {\n        vertical-align: top;\n    }\n\n    .dataframe thead th {\n        text-align: right;\n    }\n</style>\n<table border=\"1\" class=\"dataframe\">\n  <thead>\n    <tr style=\"text-align: right;\">\n      <th></th>\n      <th>title</th>\n      <th>author</th>\n      <th>author_id</th>\n      <th>author_bio</th>\n      <th>authors</th>\n      <th>title_slug</th>\n      <th>author_slug</th>\n      <th>isbn13</th>\n      <th>isbn10</th>\n      <th>price</th>\n      <th>format</th>\n      <th>publisher</th>\n      <th>pubdate</th>\n      <th>edition</th>\n      <th>subjects</th>\n      <th>lexile</th>\n      <th>pages</th>\n      <th>dimensions</th>\n      <th>overview</th>\n      <th>excerpt</th>\n      <th>synopsis</th>\n      <th>toc</th>\n      <th>editorial_reviews</th>\n    </tr>\n    <tr>\n      <th>id</th>\n      <th></th>\n      <th></th>\n      <th></th>\n      <th></th>\n      <th></th>\n      <th></th>\n      <th></th>\n      <th></th>\n      <th></th>\n      <th></th>\n      <th></th>\n      <th></th>\n      <th></th>\n      <th></th>\n      <th></th>\n      <th></th>\n      <th></th>\n      <th></th>\n      <th></th>\n      <th></th>\n      <th></th>\n      <th></th>\n      <th></th>\n    </tr>\n  </thead>\n  <tbody>\n    <tr>\n      <th>51</th>\n      <td>The Best American Essays of the Century</td>\n      <td>Joyce Carol Oates</td>\n      <td>3</td>\n      <td>In a prolific and varied oeuvre that ranges ov...</td>\n      <td>Joyce Carol Oates, Robert Atwan</td>\n      <td>the-best-american-essays-of-the-century</td>\n      <td>joyce-carol-oates</td>\n      <td>9780618155873</td>\n      <td>0618155872</td>\n      <td>$14.84</td>\n      <td>Paperback</td>\n      <td>Houghton Mifflin Harcourt</td>\n      <td>October 2001</td>\n      <td></td>\n      <td>American Essays, American Literature Anthologies</td>\n      <td></td>\n      <td>624</td>\n      <td>6.00 (w) x 9.00 (h) x 1.50 (d)</td>\n      <td>This singular collection is nothing less than ...</td>\n      <td>Foreword \\nThe Essay in the Twentieth Century ...</td>\n      <td>This singular collection is nothing less than ...</td>\n      <td>Foreword  x   Introduction  xvii   1901: Corn...</td>\n      <td>\\n     From Barnes &amp; Noble \\nBookseller Review...</td>\n    </tr>\n    <tr>\n      <th>52</th>\n      <td>The Best Loved Poems of the American People</td>\n      <td>Hazel Felleman</td>\n      <td>0</td>\n      <td></td>\n      <td>Hazel Felleman (Selected by), Edward Frank All...</td>\n      <td>the-best-loved-poems-of-the-american-people</td>\n      <td>hazel-felleman</td>\n      <td>9780385000192</td>\n      <td>0385000197</td>\n      <td>$17.92</td>\n      <td>Hardcover</td>\n      <td>Knopf Doubleday Publishing Group</td>\n      <td>October 1936</td>\n      <td>Reissue</td>\n      <td>Poetry Anthologies, American Poetry, Poetry - ...</td>\n      <td></td>\n      <td>670</td>\n      <td>5.99 (w) x 8.56 (h) x 2.06 (d)</td>\n      <td>More than 1,500,000 copies in print! Over 575 ...</td>\n      <td></td>\n      <td>More than 1,500,000 copies in print! Over 575 ...</td>\n      <td></td>\n      <td></td>\n    </tr>\n    <tr>\n      <th>53</th>\n      <td>The Norton Anthology of American Literature: V...</td>\n      <td>Wayne Franklin</td>\n      <td>0</td>\n      <td>Nina Baym   (General Editor), Ph.D. Harvard, i...</td>\n      <td>Wayne Franklin (Editor), Jerome Klinkowitz (Ed...</td>\n      <td>the-norton-anthology-of-american-literature</td>\n      <td>wayne-franklin</td>\n      <td>9780393927399</td>\n      <td>0393927393</td>\n      <td>$37.77</td>\n      <td>Paperback</td>\n      <td>Norton, W. W. &amp; Company, Inc.</td>\n      <td>April 2007</td>\n      <td>7th Edition</td>\n      <td>American Literature Anthologies</td>\n      <td></td>\n      <td>972</td>\n      <td>6.00 (w) x 9.20 (h) x 1.10 (d)</td>\n      <td>Firmly grounded in the core strengths that hav...</td>\n      <td></td>\n      <td>Firmly grounded in the core strengths that hav...</td>\n      <td></td>\n      <td></td>\n    </tr>\n    <tr>\n      <th>54</th>\n      <td>The Norton Anthology of Poetry</td>\n      <td>Margaret Ferguson</td>\n      <td>0</td>\n      <td>Margaret Ferguson   (Ph.D. Yale University) is...</td>\n      <td>Margaret Ferguson, Jon Stallworthy, Mary Jo Sa...</td>\n      <td>the-norton-anthology-of-poetry</td>\n      <td>margaret-ferguson</td>\n      <td>9780393979206</td>\n      <td>0393979202</td>\n      <td>$66.30</td>\n      <td>Paperback</td>\n      <td>Norton, W. W. &amp; Company, Inc.</td>\n      <td>December 2004</td>\n      <td>5th Edition</td>\n      <td>Poetry Anthologies, American Poetry, English P...</td>\n      <td></td>\n      <td>2256</td>\n      <td>6.00 (w) x 9.20 (h) x 2.00 (d)</td>\n      <td>Offering over one thousand years of verse from...</td>\n      <td></td>\n      <td>Offering over one thousand years of verse from...</td>\n      <td></td>\n      <td></td>\n    </tr>\n    <tr>\n      <th>55</th>\n      <td>The Norton Anthology of African American Liter...</td>\n      <td>Henry Louis Gates Jr.</td>\n      <td>0</td>\n      <td>Henry Louis Gates Jr.   (Ph.D. Cambridge) is A...</td>\n      <td>Henry Louis Gates Jr. (Editor), Nellie Y. McKay</td>\n      <td>the-norton-anthology-of-african-american-liter...</td>\n      <td>henry-louis-gates-jr</td>\n      <td>9780393977783</td>\n      <td>0393977781</td>\n      <td>$72.82</td>\n      <td>Paperback</td>\n      <td>Norton, W. W. &amp; Company, Inc.</td>\n      <td>December 2003</td>\n      <td>2nd Edition</td>\n      <td>Peoples &amp; Cultures - American Anthologies</td>\n      <td></td>\n      <td>2832</td>\n      <td>6.00 (w) x 9.30 (h) x 2.30 (d)</td>\n      <td>Welcomed on publication as \"brilliant, definit...</td>\n      <td></td>\n      <td>Welcomed on publication as \"brilliant, definit...</td>\n      <td></td>\n      <td>\\n     Publishers Weekly\\n                    ...</td>\n    </tr>\n    <tr>\n      <th>56</th>\n      <td>Poems, Poets, Poetry: An Introduction and Anth...</td>\n      <td>Helen Vendler</td>\n      <td>0</td>\n      <td>HELEN VENDLER  , critic and scholar of English...</td>\n      <td>Helen Vendler</td>\n      <td>poems-poets-poetry</td>\n      <td>helen-vendler</td>\n      <td>9780312463199</td>\n      <td>0312463197</td>\n      <td>$1.99</td>\n      <td>Paperback</td>\n      <td>Bedford/St. Martin's</td>\n      <td>October 2009</td>\n      <td>3rd Edition</td>\n      <td>Poetry Anthologies, American Poetry, English P...</td>\n      <td></td>\n      <td>752</td>\n      <td>5.90 (w) x 9.00 (h) x 1.00 (d)</td>\n      <td>\\nMany students today are puzzled by the meani...</td>\n      <td></td>\n      <td>Written by a preeminent critic and legendary t...</td>\n      <td>Preface: About This Book  Brief Contents  Cont...</td>\n      <td></td>\n    </tr>\n    <tr>\n      <th>57</th>\n      <td>The Poets Laureate Anthology</td>\n      <td>Elizabeth Hun Schmidt</td>\n      <td>0</td>\n      <td>Elizabeth Hun Schmidt  , a former poetry edito...</td>\n      <td>Elizabeth Hun Schmidt, Library of Congress Sta...</td>\n      <td>the-poets-laureate-anthology</td>\n      <td>elizabeth-hun-schmidt</td>\n      <td>9780393061819</td>\n      <td>0393061817</td>\n      <td>$38.52</td>\n      <td>Hardcover</td>\n      <td>Norton, W. W. &amp; Company, Inc.</td>\n      <td>October 2010</td>\n      <td>New Edition</td>\n      <td>Poetry, American Literature Anthologies, Antho...</td>\n      <td></td>\n      <td>816</td>\n      <td>6.50 (w) x 9.30 (h) x 1.70 (d)</td>\n      <td>The first anthology to gather poems by the for...</td>\n      <td></td>\n      <td>The first anthology to gather poems by the for...</td>\n      <td></td>\n      <td>\\n     Publishers Weekly \\nThe United States h...</td>\n    </tr>\n    <tr>\n      <th>58</th>\n      <td>The Portable Beat Reader</td>\n      <td>Various</td>\n      <td>0</td>\n      <td>Ann Charters is the editor of  The Portable Si...</td>\n      <td>Various, Ann Charters</td>\n      <td>the-portable-beat-reader</td>\n      <td>various</td>\n      <td>9780142437537</td>\n      <td>0142437530</td>\n      <td>$18.00</td>\n      <td>Paperback</td>\n      <td>Penguin Group (USA)</td>\n      <td>July 2003</td>\n      <td>Reissue</td>\n      <td>Literary Collections, American</td>\n      <td></td>\n      <td></td>\n      <td></td>\n      <td></td>\n      <td></td>\n      <td>Through poetry, fiction, essays, song lyrics, ...</td>\n      <td></td>\n      <td></td>\n    </tr>\n    <tr>\n      <th>59</th>\n      <td>The Best American Short Plays 2008-2009</td>\n      <td>Barbara Parisi</td>\n      <td>0</td>\n      <td></td>\n      <td>Barbara Parisi</td>\n      <td>the-best-american-short-plays-2008-2009</td>\n      <td>barbara-parisi</td>\n      <td>9781557837608</td>\n      <td>1557837600</td>\n      <td>$14.85</td>\n      <td>Paperback</td>\n      <td>Applause Theatre Book Publishers</td>\n      <td>October 2010</td>\n      <td></td>\n      <td>Drama Anthologies, American Drama, American Li...</td>\n      <td></td>\n      <td>356</td>\n      <td>5.50 (w) x 8.40 (h) x 1.10 (d)</td>\n      <td>This edition of the highly esteemed and long-e...</td>\n      <td></td>\n      <td>Applause is proud to continue the series that ...</td>\n      <td>Foreword: A Simple, Brilliant Idea David Ives ...</td>\n      <td></td>\n    </tr>\n    <tr>\n      <th>60</th>\n      <td>The Gift of Love</td>\n      <td>Lori Foster</td>\n      <td>0</td>\n      <td>Lori Foster   is the  New York Times   and  US...</td>\n      <td>Lori Foster, Gia Dawn, Ann Christopher, Lisa C...</td>\n      <td>the-gift-of-love</td>\n      <td>lori-foster</td>\n      <td>9780425234280</td>\n      <td>0425234282</td>\n      <td>$14.43</td>\n      <td>Paperback</td>\n      <td>Penguin Group (USA)</td>\n      <td>June 2010</td>\n      <td></td>\n      <td>Short Story Anthologies, Family &amp; Friendship -...</td>\n      <td></td>\n      <td>368</td>\n      <td>5.10 (w) x 7.90 (h) x 1.00 (d)</td>\n      <td>Edited by  New York Times   bestselling author...</td>\n      <td></td>\n      <td>Edited by  New York Times   bestselling author...</td>\n      <td></td>\n      <td></td>\n    </tr>\n  </tbody>\n</table>\n</div>"
     },
     "metadata": {},
     "execution_count": 118
    }
   ],
   "source": [
    "# create a function that will be applied to columns of interest\n",
    "\n",
    "def html2text(line):\n",
    "    parser = Html2Text()\n",
    "    parser.feed(line)\n",
    "    return parser.text\n",
    "\n",
    "html_columns = ['author_bio','overview','excerpt','synopsis','toc','editorial_reviews']\n",
    "\n",
    "# apply parser function to every html column\n",
    "books = books.apply(lambda col: col.apply(html2text) if col.name in html_columns else col)\n",
    "books[50:60]"
   ]
  },
  {
   "cell_type": "code",
   "execution_count": 97,
   "metadata": {},
   "outputs": [
    {
     "output_type": "execute_result",
     "data": {
      "text/plain": [
       "title                object\n",
       "author               object\n",
       "author_id             int64\n",
       "author_bio           object\n",
       "authors              object\n",
       "title_slug           object\n",
       "author_slug          object\n",
       "isbn13                int64\n",
       "isbn10               object\n",
       "price                object\n",
       "format               object\n",
       "publisher            object\n",
       "pubdate              object\n",
       "edition              object\n",
       "subjects             object\n",
       "lexile               object\n",
       "pages                object\n",
       "dimensions           object\n",
       "overview             object\n",
       "excerpt              object\n",
       "synopsis             object\n",
       "toc                  object\n",
       "editorial_reviews    object\n",
       "dtype: object"
      ]
     },
     "metadata": {},
     "execution_count": 97
    }
   ],
   "source": [
    "# Our dataframe looks better now!\n",
    "# one last check, column data types\n",
    "books.dtypes"
   ]
  },
  {
   "cell_type": "code",
   "execution_count": 119,
   "metadata": {},
   "outputs": [
    {
     "output_type": "execute_result",
     "data": {
      "text/plain": [
       "                                                title  ...                                  editorial_reviews\n",
       "id                                                     ...                                                   \n",
       "1   Opening Spaces: An Anthology of Contemporary A...  ...                                                   \n",
       "2   The Caine Prize for African Writing 2010: 11th...  ...                                                   \n",
       "3                                   African Folktales  ...                                                   \n",
       "4   Unchained Voices: An Anthology of Black Author...  ...  \\n     African American Review \\nThis excellen...\n",
       "5     Women Writing Africa: West Africa and the Sahel  ...  \\n     Library Journal \\nThis second of four v...\n",
       "\n",
       "[5 rows x 22 columns]"
      ],
      "text/html": "<div>\n<style scoped>\n    .dataframe tbody tr th:only-of-type {\n        vertical-align: middle;\n    }\n\n    .dataframe tbody tr th {\n        vertical-align: top;\n    }\n\n    .dataframe thead th {\n        text-align: right;\n    }\n</style>\n<table border=\"1\" class=\"dataframe\">\n  <thead>\n    <tr style=\"text-align: right;\">\n      <th></th>\n      <th>title</th>\n      <th>author</th>\n      <th>author_bio</th>\n      <th>authors</th>\n      <th>title_slug</th>\n      <th>author_slug</th>\n      <th>isbn13</th>\n      <th>isbn10</th>\n      <th>price</th>\n      <th>format</th>\n      <th>publisher</th>\n      <th>pubdate</th>\n      <th>edition</th>\n      <th>subjects</th>\n      <th>lexile</th>\n      <th>pages</th>\n      <th>dimensions</th>\n      <th>overview</th>\n      <th>excerpt</th>\n      <th>synopsis</th>\n      <th>toc</th>\n      <th>editorial_reviews</th>\n    </tr>\n    <tr>\n      <th>id</th>\n      <th></th>\n      <th></th>\n      <th></th>\n      <th></th>\n      <th></th>\n      <th></th>\n      <th></th>\n      <th></th>\n      <th></th>\n      <th></th>\n      <th></th>\n      <th></th>\n      <th></th>\n      <th></th>\n      <th></th>\n      <th></th>\n      <th></th>\n      <th></th>\n      <th></th>\n      <th></th>\n      <th></th>\n      <th></th>\n    </tr>\n  </thead>\n  <tbody>\n    <tr>\n      <th>1</th>\n      <td>Opening Spaces: An Anthology of Contemporary A...</td>\n      <td>Yvonne Vera</td>\n      <td>EDITOR Yvonne Vera was born and raised in Bula...</td>\n      <td>Yvonne Vera (Editor), Yvonne Vera</td>\n      <td>opening-spaces</td>\n      <td>yvonne-vera</td>\n      <td>9780435910105</td>\n      <td>0435910108</td>\n      <td>14.52</td>\n      <td>Paperback</td>\n      <td>Heinemann</td>\n      <td>1999-09-01</td>\n      <td>1st Edition</td>\n      <td>General &amp; Miscellaneous Literature Anthologies...</td>\n      <td></td>\n      <td>186.0</td>\n      <td>5.07 (w) x 7.78 (h) x 0.42 (d)</td>\n      <td>In this anthology the award-winning author Yvo...</td>\n      <td></td>\n      <td>African women are seldom given the space to ex...</td>\n      <td>Preface The Girl Who Can - Ama Ata Aidoo (Ghan...</td>\n      <td></td>\n    </tr>\n    <tr>\n      <th>2</th>\n      <td>The Caine Prize for African Writing 2010: 11th...</td>\n      <td>The Caine Prize for African Writing</td>\n      <td></td>\n      <td>The Caine Prize for African Writing</td>\n      <td>the-caine-prize-for-african-writing-2010</td>\n      <td>the-caine-prize-for-african-writing</td>\n      <td>9781906523374</td>\n      <td>1906523371</td>\n      <td>13.46</td>\n      <td>Paperback</td>\n      <td>New Internationalist</td>\n      <td>2010-08-01</td>\n      <td></td>\n      <td>Short Story Anthologies, African Fiction, Afri...</td>\n      <td></td>\n      <td>208.0</td>\n      <td>5.00 (w) x 7.70 (h) x 0.70 (d)</td>\n      <td>The Caine Prize for African Writing is Africa'...</td>\n      <td></td>\n      <td>The best in new short story fiction from Afric...</td>\n      <td>Introduction 6 Caine Prize 2010 Shortlisted St...</td>\n      <td></td>\n    </tr>\n    <tr>\n      <th>3</th>\n      <td>African Folktales</td>\n      <td>Roger D. Abrahams</td>\n      <td></td>\n      <td>Roger D. Abrahams, Dan Frank</td>\n      <td>african-folktales</td>\n      <td>roger-d-abrahams</td>\n      <td>9780394721170</td>\n      <td>0394721179</td>\n      <td>18.95</td>\n      <td>Paperback</td>\n      <td>Knopf Doubleday Publishing Group</td>\n      <td>1983-08-01</td>\n      <td></td>\n      <td>Travel, Africa</td>\n      <td></td>\n      <td>NaN</td>\n      <td></td>\n      <td></td>\n      <td></td>\n      <td>Nearly 100 stories from over 40 tribe-related ...</td>\n      <td></td>\n      <td></td>\n    </tr>\n    <tr>\n      <th>4</th>\n      <td>Unchained Voices: An Anthology of Black Author...</td>\n      <td>Vincent Carretta</td>\n      <td></td>\n      <td>Vincent Carretta</td>\n      <td>unchained-voices</td>\n      <td>vincent-carretta</td>\n      <td>9780813190761</td>\n      <td>0813190762</td>\n      <td>30.00</td>\n      <td>Paperback</td>\n      <td>University Press of Kentucky</td>\n      <td>2003-12-01</td>\n      <td>Expanded</td>\n      <td>United States History - African American Histo...</td>\n      <td></td>\n      <td>416.0</td>\n      <td>6.10 (w) x 9.40 (h) x 1.10 (d)</td>\n      <td>Vincent Carretta has assembled the most compre...</td>\n      <td></td>\n      <td>Vincent Carretta has assembled the most compre...</td>\n      <td>Acknowledgments    Introduction  1   A Note o...</td>\n      <td>\\n     African American Review \\nThis excellen...</td>\n    </tr>\n    <tr>\n      <th>5</th>\n      <td>Women Writing Africa: West Africa and the Sahel</td>\n      <td>Esi Sutherland-Addy</td>\n      <td>Esi Sutherland-Addy (Ph.D. Hon, Hon FCP) is se...</td>\n      <td>Esi Sutherland-Addy (Editor), Abena P. A. Busi...</td>\n      <td>women-writing-africa</td>\n      <td>esi-sutherland-addy</td>\n      <td>9781558615007</td>\n      <td>1558615008</td>\n      <td>29.95</td>\n      <td>Paperback</td>\n      <td>Feminist Press at CUNY, The</td>\n      <td>2005-08-01</td>\n      <td></td>\n      <td>Literary Criticism - General &amp; Miscellaneous, ...</td>\n      <td></td>\n      <td>560.0</td>\n      <td>6.00 (w) x 9.00 (h) x 1.30 (d)</td>\n      <td>The acclaimed Women Writing Africa project “op...</td>\n      <td></td>\n      <td>A major literary and scholarly work that trans...</td>\n      <td></td>\n      <td>\\n     Library Journal \\nThis second of four v...</td>\n    </tr>\n  </tbody>\n</table>\n</div>"
     },
     "metadata": {},
     "execution_count": 119
    }
   ],
   "source": [
    "# we need price as a float, pages as integer, pubdate as a date and author_id droped\n",
    "\n",
    "def price_parser(price):\n",
    "    price = price.replace(\"$\", \"\")\n",
    "    # handle instances where price = '' (NaN values)\n",
    "    try:\n",
    "        price = float(price)\n",
    "    except:\n",
    "        price = None\n",
    "    return price\n",
    "\n",
    "def pages_parser(pages):\n",
    "    try:\n",
    "        pages = int(pages)\n",
    "    except:\n",
    "        pages = None\n",
    "    return pages\n",
    "\n",
    "books['price'] = books['price'].apply(lambda price: price_parser(price))\n",
    "books['pages'] = books['pages'].apply(lambda pages: pages_parser(pages))\n",
    "books['pubdate'] = books['pubdate'].apply(lambda pubdate: pd.to_datetime(pubdate, format = \"%B %Y\").date())\n",
    "books = books.drop(columns=['author_id']) # this column doesn't make sense\n",
    "books.head()"
   ]
  },
  {
   "cell_type": "code",
   "execution_count": 120,
   "metadata": {},
   "outputs": [
    {
     "output_type": "execute_result",
     "data": {
      "text/plain": [
       "title                 object\n",
       "author                object\n",
       "author_bio            object\n",
       "authors               object\n",
       "title_slug            object\n",
       "author_slug           object\n",
       "isbn13                 int64\n",
       "isbn10                object\n",
       "price                float64\n",
       "format                object\n",
       "publisher             object\n",
       "pubdate               object\n",
       "edition               object\n",
       "subjects              object\n",
       "lexile                object\n",
       "pages                float64\n",
       "dimensions            object\n",
       "overview              object\n",
       "excerpt               object\n",
       "synopsis              object\n",
       "toc                   object\n",
       "editorial_reviews     object\n",
       "dtype: object"
      ]
     },
     "metadata": {},
     "execution_count": 120
    }
   ],
   "source": [
    "# cross check data types\n",
    "books.dtypes\n",
    "# pages didn't convert to int, but that is fine"
   ]
  }
 ]
}
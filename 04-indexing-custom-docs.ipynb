{
 "metadata": {
  "language_info": {
   "codemirror_mode": {
    "name": "ipython",
    "version": 3
   },
   "file_extension": ".py",
   "mimetype": "text/x-python",
   "name": "python",
   "nbconvert_exporter": "python",
   "pygments_lexer": "ipython3",
   "version": "3.9.2-final"
  },
  "orig_nbformat": 2,
  "kernelspec": {
   "name": "python3",
   "display_name": "Python 3.9.2 64-bit ('searchengine')",
   "metadata": {
    "interpreter": {
     "hash": "5c42fe252a17680b3092c13cff773c6bfaaa54f0dea3a1659c27a632305033c6"
    }
   }
  }
 },
 "nbformat": 4,
 "nbformat_minor": 2,
 "cells": [
  {
   "source": [
    "# Indexing custom documents\n",
    "\n",
    "Solr’s basic unit of information is a `document`, which is a set of data that describes something. A document about a book could contain the title, author, year of publication, number of pages, and so on. Documents are composed of `fields`, which are more specific pieces of information. Fields can contain different kinds of data. A title field, for example, is text and publication year could be a date or an integer. **If fields are defined correctly, Solr will be able to interpret field values correctly**. `Field analysis` tells Solr what to do with incoming data when building an index.\n",
    "\n",
    "> In this lab, we will borrow field types handling concepts from `03-schema-api.ipynb` notebook. If you are not familiar with the notebook, I suggest you take time to understance what is therein before proceeding any further with this notebook.\n",
    "\n"
   ],
   "cell_type": "markdown",
   "metadata": {}
  },
  {
   "cell_type": "code",
   "execution_count": 2,
   "metadata": {},
   "outputs": [],
   "source": [
    "from simplejson import loads\n",
    "from requests import request\n",
    "\n",
    "# define Solr instance resources\n",
    "base_url = 'http://localhost:8983'\n",
    "core_name = 'localDocs'\n",
    "# define important paths\n",
    "api_endpoint = f'{base_url}/api/cores/{core_name}' # note that we are using API V2\n",
    "schema_endpoint = f'{api_endpoint}/schema'\n",
    "# set http header content\n",
    "headers = {\n",
    "    'Content-type':'application/json'\n",
    "}\n",
    "\n",
    "def handle_request(method=\"POST\", body={}, endpoint=schema_endpoint, headers=headers):\n",
    "    r = request(method, endpoint, headers=headers, json=body)\n",
    "    return loads(r.text)"
   ]
  }
 ]
}
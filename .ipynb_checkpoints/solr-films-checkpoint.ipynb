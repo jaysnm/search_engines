{
 "cells": [
  {
   "cell_type": "code",
   "execution_count": 1,
   "id": "logical-ultimate",
   "metadata": {},
   "outputs": [],
   "source": [
    "import simplejson as json\n",
    "import requests\n",
    "\n",
    "host = 'http://localhost:8983/solr'\n",
    "collection = 'films'\n",
    "search_url = host + '/' + collection + '/select?q='\n",
    "\n",
    "header = {\n",
    "    'Content-type':'application/json'\n",
    "}\n",
    "\n",
    "def search_query(query):\n",
    "    query = requests.utils.quote(query)\n",
    "    req = requests.get(search_url, header=header)\n",
    "    if req.status_code == 200:\n",
    "        result = json.loads(req.text)\n",
    "        print(f\"Matching documents count {result['response']['numFound']}\")\n",
    "        print(json.dumps(result['response']['docs'], indent=1))\n",
    "    else:\n",
    "        print(req.status_code, req.reason)"
   ]
  },
  {
   "cell_type": "code",
   "execution_count": 8,
   "id": "weighted-gathering",
   "metadata": {},
   "outputs": [
    {
     "name": "stdout",
     "output_type": "stream",
     "text": [
      "{\n",
      "  \"responseHeader\":{\n",
      "    \"status\":0,\n",
      "    \"QTime\":194}}\n",
      "\n"
     ]
    }
   ],
   "source": [
    "# set up custom schema settings\n",
    "schema = {\n",
    "    \"add-field\": \n",
    "    {\n",
    "        \"name\":\"type\", \n",
    "        \"type\":\"text_general\", \n",
    "        \"multiValued\":False, \n",
    "        \"stored\":True\n",
    "    }\n",
    "}\n",
    "r = requests.post(host+\"/\"+collection+'/schema', json=schema)\n",
    "if r.status_code == 200:\n",
    "    print(r.text)\n",
    "else:\n",
    "    print(r.status_code, r.reason)"
   ]
  },
  {
   "cell_type": "code",
   "execution_count": 10,
   "id": "classical-isaac",
   "metadata": {},
   "outputs": [
    {
     "name": "stdout",
     "output_type": "stream",
     "text": [
      "{\n",
      "  \"responseHeader\":{\n",
      "    \"status\":0,\n",
      "    \"QTime\":165}}\n",
      "\n"
     ]
    }
   ],
   "source": [
    "#  set up a \"catchall field\" by defining a copy field that will take all data from all fields\n",
    "schema = {\n",
    "    \"add-copy-field\": \n",
    "    {\n",
    "        \"source\":\"*\",\n",
    "        \"dest\":\"_text_\"\n",
    "    }\n",
    "}\n",
    "r = requests.post(host+\"/\"+collection+'/schema', json=schema)\n",
    "if r.status_code == 200:\n",
    "    print(r.text)\n",
    "else:\n",
    "    print(r.status_code, r.reason)"
   ]
  }
 ],
 "metadata": {
  "kernelspec": {
   "display_name": "Python 3",
   "language": "python",
   "name": "python3"
  },
  "language_info": {
   "codemirror_mode": {
    "name": "ipython",
    "version": 3
   },
   "file_extension": ".py",
   "mimetype": "text/x-python",
   "name": "python",
   "nbconvert_exporter": "python",
   "pygments_lexer": "ipython3",
   "version": "3.9.2"
  }
 },
 "nbformat": 4,
 "nbformat_minor": 5
}

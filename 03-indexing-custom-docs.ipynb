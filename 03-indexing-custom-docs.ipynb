{
 "metadata": {
  "language_info": {
   "codemirror_mode": {
    "name": "ipython",
    "version": 3
   },
   "file_extension": ".py",
   "mimetype": "text/x-python",
   "name": "python",
   "nbconvert_exporter": "python",
   "pygments_lexer": "ipython3",
   "version": 3
  },
  "orig_nbformat": 2
 },
 "nbformat": 4,
 "nbformat_minor": 2,
 "cells": [
  {
   "source": [
    "# Indexing custom documents  \n",
    "\n",
    "Solr’s basic unit of information is a `document`, which is a set of data that describes something. A document about a book could contain the title, author, year of publication, number of pages, and so on. Documents are composed of `fields`, which are more specific pieces of information. Fields can contain different kinds of data. A title field, for example, is text and publication year could be a date or an integer. **If fields are defined correctly, Solr will be able to interpret them correctly**. `Field analysis` tells Solr what to do with incoming data when building an index.\n",
    "\n",
    "## Field Default Properties  \n",
    "These are properties that can be specified either on the field types or on individual fields to override the values provided by the field types.  \n",
    "\n",
    "![Field Type](field-types.png)"
   ],
   "cell_type": "markdown",
   "metadata": {}
  }
 ]
}
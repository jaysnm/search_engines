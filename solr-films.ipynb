{
 "cells": [
  {
   "source": [
    "## Pre-requisites\n",
    "\n",
    "For this exercise, we shall use solr in standalone mode.  \n",
    "There are a number of alternative ways to run solr including using a [docker image](https://hub.docker.com/_/solr) but for this exercise we shall use binaries downloaded from [here](https://solr.apache.org/downloads.html).  \n",
    "I assume you are using Linux or Mac. For windows users, all other commands will work with no modification except the command used for indexing documents. \n",
    "\n",
    "- Download and decompress solr binary reloase `tar -xzf solr-{version}.tgz`\n",
    "- Change directory to the decompressed binary directory `cd solr-{version}`\n",
    "- Launch solr in sandalone mode, run the process in the foreground `bin/solr start -f`\n",
    "- Create films core `bin/solr create -c films`. Note that here we have not defined configset for films core!"
   ],
   "cell_type": "markdown",
   "metadata": {}
  },
  {
   "cell_type": "code",
   "execution_count": 18,
   "id": "happy-journal",
   "metadata": {},
   "outputs": [],
   "source": [
    "import simplejson as json\n",
    "import requests\n",
    "\n",
    "host = 'http://localhost:8983/solr'\n",
    "core = 'films'\n",
    "search_url = host + '/' + core + '/select?q='\n",
    "\n",
    "headers = {\n",
    "    'Content-type':'application/json'\n",
    "}\n",
    "\n",
    "def search_query(query):\n",
    "    query = requests.utils.quote(query)\n",
    "    req = requests.get(search_url + query, headers=headers)\n",
    "    if req.status_code == 200:\n",
    "        result = json.loads(req.text)\n",
    "        print(f\"Matching documents count {result['response']['numFound']}\")\n",
    "        print(json.dumps(result['response']['docs'], indent=1))\n",
    "    else:\n",
    "        print(req.status_code, req.reason)"
   ]
  },
  {
   "cell_type": "code",
   "execution_count": 19,
   "id": "stuffed-remark",
   "metadata": {},
   "outputs": [
    {
     "output_type": "stream",
     "name": "stdout",
     "text": [
      "{\n  \"responseHeader\":{\n    \"status\":0,\n    \"QTime\":389}}\n\n"
     ]
    }
   ],
   "source": [
    "# set up custom schema settings\n",
    "schema = {\n",
    "    \"add-field\": \n",
    "    [\n",
    "        {\n",
    "            \"name\":\"name\", \n",
    "            \"type\":\"text_general\", \n",
    "            \"multiValued\":False, \n",
    "            \"stored\":True\n",
    "        },\n",
    "        {\n",
    "            \"name\":\"genre\", \n",
    "            \"type\":\"text_general\", \n",
    "            \"multiValued\":True, \n",
    "            \"stored\":True\n",
    "        }\n",
    "    ]\n",
    "}\n",
    "\n",
    "r = requests.post(host+\"/\"+collection+'/schema', json=schema)\n",
    "if r.status_code == 200:\n",
    "    print(r.text)\n",
    "else:\n",
    "    print(r.status_code, r.reason)"
   ]
  },
  {
   "cell_type": "code",
   "execution_count": 20,
   "id": "defensive-session",
   "metadata": {},
   "outputs": [
    {
     "output_type": "stream",
     "name": "stdout",
     "text": [
      "{\n  \"responseHeader\":{\n    \"status\":0,\n    \"QTime\":275}}\n\n"
     ]
    }
   ],
   "source": [
    "#  set up a \"catchall field\" by defining a copy field that will take all data from all fields\n",
    "schema = {\n",
    "    \"add-copy-field\": \n",
    "    {\n",
    "        \"source\":\"*\",\n",
    "        \"dest\":\"_text_\"\n",
    "    }\n",
    "}\n",
    "r = requests.post(host+\"/\"+collection+'/schema', json=schema)\n",
    "if r.status_code == 200:\n",
    "    print(r.text)\n",
    "else:\n",
    "    print(r.status_code, r.reason)"
   ]
  },
  {
   "source": [
    "## Index sample films data after schema definition\n",
    "- `bin/post -c films example/films/films.json*` for linux/mac users\n",
    "- `java -jar -Dc=films -Dauto example\\exampledocs\\post.jar example\\films\\*.json` for windows users"
   ],
   "cell_type": "markdown",
   "metadata": {}
  },
  {
   "cell_type": "code",
   "execution_count": 22,
   "id": "negative-insurance",
   "metadata": {},
   "outputs": [
    {
     "output_type": "stream",
     "name": "stdout",
     "text": [
      "Matching documents count 284\n[\n {\n  \"id\": \"/en/anamorph\",\n  \"genre\": [\n   \"Psychological thriller\",\n   \"Crime Fiction\",\n   \"Thriller\",\n   \"Mystery\",\n   \"Crime Thriller\",\n   \"Suspense\"\n  ],\n  \"directed_by\": [\n   \"H.S. Miller\"\n  ],\n  \"name\": \"Anamorph\",\n  \"_version_\": 1695550362411335681\n },\n {\n  \"id\": \"/en/blood_work\",\n  \"directed_by\": [\n   \"Clint Eastwood\"\n  ],\n  \"initial_release_date\": [\n   \"2002-08-09T00:00:00Z\"\n  ],\n  \"name\": \"Blood Work\",\n  \"genre\": [\n   \"Mystery\",\n   \"Crime Thriller\",\n   \"Thriller\",\n   \"Suspense\",\n   \"Crime Fiction\",\n   \"Detective fiction\",\n   \"Drama\"\n  ],\n  \"_version_\": 1695550362494173186\n },\n {\n  \"id\": \"/en/brigham_city_2001\",\n  \"directed_by\": [\n   \"Richard Dutcher\"\n  ],\n  \"name\": \"Brigham City\",\n  \"genre\": [\n   \"Mystery\",\n   \"Indie film\",\n   \"Crime Fiction\",\n   \"Thriller\",\n   \"Crime Thriller\",\n   \"Drama\"\n  ],\n  \"_version_\": 1695550362510950401\n },\n {\n  \"id\": \"/en/brother\",\n  \"directed_by\": [\n   \"Takeshi Kitano\"\n  ],\n  \"name\": \"Brother\",\n  \"genre\": [\n   \"Thriller\",\n   \"Crime Fiction\"\n  ],\n  \"_version_\": 1695550362516193280\n },\n {\n  \"id\": \"/en/freedomland\",\n  \"initial_release_date\": [\n   \"2006-02-17T00:00:00Z\"\n  ],\n  \"name\": \"Freedomland\",\n  \"directed_by\": [\n   \"Joe Roth\"\n  ],\n  \"genre\": [\n   \"Mystery\",\n   \"Thriller\",\n   \"Crime Fiction\",\n   \"Film adaptation\",\n   \"Crime Thriller\",\n   \"Crime Drama\",\n   \"Drama\"\n  ],\n  \"_version_\": 1695550362649362435\n },\n {\n  \"id\": \"/en/brick_2006\",\n  \"directed_by\": [\n   \"Rian Johnson\"\n  ],\n  \"initial_release_date\": [\n   \"2006-04-07T00:00:00Z\"\n  ],\n  \"name\": \"Brick\",\n  \"genre\": [\n   \"Film noir\",\n   \"Indie film\",\n   \"Teen film\",\n   \"Neo-noir\",\n   \"Mystery\",\n   \"Crime Thriller\",\n   \"Crime Fiction\",\n   \"Thriller\",\n   \"Detective fiction\",\n   \"Drama\"\n  ],\n  \"_version_\": 1695550362509901824\n },\n {\n  \"id\": \"/en/american_gangster\",\n  \"initial_release_date\": [\n   \"2007-10-19T00:00:00Z\"\n  ],\n  \"genre\": [\n   \"Crime Fiction\",\n   \"War film\",\n   \"Crime Thriller\",\n   \"Historical period drama\",\n   \"Biographical film\",\n   \"Crime Drama\",\n   \"Gangster Film\",\n   \"True crime\",\n   \"Drama\"\n  ],\n  \"directed_by\": [\n   \"Ridley Scott\"\n  ],\n  \"name\": \"American Gangster\",\n  \"_version_\": 1695550362398752769\n },\n {\n  \"id\": \"/en/after_innocence\",\n  \"genre\": [\n   \"Documentary film\",\n   \"Crime Fiction\",\n   \"Political cinema\",\n   \"Culture &amp; Society\",\n   \"Law &amp; Crime\",\n   \"Biographical film\"\n  ],\n  \"directed_by\": [\n   \"Jessica Sanders\"\n  ],\n  \"name\": \"After Innocence\",\n  \"_version_\": 1695550362362052609\n },\n {\n  \"id\": \"/en/be_cool\",\n  \"directed_by\": [\n   \"F. Gary Gray\"\n  ],\n  \"initial_release_date\": [\n   \"2005-03-04T00:00:00Z\"\n  ],\n  \"name\": \"Be Cool\",\n  \"genre\": [\n   \"Crime Fiction\",\n   \"Crime Comedy\",\n   \"Comedy\"\n  ],\n  \"_version_\": 1695550362462715905\n },\n {\n  \"id\": \"/en/elvis_has_left_the_building_2004\",\n  \"directed_by\": [\n   \"Joel Zwick\"\n  ],\n  \"genre\": [\n   \"Action Film\",\n   \"Action/Adventure\",\n   \"Road movie\",\n   \"Crime Comedy\",\n   \"Crime Fiction\",\n   \"Comedy\"\n  ],\n  \"name\": \"Elvis Has Left the Building\",\n  \"_version_\": 1695550362621050881\n }\n]\n"
     ]
    }
   ],
   "source": [
    "# query movies where genre involves crime fiction scenes\n",
    "search_query(\"Crime Fiction\")"
   ]
  },
  {
   "cell_type": "code",
   "execution_count": 23,
   "metadata": {},
   "outputs": [
    {
     "output_type": "stream",
     "name": "stdout",
     "text": [
      "Matching documents count 284\n\nFacet counts\n\n{\n \"genre\": [\n  \"fiction\",\n  263,\n  \"film\",\n  211,\n  \"crime\",\n  191,\n  \"thriller\",\n  154,\n  \"drama\",\n  148,\n  \"action\",\n  114,\n  \"science\",\n  82,\n  \"adventure\",\n  73,\n  \"comedy\",\n  66\n ]\n}\n\nSample search result\n\n[\n {\n  \"id\": \"/en/anamorph\",\n  \"genre\": [\n   \"Psychological thriller\",\n   \"Crime Fiction\",\n   \"Thriller\",\n   \"Mystery\",\n   \"Crime Thriller\",\n   \"Suspense\"\n  ],\n  \"directed_by\": [\n   \"H.S. Miller\"\n  ],\n  \"name\": \"Anamorph\",\n  \"_version_\": 1695550362411335681\n },\n {\n  \"id\": \"/en/blood_work\",\n  \"directed_by\": [\n   \"Clint Eastwood\"\n  ],\n  \"initial_release_date\": [\n   \"2002-08-09T00:00:00Z\"\n  ],\n  \"name\": \"Blood Work\",\n  \"genre\": [\n   \"Mystery\",\n   \"Crime Thriller\",\n   \"Thriller\",\n   \"Suspense\",\n   \"Crime Fiction\",\n   \"Detective fiction\",\n   \"Drama\"\n  ],\n  \"_version_\": 1695550362494173186\n },\n {\n  \"id\": \"/en/brigham_city_2001\",\n  \"directed_by\": [\n   \"Richard Dutcher\"\n  ],\n  \"name\": \"Brigham City\",\n  \"genre\": [\n   \"Mystery\",\n   \"Indie film\",\n   \"Crime Fiction\",\n   \"Thriller\",\n   \"Crime Thriller\",\n   \"Drama\"\n  ],\n  \"_version_\": 1695550362510950401\n },\n {\n  \"id\": \"/en/brother\",\n  \"directed_by\": [\n   \"Takeshi Kitano\"\n  ],\n  \"name\": \"Brother\",\n  \"genre\": [\n   \"Thriller\",\n   \"Crime Fiction\"\n  ],\n  \"_version_\": 1695550362516193280\n },\n {\n  \"id\": \"/en/freedomland\",\n  \"initial_release_date\": [\n   \"2006-02-17T00:00:00Z\"\n  ],\n  \"name\": \"Freedomland\",\n  \"directed_by\": [\n   \"Joe Roth\"\n  ],\n  \"genre\": [\n   \"Mystery\",\n   \"Thriller\",\n   \"Crime Fiction\",\n   \"Film adaptation\",\n   \"Crime Thriller\",\n   \"Crime Drama\",\n   \"Drama\"\n  ],\n  \"_version_\": 1695550362649362435\n },\n {\n  \"id\": \"/en/brick_2006\",\n  \"directed_by\": [\n   \"Rian Johnson\"\n  ],\n  \"initial_release_date\": [\n   \"2006-04-07T00:00:00Z\"\n  ],\n  \"name\": \"Brick\",\n  \"genre\": [\n   \"Film noir\",\n   \"Indie film\",\n   \"Teen film\",\n   \"Neo-noir\",\n   \"Mystery\",\n   \"Crime Thriller\",\n   \"Crime Fiction\",\n   \"Thriller\",\n   \"Detective fiction\",\n   \"Drama\"\n  ],\n  \"_version_\": 1695550362509901824\n },\n {\n  \"id\": \"/en/american_gangster\",\n  \"initial_release_date\": [\n   \"2007-10-19T00:00:00Z\"\n  ],\n  \"genre\": [\n   \"Crime Fiction\",\n   \"War film\",\n   \"Crime Thriller\",\n   \"Historical period drama\",\n   \"Biographical film\",\n   \"Crime Drama\",\n   \"Gangster Film\",\n   \"True crime\",\n   \"Drama\"\n  ],\n  \"directed_by\": [\n   \"Ridley Scott\"\n  ],\n  \"name\": \"American Gangster\",\n  \"_version_\": 1695550362398752769\n },\n {\n  \"id\": \"/en/after_innocence\",\n  \"genre\": [\n   \"Documentary film\",\n   \"Crime Fiction\",\n   \"Political cinema\",\n   \"Culture &amp; Society\",\n   \"Law &amp; Crime\",\n   \"Biographical film\"\n  ],\n  \"directed_by\": [\n   \"Jessica Sanders\"\n  ],\n  \"name\": \"After Innocence\",\n  \"_version_\": 1695550362362052609\n },\n {\n  \"id\": \"/en/be_cool\",\n  \"directed_by\": [\n   \"F. Gary Gray\"\n  ],\n  \"initial_release_date\": [\n   \"2005-03-04T00:00:00Z\"\n  ],\n  \"name\": \"Be Cool\",\n  \"genre\": [\n   \"Crime Fiction\",\n   \"Crime Comedy\",\n   \"Comedy\"\n  ],\n  \"_version_\": 1695550362462715905\n },\n {\n  \"id\": \"/en/elvis_has_left_the_building_2004\",\n  \"directed_by\": [\n   \"Joel Zwick\"\n  ],\n  \"genre\": [\n   \"Action Film\",\n   \"Action/Adventure\",\n   \"Road movie\",\n   \"Crime Comedy\",\n   \"Crime Fiction\",\n   \"Comedy\"\n  ],\n  \"name\": \"Elvis Has Left the Building\",\n  \"_version_\": 1695550362621050881\n }\n]\n"
     ]
    }
   ],
   "source": [
    "# apply faceting\n",
    "def query_and_facet(query, facet_field, facet_mincount=20):\n",
    "    query = requests.utils.quote(query)\n",
    "    url = search_url + query + '&facet=on&facet.field={}&facet.mincount={}&wt=json'.format(facet_field, facet_mincount)\n",
    "    req = requests.get(url, headers=headers)\n",
    "    if req.status_code == 200:\n",
    "        result = json.loads(req.text)\n",
    "        print(f\"Matching documents count {result['response']['numFound']}\")\n",
    "        print(\"\\nFacet counts\\n\")\n",
    "        print(json.dumps(result['facet_counts']['facet_fields'], indent=1))\n",
    "        print(\"\\nSample search result\\n\")\n",
    "        print(json.dumps(result['response']['docs'], indent=1))\n",
    "    else:\n",
    "        print(req.status_code, req.reason)\n",
    "\n",
    "query_and_facet(query=\"Crime Fiction\", facet_field='genre', facet_mincount=50)"
   ]
  },
  {
   "cell_type": "code",
   "execution_count": null,
   "metadata": {},
   "outputs": [],
   "source": []
  }
 ],
 "metadata": {
  "kernelspec": {
   "name": "python3",
   "display_name": "Python 3.9.2 64-bit ('searchengine')",
   "metadata": {
    "interpreter": {
     "hash": "5c42fe252a17680b3092c13cff773c6bfaaa54f0dea3a1659c27a632305033c6"
    }
   }
  },
  "language_info": {
   "codemirror_mode": {
    "name": "ipython",
    "version": 3
   },
   "file_extension": ".py",
   "mimetype": "text/x-python",
   "name": "python",
   "nbconvert_exporter": "python",
   "pygments_lexer": "ipython3",
   "version": "3.9.2-final"
  }
 },
 "nbformat": 4,
 "nbformat_minor": 5
}
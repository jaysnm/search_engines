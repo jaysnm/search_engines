{
 "metadata": {
  "language_info": {
   "codemirror_mode": {
    "name": "ipython",
    "version": 3
   },
   "file_extension": ".py",
   "mimetype": "text/x-python",
   "name": "python",
   "nbconvert_exporter": "python",
   "pygments_lexer": "ipython3",
   "version": "3.9.2-final"
  },
  "orig_nbformat": 2,
  "kernelspec": {
   "name": "python392jvsc74a57bd05c42fe252a17680b3092c13cff773c6bfaaa54f0dea3a1659c27a632305033c6",
   "display_name": "Python 3.9.2 64-bit ('searchengine')"
  }
 },
 "nbformat": 4,
 "nbformat_minor": 2,
 "cells": [
  {
   "source": [
    "# Schema API  \n",
    "\n",
    "The Schema API allows you to use an HTTP API to manage many of the elements of your schema. This API provides read and write access to the Solr schema for each collection (or core, when using standalone Solr). Using the API, fields, dynamic fields, field types and copyField rules may be added, removed or replaced/updated.  \n",
    "\n",
    "When modifying the schema with the API, a core reload will automatically occur in order for the changes to be available immediately for documents indexed thereafter. Previously indexed documents will **not** be automatically updated - they **must** be reindexed if existing index data uses schema elements that you changed.  \n",
    "\n",
    "**Throughout the course of this exercise, we will use `localDocs` core which can be created as shown below**  \n",
    "\n",
    "- Download and extract Solr distribution archive to a directory of your choosing  \n",
    "    - `curl <download-link> && tar -xzf solr-{version}.tgz`  \n",
    "- Change directory to the decompressed binary directory  \n",
    "    - `cd solr-{version}`  \n",
    "- Launch solr in single node mode, run the process in the foreground  \n",
    "    - `bin/solr start -f`  \n",
    "- On aother terminal window or new tab in current terminal, create `sandboxEnv` core   \n",
    "    - `bin/solr create -c sandboxEnv`\n"
   ],
   "cell_type": "markdown",
   "metadata": {}
  },
  {
   "cell_type": "code",
   "execution_count": 2,
   "metadata": {},
   "outputs": [],
   "source": [
    "from simplejson import loads, dumps\n",
    "from requests import request\n",
    "\n",
    "# define Solr instance resources\n",
    "base_url = 'http://localhost:8983'\n",
    "core_name = 'sandboxEnv'\n",
    "# define important paths\n",
    "api_endpoint = f'{base_url}/api/cores/{core_name}' # note that we are using API V2\n",
    "schema_endpoint = f'{api_endpoint}/schema'\n",
    "# set http header content\n",
    "headers = {\n",
    "    'Content-type':'application/json'\n",
    "}\n",
    "\n",
    "def handle_request(method=\"POST\", body={}, endpoint=schema_endpoint, headers=headers):\n",
    "    r = request(method, endpoint, headers=headers, json=body)\n",
    "    return loads(r.text)"
   ]
  },
  {
   "source": [
    "By default, `Solr` ships with pre-defined `field types` which can later be extended when defining new fields or adding fields to schema. See [this page](https://solr.apache.org/guide/8_8/field-type-definitions-and-properties.html) and [this](https://solr.apache.org/guide/8_8/field-types-included-with-solr.html) for more details.  \n",
    "Let's view default `field types` defined in our `localDocs` core"
   ],
   "cell_type": "markdown",
   "metadata": {}
  },
  {
   "cell_type": "code",
   "execution_count": 3,
   "metadata": {},
   "outputs": [
    {
     "output_type": "stream",
     "name": "stdout",
     "text": [
      "{\n  \"responseHeader\": {\n    \"status\": 0,\n    \"QTime\": 6\n  },\n  \"schema\": {\n    \"name\": \"default-config\",\n    \"version\": 1.6,\n    \"uniqueKey\": \"id\",\n    \"fieldTypes\": [\n      {\n        \"name\": \"_nest_path_\",\n        \"class\": \"solr.NestPathField\",\n        \"maxCharsForDocValues\": \"-1\",\n        \"omitNorms\": true,\n        \"omitTermFreqAndPositions\": true,\n        \"stored\": false,\n        \"multiValued\": false\n      },\n      {\n        \"name\": \"ancestor_path\",\n        \"class\": \"solr.TextField\",\n        \"indexAnalyzer\": {\n          \"tokenizer\": {\n            \"class\": \"solr.KeywordTokenizerFactory\"\n          }\n        },\n        \"queryAnalyzer\": {\n          \"tokenizer\": {\n            \"class\": \"solr.PathHierarchyTokenizerFactory\",\n            \"delimiter\": \"/\"\n          }\n        }\n      },\n      {\n        \"name\": \"binary\",\n        \"class\": \"solr.BinaryField\"\n      },\n      {\n        \"name\": \"boolean\",\n        \"class\": \"solr.BoolField\",\n        \"sortMissingLast\": true\n      },\n      {\n        \"name\": \"booleans\",\n        \"class\": \"solr.BoolField\",\n        \"sortMissingLast\": true,\n        \"multiValued\": true\n      },\n      {\n        \"name\": \"delimited_payloads_float\",\n        \"class\": \"solr.TextField\",\n        \"indexed\": true,\n        \"stored\": false,\n        \"analyzer\": {\n          \"tokenizer\": {\n            \"class\": \"solr.WhitespaceTokenizerFactory\"\n          },\n          \"filters\": [\n            {\n              \"class\": \"solr.DelimitedPayloadTokenFilterFactory\",\n              \"encoder\": \"float\"\n            }\n          ]\n        }\n      },\n      {\n        \"name\": \"delimited_payloads_int\",\n        \"class\": \"solr.TextField\",\n        \"indexed\": true,\n        \"stored\": false,\n        \"analyzer\": {\n          \"tokenizer\": {\n            \"class\": \"solr.WhitespaceTokenizerFactory\"\n          },\n          \"filters\": [\n            {\n              \"class\": \"solr.DelimitedPayloadTokenFilterFactory\",\n              \"encoder\": \"integer\"\n            }\n          ]\n        }\n      },\n      {\n        \"name\": \"delimited_payloads_string\",\n        \"class\": \"solr.TextField\",\n        \"indexed\": true,\n        \"stored\": false,\n        \"analyzer\": {\n          \"tokenizer\": {\n            \"class\": \"solr.WhitespaceTokenizerFactory\"\n          },\n          \"filters\": [\n            {\n              \"class\": \"solr.DelimitedPayloadTokenFilterFactory\",\n              \"encoder\": \"identity\"\n            }\n          ]\n        }\n      },\n      {\n        \"name\": \"descendent_path\",\n        \"class\": \"solr.TextField\",\n        \"indexAnalyzer\": {\n          \"tokenizer\": {\n            \"class\": \"solr.PathHierarchyTokenizerFactory\",\n            \"delimiter\": \"/\"\n          }\n        },\n        \"queryAnalyzer\": {\n          \"tokenizer\": {\n            \"class\": \"solr.KeywordTokenizerFactory\"\n          }\n        }\n      },\n      {\n        \"name\": \"ignored\",\n        \"class\": \"solr.StrField\",\n        \"indexed\": false,\n        \"stored\": false,\n        \"multiValued\": true\n      },\n      {\n        \"name\": \"location\",\n        \"class\": \"solr.LatLonPointSpatialField\",\n        \"docValues\": true\n      },\n      {\n        \"name\": \"location_rpt\",\n        \"class\": \"solr.SpatialRecursivePrefixTreeFieldType\",\n        \"geo\": \"true\",\n        \"omitNorms\": true,\n        \"omitTermFreqAndPositions\": true,\n        \"maxDistErr\": \"0.001\",\n        \"termOffsets\": false,\n        \"distErrPct\": \"0.025\",\n        \"distanceUnits\": \"kilometers\",\n        \"termPositions\": false,\n        \"omitPositions\": true\n      },\n      {\n        \"name\": \"lowercase\",\n        \"class\": \"solr.TextField\",\n        \"positionIncrementGap\": \"100\",\n        \"analyzer\": {\n          \"tokenizer\": {\n            \"class\": \"solr.KeywordTokenizerFactory\"\n          },\n          \"filters\": [\n            {\n              \"class\": \"solr.LowerCaseFilterFactory\"\n            }\n          ]\n        }\n      },\n      {\n        \"name\": \"new_txt_field\",\n        \"class\": \"solr.TextField\",\n        \"positionIncrementGap\": \"100\",\n        \"analyzer\": {\n          \"charFilters\": [\n            {\n              \"class\": \"solr.PatternReplaceCharFilterFactory\",\n              \"pattern\": \"([a-zA-Z])\\\\\\\\1+\",\n              \"replacement\": \"$1$1\"\n            }\n          ],\n          \"tokenizer\": {\n            \"class\": \"solr.StandardTokenizerFactory\"\n          },\n          \"filters\": [\n            {\n              \"class\": \"solr.WordDelimiterFilterFactory\",\n              \"preserveOriginal\": \"0\"\n            },\n            {\n              \"class\": \"solr.StopFilterFactory\",\n              \"words\": \"lang/stopwords_en.txt\",\n              \"ignoreCase\": \"true\"\n            },\n            {\n              \"class\": \"solr.EnglishPossessiveFilterFactory\"\n            },\n            {\n              \"class\": \"solr.KeywordMarkerFilterFactory\",\n              \"protected\": \"protwords.txt\"\n            }\n          ]\n        }\n      },\n      {\n        \"name\": \"pdate\",\n        \"class\": \"solr.DatePointField\",\n        \"docValues\": true\n      },\n      {\n        \"name\": \"pdates\",\n        \"class\": \"solr.DatePointField\",\n        \"docValues\": true,\n        \"multiValued\": true\n      },\n      {\n        \"name\": \"pdouble\",\n        \"class\": \"solr.DoublePointField\",\n        \"docValues\": true\n      },\n      {\n        \"name\": \"pdoubles\",\n        \"class\": \"solr.DoublePointField\",\n        \"docValues\": true,\n        \"multiValued\": true\n      },\n      {\n        \"name\": \"pfloat\",\n        \"class\": \"solr.FloatPointField\",\n        \"docValues\": true\n      },\n      {\n        \"name\": \"pfloats\",\n        \"class\": \"solr.FloatPointField\",\n        \"docValues\": true,\n        \"multiValued\": true\n      },\n      {\n        \"name\": \"phonetic_en\",\n        \"class\": \"solr.TextField\",\n        \"indexed\": true,\n        \"stored\": false,\n        \"analyzer\": {\n          \"tokenizer\": {\n            \"class\": \"solr.StandardTokenizerFactory\"\n          },\n          \"filters\": [\n            {\n              \"class\": \"solr.DoubleMetaphoneFilterFactory\",\n              \"inject\": \"false\"\n            }\n          ]\n        }\n      },\n      {\n        \"name\": \"pint\",\n        \"class\": \"solr.IntPointField\",\n        \"docValues\": true\n      },\n      {\n        \"name\": \"pints\",\n        \"class\": \"solr.IntPointField\",\n        \"docValues\": true,\n        \"multiValued\": true\n      },\n      {\n        \"name\": \"plong\",\n        \"class\": \"solr.LongPointField\",\n        \"docValues\": true\n      },\n      {\n        \"name\": \"plongs\",\n        \"class\": \"solr.LongPointField\",\n        \"docValues\": true,\n        \"multiValued\": true\n      },\n      {\n        \"name\": \"point\",\n        \"class\": \"solr.PointType\",\n        \"subFieldSuffix\": \"_d\",\n        \"dimension\": \"2\"\n      },\n      {\n        \"name\": \"random\",\n        \"class\": \"solr.RandomSortField\",\n        \"indexed\": true\n      },\n      {\n        \"name\": \"rank\",\n        \"class\": \"solr.RankField\"\n      },\n      {\n        \"name\": \"string\",\n        \"class\": \"solr.StrField\",\n        \"sortMissingLast\": true,\n        \"docValues\": true\n      },\n      {\n        \"name\": \"strings\",\n        \"class\": \"solr.StrField\",\n        \"sortMissingLast\": true,\n        \"docValues\": true,\n        \"multiValued\": true\n      },\n      {\n        \"name\": \"text_ar\",\n        \"class\": \"solr.TextField\",\n        \"positionIncrementGap\": \"100\",\n        \"analyzer\": {\n          \"tokenizer\": {\n            \"class\": \"solr.StandardTokenizerFactory\"\n          },\n          \"filters\": [\n            {\n              \"class\": \"solr.LowerCaseFilterFactory\"\n            },\n            {\n              \"class\": \"solr.StopFilterFactory\",\n              \"words\": \"lang/stopwords_ar.txt\",\n              \"ignoreCase\": \"true\"\n            },\n            {\n              \"class\": \"solr.ArabicNormalizationFilterFactory\"\n            },\n            {\n              \"class\": \"solr.ArabicStemFilterFactory\"\n            }\n          ]\n        }\n      },\n      {\n        \"name\": \"text_bg\",\n        \"class\": \"solr.TextField\",\n        \"positionIncrementGap\": \"100\",\n        \"analyzer\": {\n          \"tokenizer\": {\n            \"class\": \"solr.StandardTokenizerFactory\"\n          },\n          \"filters\": [\n            {\n              \"class\": \"solr.LowerCaseFilterFactory\"\n            },\n            {\n              \"class\": \"solr.StopFilterFactory\",\n              \"words\": \"lang/stopwords_bg.txt\",\n              \"ignoreCase\": \"true\"\n            },\n            {\n              \"class\": \"solr.BulgarianStemFilterFactory\"\n            }\n          ]\n        }\n      },\n      {\n        \"name\": \"text_ca\",\n        \"class\": \"solr.TextField\",\n        \"positionIncrementGap\": \"100\",\n        \"analyzer\": {\n          \"tokenizer\": {\n            \"class\": \"solr.StandardTokenizerFactory\"\n          },\n          \"filters\": [\n            {\n              \"class\": \"solr.ElisionFilterFactory\",\n              \"articles\": \"lang/contractions_ca.txt\",\n              \"ignoreCase\": \"true\"\n            },\n            {\n              \"class\": \"solr.LowerCaseFilterFactory\"\n            },\n            {\n              \"class\": \"solr.StopFilterFactory\",\n              \"words\": \"lang/stopwords_ca.txt\",\n              \"ignoreCase\": \"true\"\n            },\n            {\n              \"class\": \"solr.SnowballPorterFilterFactory\",\n              \"language\": \"Catalan\"\n            }\n          ]\n        }\n      },\n      {\n        \"name\": \"text_cjk\",\n        \"class\": \"solr.TextField\",\n        \"positionIncrementGap\": \"100\",\n        \"analyzer\": {\n          \"tokenizer\": {\n            \"class\": \"solr.StandardTokenizerFactory\"\n          },\n          \"filters\": [\n            {\n              \"class\": \"solr.CJKWidthFilterFactory\"\n            },\n            {\n              \"class\": \"solr.LowerCaseFilterFactory\"\n            },\n            {\n              \"class\": \"solr.CJKBigramFilterFactory\"\n            }\n          ]\n        }\n      },\n      {\n        \"name\": \"text_cz\",\n        \"class\": \"solr.TextField\",\n        \"positionIncrementGap\": \"100\",\n        \"analyzer\": {\n          \"tokenizer\": {\n            \"class\": \"solr.StandardTokenizerFactory\"\n          },\n          \"filters\": [\n            {\n              \"class\": \"solr.LowerCaseFilterFactory\"\n            },\n            {\n              \"class\": \"solr.StopFilterFactory\",\n              \"words\": \"lang/stopwords_cz.txt\",\n              \"ignoreCase\": \"true\"\n            },\n            {\n              \"class\": \"solr.CzechStemFilterFactory\"\n            }\n          ]\n        }\n      },\n      {\n        \"name\": \"text_da\",\n        \"class\": \"solr.TextField\",\n        \"positionIncrementGap\": \"100\",\n        \"analyzer\": {\n          \"tokenizer\": {\n            \"class\": \"solr.StandardTokenizerFactory\"\n          },\n          \"filters\": [\n            {\n              \"class\": \"solr.LowerCaseFilterFactory\"\n            },\n            {\n              \"class\": \"solr.StopFilterFactory\",\n              \"format\": \"snowball\",\n              \"words\": \"lang/stopwords_da.txt\",\n              \"ignoreCase\": \"true\"\n            },\n            {\n              \"class\": \"solr.SnowballPorterFilterFactory\",\n              \"language\": \"Danish\"\n            }\n          ]\n        }\n      },\n      {\n        \"name\": \"text_de\",\n        \"class\": \"solr.TextField\",\n        \"positionIncrementGap\": \"100\",\n        \"analyzer\": {\n          \"tokenizer\": {\n            \"class\": \"solr.StandardTokenizerFactory\"\n          },\n          \"filters\": [\n            {\n              \"class\": \"solr.LowerCaseFilterFactory\"\n            },\n            {\n              \"class\": \"solr.StopFilterFactory\",\n              \"format\": \"snowball\",\n              \"words\": \"lang/stopwords_de.txt\",\n              \"ignoreCase\": \"true\"\n            },\n            {\n              \"class\": \"solr.GermanNormalizationFilterFactory\"\n            },\n            {\n              \"class\": \"solr.GermanLightStemFilterFactory\"\n            }\n          ]\n        }\n      },\n      {\n        \"name\": \"text_el\",\n        \"class\": \"solr.TextField\",\n        \"positionIncrementGap\": \"100\",\n        \"analyzer\": {\n          \"tokenizer\": {\n            \"class\": \"solr.StandardTokenizerFactory\"\n          },\n          \"filters\": [\n            {\n              \"class\": \"solr.GreekLowerCaseFilterFactory\"\n            },\n            {\n              \"class\": \"solr.StopFilterFactory\",\n              \"words\": \"lang/stopwords_el.txt\",\n              \"ignoreCase\": \"false\"\n            },\n            {\n              \"class\": \"solr.GreekStemFilterFactory\"\n            }\n          ]\n        }\n      },\n      {\n        \"name\": \"text_en\",\n        \"class\": \"solr.TextField\",\n        \"positionIncrementGap\": \"100\",\n        \"indexAnalyzer\": {\n          \"tokenizer\": {\n            \"class\": \"solr.StandardTokenizerFactory\"\n          },\n          \"filters\": [\n            {\n              \"class\": \"solr.StopFilterFactory\",\n              \"words\": \"lang/stopwords_en.txt\",\n              \"ignoreCase\": \"true\"\n            },\n            {\n              \"class\": \"solr.LowerCaseFilterFactory\"\n            },\n            {\n              \"class\": \"solr.EnglishPossessiveFilterFactory\"\n            },\n            {\n              \"class\": \"solr.KeywordMarkerFilterFactory\",\n              \"protected\": \"protwords.txt\"\n            },\n            {\n              \"class\": \"solr.PorterStemFilterFactory\"\n            }\n          ]\n        },\n        \"queryAnalyzer\": {\n          \"tokenizer\": {\n            \"class\": \"solr.StandardTokenizerFactory\"\n          },\n          \"filters\": [\n            {\n              \"class\": \"solr.SynonymGraphFilterFactory\",\n              \"expand\": \"true\",\n              \"ignoreCase\": \"true\",\n              \"synonyms\": \"synonyms.txt\"\n            },\n            {\n              \"class\": \"solr.StopFilterFactory\",\n              \"words\": \"lang/stopwords_en.txt\",\n              \"ignoreCase\": \"true\"\n            },\n            {\n              \"class\": \"solr.LowerCaseFilterFactory\"\n            },\n            {\n              \"class\": \"solr.EnglishPossessiveFilterFactory\"\n            },\n            {\n              \"class\": \"solr.KeywordMarkerFilterFactory\",\n              \"protected\": \"protwords.txt\"\n            },\n            {\n              \"class\": \"solr.PorterStemFilterFactory\"\n            }\n          ]\n        }\n      },\n      {\n        \"name\": \"text_en_splitting\",\n        \"class\": \"solr.TextField\",\n        \"autoGeneratePhraseQueries\": \"true\",\n        \"positionIncrementGap\": \"100\",\n        \"indexAnalyzer\": {\n          \"tokenizer\": {\n            \"class\": \"solr.WhitespaceTokenizerFactory\"\n          },\n          \"filters\": [\n            {\n              \"class\": \"solr.StopFilterFactory\",\n              \"words\": \"lang/stopwords_en.txt\",\n              \"ignoreCase\": \"true\"\n            },\n            {\n              \"class\": \"solr.WordDelimiterGraphFilterFactory\",\n              \"catenateNumbers\": \"1\",\n              \"generateNumberParts\": \"1\",\n              \"splitOnCaseChange\": \"1\",\n              \"generateWordParts\": \"1\",\n              \"catenateAll\": \"0\",\n              \"catenateWords\": \"1\"\n            },\n            {\n              \"class\": \"solr.LowerCaseFilterFactory\"\n            },\n            {\n              \"class\": \"solr.KeywordMarkerFilterFactory\",\n              \"protected\": \"protwords.txt\"\n            },\n            {\n              \"class\": \"solr.PorterStemFilterFactory\"\n            },\n            {\n              \"class\": \"solr.FlattenGraphFilterFactory\"\n            }\n          ]\n        },\n        \"queryAnalyzer\": {\n          \"tokenizer\": {\n            \"class\": \"solr.WhitespaceTokenizerFactory\"\n          },\n          \"filters\": [\n            {\n              \"class\": \"solr.SynonymGraphFilterFactory\",\n              \"expand\": \"true\",\n              \"ignoreCase\": \"true\",\n              \"synonyms\": \"synonyms.txt\"\n            },\n            {\n              \"class\": \"solr.StopFilterFactory\",\n              \"words\": \"lang/stopwords_en.txt\",\n              \"ignoreCase\": \"true\"\n            },\n            {\n              \"class\": \"solr.WordDelimiterGraphFilterFactory\",\n              \"catenateNumbers\": \"0\",\n              \"generateNumberParts\": \"1\",\n              \"splitOnCaseChange\": \"1\",\n              \"generateWordParts\": \"1\",\n              \"catenateAll\": \"0\",\n              \"catenateWords\": \"0\"\n            },\n            {\n              \"class\": \"solr.LowerCaseFilterFactory\"\n            },\n            {\n              \"class\": \"solr.KeywordMarkerFilterFactory\",\n              \"protected\": \"protwords.txt\"\n            },\n            {\n              \"class\": \"solr.PorterStemFilterFactory\"\n            }\n          ]\n        }\n      },\n      {\n        \"name\": \"text_en_splitting_tight\",\n        \"class\": \"solr.TextField\",\n        \"autoGeneratePhraseQueries\": \"true\",\n        \"positionIncrementGap\": \"100\",\n        \"indexAnalyzer\": {\n          \"tokenizer\": {\n            \"class\": \"solr.WhitespaceTokenizerFactory\"\n          },\n          \"filters\": [\n            {\n              \"class\": \"solr.SynonymGraphFilterFactory\",\n              \"expand\": \"false\",\n              \"ignoreCase\": \"true\",\n              \"synonyms\": \"synonyms.txt\"\n            },\n            {\n              \"class\": \"solr.StopFilterFactory\",\n              \"words\": \"lang/stopwords_en.txt\",\n              \"ignoreCase\": \"true\"\n            },\n            {\n              \"class\": \"solr.WordDelimiterGraphFilterFactory\",\n              \"catenateNumbers\": \"1\",\n              \"generateNumberParts\": \"0\",\n              \"generateWordParts\": \"0\",\n              \"catenateAll\": \"0\",\n              \"catenateWords\": \"1\"\n            },\n            {\n              \"class\": \"solr.LowerCaseFilterFactory\"\n            },\n            {\n              \"class\": \"solr.KeywordMarkerFilterFactory\",\n              \"protected\": \"protwords.txt\"\n            },\n            {\n              \"class\": \"solr.EnglishMinimalStemFilterFactory\"\n            },\n            {\n              \"class\": \"solr.RemoveDuplicatesTokenFilterFactory\"\n            },\n            {\n              \"class\": \"solr.FlattenGraphFilterFactory\"\n            }\n          ]\n        },\n        \"queryAnalyzer\": {\n          \"tokenizer\": {\n            \"class\": \"solr.WhitespaceTokenizerFactory\"\n          },\n          \"filters\": [\n            {\n              \"class\": \"solr.SynonymGraphFilterFactory\",\n              \"expand\": \"false\",\n              \"ignoreCase\": \"true\",\n              \"synonyms\": \"synonyms.txt\"\n            },\n            {\n              \"class\": \"solr.StopFilterFactory\",\n              \"words\": \"lang/stopwords_en.txt\",\n              \"ignoreCase\": \"true\"\n            },\n            {\n              \"class\": \"solr.WordDelimiterGraphFilterFactory\",\n              \"catenateNumbers\": \"1\",\n              \"generateNumberParts\": \"0\",\n              \"generateWordParts\": \"0\",\n              \"catenateAll\": \"0\",\n              \"catenateWords\": \"1\"\n            },\n            {\n              \"class\": \"solr.LowerCaseFilterFactory\"\n            },\n            {\n              \"class\": \"solr.KeywordMarkerFilterFactory\",\n              \"protected\": \"protwords.txt\"\n            },\n            {\n              \"class\": \"solr.EnglishMinimalStemFilterFactory\"\n            },\n            {\n              \"class\": \"solr.RemoveDuplicatesTokenFilterFactory\"\n            }\n          ]\n        }\n      },\n      {\n        \"name\": \"text_es\",\n        \"class\": \"solr.TextField\",\n        \"positionIncrementGap\": \"100\",\n        \"analyzer\": {\n          \"tokenizer\": {\n            \"class\": \"solr.StandardTokenizerFactory\"\n          },\n          \"filters\": [\n            {\n              \"class\": \"solr.LowerCaseFilterFactory\"\n            },\n            {\n              \"class\": \"solr.StopFilterFactory\",\n              \"format\": \"snowball\",\n              \"words\": \"lang/stopwords_es.txt\",\n              \"ignoreCase\": \"true\"\n            },\n            {\n              \"class\": \"solr.SpanishLightStemFilterFactory\"\n            }\n          ]\n        }\n      },\n      {\n        \"name\": \"text_et\",\n        \"class\": \"solr.TextField\",\n        \"positionIncrementGap\": \"100\",\n        \"analyzer\": {\n          \"tokenizer\": {\n            \"class\": \"solr.StandardTokenizerFactory\"\n          },\n          \"filters\": [\n            {\n              \"class\": \"solr.LowerCaseFilterFactory\"\n            },\n            {\n              \"class\": \"solr.StopFilterFactory\",\n              \"words\": \"lang/stopwords_et.txt\",\n              \"ignoreCase\": \"true\"\n            },\n            {\n              \"class\": \"solr.SnowballPorterFilterFactory\",\n              \"language\": \"Estonian\"\n            }\n          ]\n        }\n      },\n      {\n        \"name\": \"text_eu\",\n        \"class\": \"solr.TextField\",\n        \"positionIncrementGap\": \"100\",\n        \"analyzer\": {\n          \"tokenizer\": {\n            \"class\": \"solr.StandardTokenizerFactory\"\n          },\n          \"filters\": [\n            {\n              \"class\": \"solr.LowerCaseFilterFactory\"\n            },\n            {\n              \"class\": \"solr.StopFilterFactory\",\n              \"words\": \"lang/stopwords_eu.txt\",\n              \"ignoreCase\": \"true\"\n            },\n            {\n              \"class\": \"solr.SnowballPorterFilterFactory\",\n              \"language\": \"Basque\"\n            }\n          ]\n        }\n      },\n      {\n        \"name\": \"text_fa\",\n        \"class\": \"solr.TextField\",\n        \"positionIncrementGap\": \"100\",\n        \"analyzer\": {\n          \"charFilters\": [\n            {\n              \"class\": \"solr.PersianCharFilterFactory\"\n            }\n          ],\n          \"tokenizer\": {\n            \"class\": \"solr.StandardTokenizerFactory\"\n          },\n          \"filters\": [\n            {\n              \"class\": \"solr.LowerCaseFilterFactory\"\n            },\n            {\n              \"class\": \"solr.ArabicNormalizationFilterFactory\"\n            },\n            {\n              \"class\": \"solr.PersianNormalizationFilterFactory\"\n            },\n            {\n              \"class\": \"solr.StopFilterFactory\",\n              \"words\": \"lang/stopwords_fa.txt\",\n              \"ignoreCase\": \"true\"\n            }\n          ]\n        }\n      },\n      {\n        \"name\": \"text_fi\",\n        \"class\": \"solr.TextField\",\n        \"positionIncrementGap\": \"100\",\n        \"analyzer\": {\n          \"tokenizer\": {\n            \"class\": \"solr.StandardTokenizerFactory\"\n          },\n          \"filters\": [\n            {\n              \"class\": \"solr.LowerCaseFilterFactory\"\n            },\n            {\n              \"class\": \"solr.StopFilterFactory\",\n              \"format\": \"snowball\",\n              \"words\": \"lang/stopwords_fi.txt\",\n              \"ignoreCase\": \"true\"\n            },\n            {\n              \"class\": \"solr.SnowballPorterFilterFactory\",\n              \"language\": \"Finnish\"\n            }\n          ]\n        }\n      },\n      {\n        \"name\": \"text_fr\",\n        \"class\": \"solr.TextField\",\n        \"positionIncrementGap\": \"100\",\n        \"analyzer\": {\n          \"tokenizer\": {\n            \"class\": \"solr.StandardTokenizerFactory\"\n          },\n          \"filters\": [\n            {\n              \"class\": \"solr.ElisionFilterFactory\",\n              \"articles\": \"lang/contractions_fr.txt\",\n              \"ignoreCase\": \"true\"\n            },\n            {\n              \"class\": \"solr.LowerCaseFilterFactory\"\n            },\n            {\n              \"class\": \"solr.StopFilterFactory\",\n              \"format\": \"snowball\",\n              \"words\": \"lang/stopwords_fr.txt\",\n              \"ignoreCase\": \"true\"\n            },\n            {\n              \"class\": \"solr.FrenchLightStemFilterFactory\"\n            }\n          ]\n        }\n      },\n      {\n        \"name\": \"text_ga\",\n        \"class\": \"solr.TextField\",\n        \"positionIncrementGap\": \"100\",\n        \"analyzer\": {\n          \"tokenizer\": {\n            \"class\": \"solr.StandardTokenizerFactory\"\n          },\n          \"filters\": [\n            {\n              \"class\": \"solr.ElisionFilterFactory\",\n              \"articles\": \"lang/contractions_ga.txt\",\n              \"ignoreCase\": \"true\"\n            },\n            {\n              \"class\": \"solr.StopFilterFactory\",\n              \"words\": \"lang/hyphenations_ga.txt\",\n              \"ignoreCase\": \"true\"\n            },\n            {\n              \"class\": \"solr.IrishLowerCaseFilterFactory\"\n            },\n            {\n              \"class\": \"solr.StopFilterFactory\",\n              \"words\": \"lang/stopwords_ga.txt\",\n              \"ignoreCase\": \"true\"\n            },\n            {\n              \"class\": \"solr.SnowballPorterFilterFactory\",\n              \"language\": \"Irish\"\n            }\n          ]\n        }\n      },\n      {\n        \"name\": \"text_gen_sort\",\n        \"class\": \"solr.SortableTextField\",\n        \"positionIncrementGap\": \"100\",\n        \"multiValued\": true,\n        \"indexAnalyzer\": {\n          \"tokenizer\": {\n            \"class\": \"solr.StandardTokenizerFactory\"\n          },\n          \"filters\": [\n            {\n              \"class\": \"solr.StopFilterFactory\",\n              \"words\": \"stopwords.txt\",\n              \"ignoreCase\": \"true\"\n            },\n            {\n              \"class\": \"solr.LowerCaseFilterFactory\"\n            }\n          ]\n        },\n        \"queryAnalyzer\": {\n          \"tokenizer\": {\n            \"class\": \"solr.StandardTokenizerFactory\"\n          },\n          \"filters\": [\n            {\n              \"class\": \"solr.StopFilterFactory\",\n              \"words\": \"stopwords.txt\",\n              \"ignoreCase\": \"true\"\n            },\n            {\n              \"class\": \"solr.SynonymGraphFilterFactory\",\n              \"expand\": \"true\",\n              \"ignoreCase\": \"true\",\n              \"synonyms\": \"synonyms.txt\"\n            },\n            {\n              \"class\": \"solr.LowerCaseFilterFactory\"\n            }\n          ]\n        }\n      },\n      {\n        \"name\": \"text_general\",\n        \"class\": \"solr.TextField\",\n        \"positionIncrementGap\": \"100\",\n        \"multiValued\": true,\n        \"indexAnalyzer\": {\n          \"tokenizer\": {\n            \"class\": \"solr.StandardTokenizerFactory\"\n          },\n          \"filters\": [\n            {\n              \"class\": \"solr.StopFilterFactory\",\n              \"words\": \"stopwords.txt\",\n              \"ignoreCase\": \"true\"\n            },\n            {\n              \"class\": \"solr.LowerCaseFilterFactory\"\n            }\n          ]\n        },\n        \"queryAnalyzer\": {\n          \"tokenizer\": {\n            \"class\": \"solr.StandardTokenizerFactory\"\n          },\n          \"filters\": [\n            {\n              \"class\": \"solr.StopFilterFactory\",\n              \"words\": \"stopwords.txt\",\n              \"ignoreCase\": \"true\"\n            },\n            {\n              \"class\": \"solr.SynonymGraphFilterFactory\",\n              \"expand\": \"true\",\n              \"ignoreCase\": \"true\",\n              \"synonyms\": \"synonyms.txt\"\n            },\n            {\n              \"class\": \"solr.LowerCaseFilterFactory\"\n            }\n          ]\n        }\n      },\n      {\n        \"name\": \"text_general_rev\",\n        \"class\": \"solr.TextField\",\n        \"positionIncrementGap\": \"100\",\n        \"indexAnalyzer\": {\n          \"tokenizer\": {\n            \"class\": \"solr.StandardTokenizerFactory\"\n          },\n          \"filters\": [\n            {\n              \"class\": \"solr.StopFilterFactory\",\n              \"words\": \"stopwords.txt\",\n              \"ignoreCase\": \"true\"\n            },\n            {\n              \"class\": \"solr.LowerCaseFilterFactory\"\n            },\n            {\n              \"class\": \"solr.ReversedWildcardFilterFactory\",\n              \"maxPosQuestion\": \"2\",\n              \"maxFractionAsterisk\": \"0.33\",\n              \"maxPosAsterisk\": \"3\",\n              \"withOriginal\": \"true\"\n            }\n          ]\n        },\n        \"queryAnalyzer\": {\n          \"tokenizer\": {\n            \"class\": \"solr.StandardTokenizerFactory\"\n          },\n          \"filters\": [\n            {\n              \"class\": \"solr.SynonymGraphFilterFactory\",\n              \"expand\": \"true\",\n              \"ignoreCase\": \"true\",\n              \"synonyms\": \"synonyms.txt\"\n            },\n            {\n              \"class\": \"solr.StopFilterFactory\",\n              \"words\": \"stopwords.txt\",\n              \"ignoreCase\": \"true\"\n            },\n            {\n              \"class\": \"solr.LowerCaseFilterFactory\"\n            }\n          ]\n        }\n      },\n      {\n        \"name\": \"text_gl\",\n        \"class\": \"solr.TextField\",\n        \"positionIncrementGap\": \"100\",\n        \"analyzer\": {\n          \"tokenizer\": {\n            \"class\": \"solr.StandardTokenizerFactory\"\n          },\n          \"filters\": [\n            {\n              \"class\": \"solr.LowerCaseFilterFactory\"\n            },\n            {\n              \"class\": \"solr.StopFilterFactory\",\n              \"words\": \"lang/stopwords_gl.txt\",\n              \"ignoreCase\": \"true\"\n            },\n            {\n              \"class\": \"solr.GalicianStemFilterFactory\"\n            }\n          ]\n        }\n      },\n      {\n        \"name\": \"text_hi\",\n        \"class\": \"solr.TextField\",\n        \"positionIncrementGap\": \"100\",\n        \"analyzer\": {\n          \"tokenizer\": {\n            \"class\": \"solr.StandardTokenizerFactory\"\n          },\n          \"filters\": [\n            {\n              \"class\": \"solr.LowerCaseFilterFactory\"\n            },\n            {\n              \"class\": \"solr.IndicNormalizationFilterFactory\"\n            },\n            {\n              \"class\": \"solr.HindiNormalizationFilterFactory\"\n            },\n            {\n              \"class\": \"solr.StopFilterFactory\",\n              \"words\": \"lang/stopwords_hi.txt\",\n              \"ignoreCase\": \"true\"\n            },\n            {\n              \"class\": \"solr.HindiStemFilterFactory\"\n            }\n          ]\n        }\n      },\n      {\n        \"name\": \"text_hu\",\n        \"class\": \"solr.TextField\",\n        \"positionIncrementGap\": \"100\",\n        \"analyzer\": {\n          \"tokenizer\": {\n            \"class\": \"solr.StandardTokenizerFactory\"\n          },\n          \"filters\": [\n            {\n              \"class\": \"solr.LowerCaseFilterFactory\"\n            },\n            {\n              \"class\": \"solr.StopFilterFactory\",\n              \"format\": \"snowball\",\n              \"words\": \"lang/stopwords_hu.txt\",\n              \"ignoreCase\": \"true\"\n            },\n            {\n              \"class\": \"solr.SnowballPorterFilterFactory\",\n              \"language\": \"Hungarian\"\n            }\n          ]\n        }\n      },\n      {\n        \"name\": \"text_hy\",\n        \"class\": \"solr.TextField\",\n        \"positionIncrementGap\": \"100\",\n        \"analyzer\": {\n          \"tokenizer\": {\n            \"class\": \"solr.StandardTokenizerFactory\"\n          },\n          \"filters\": [\n            {\n              \"class\": \"solr.LowerCaseFilterFactory\"\n            },\n            {\n              \"class\": \"solr.StopFilterFactory\",\n              \"words\": \"lang/stopwords_hy.txt\",\n              \"ignoreCase\": \"true\"\n            },\n            {\n              \"class\": \"solr.SnowballPorterFilterFactory\",\n              \"language\": \"Armenian\"\n            }\n          ]\n        }\n      },\n      {\n        \"name\": \"text_id\",\n        \"class\": \"solr.TextField\",\n        \"positionIncrementGap\": \"100\",\n        \"analyzer\": {\n          \"tokenizer\": {\n            \"class\": \"solr.StandardTokenizerFactory\"\n          },\n          \"filters\": [\n            {\n              \"class\": \"solr.LowerCaseFilterFactory\"\n            },\n            {\n              \"class\": \"solr.StopFilterFactory\",\n              \"words\": \"lang/stopwords_id.txt\",\n              \"ignoreCase\": \"true\"\n            },\n            {\n              \"class\": \"solr.IndonesianStemFilterFactory\",\n              \"stemDerivational\": \"true\"\n            }\n          ]\n        }\n      },\n      {\n        \"name\": \"text_it\",\n        \"class\": \"solr.TextField\",\n        \"positionIncrementGap\": \"100\",\n        \"analyzer\": {\n          \"tokenizer\": {\n            \"class\": \"solr.StandardTokenizerFactory\"\n          },\n          \"filters\": [\n            {\n              \"class\": \"solr.ElisionFilterFactory\",\n              \"articles\": \"lang/contractions_it.txt\",\n              \"ignoreCase\": \"true\"\n            },\n            {\n              \"class\": \"solr.LowerCaseFilterFactory\"\n            },\n            {\n              \"class\": \"solr.StopFilterFactory\",\n              \"format\": \"snowball\",\n              \"words\": \"lang/stopwords_it.txt\",\n              \"ignoreCase\": \"true\"\n            },\n            {\n              \"class\": \"solr.ItalianLightStemFilterFactory\"\n            }\n          ]\n        }\n      },\n      {\n        \"name\": \"text_ja\",\n        \"class\": \"solr.TextField\",\n        \"autoGeneratePhraseQueries\": \"false\",\n        \"positionIncrementGap\": \"100\",\n        \"analyzer\": {\n          \"tokenizer\": {\n            \"class\": \"solr.JapaneseTokenizerFactory\",\n            \"mode\": \"search\"\n          },\n          \"filters\": [\n            {\n              \"class\": \"solr.JapaneseBaseFormFilterFactory\"\n            },\n            {\n              \"class\": \"solr.JapanesePartOfSpeechStopFilterFactory\",\n              \"tags\": \"lang/stoptags_ja.txt\"\n            },\n            {\n              \"class\": \"solr.CJKWidthFilterFactory\"\n            },\n            {\n              \"class\": \"solr.StopFilterFactory\",\n              \"words\": \"lang/stopwords_ja.txt\",\n              \"ignoreCase\": \"true\"\n            },\n            {\n              \"class\": \"solr.JapaneseKatakanaStemFilterFactory\",\n              \"minimumLength\": \"4\"\n            },\n            {\n              \"class\": \"solr.LowerCaseFilterFactory\"\n            }\n          ]\n        }\n      },\n      {\n        \"name\": \"text_ko\",\n        \"class\": \"solr.TextField\",\n        \"positionIncrementGap\": \"100\",\n        \"analyzer\": {\n          \"tokenizer\": {\n            \"class\": \"solr.KoreanTokenizerFactory\",\n            \"outputUnknownUnigrams\": \"false\",\n            \"decompoundMode\": \"discard\"\n          },\n          \"filters\": [\n            {\n              \"class\": \"solr.KoreanPartOfSpeechStopFilterFactory\"\n            },\n            {\n              \"class\": \"solr.KoreanReadingFormFilterFactory\"\n            },\n            {\n              \"class\": \"solr.LowerCaseFilterFactory\"\n            }\n          ]\n        }\n      },\n      {\n        \"name\": \"text_lv\",\n        \"class\": \"solr.TextField\",\n        \"positionIncrementGap\": \"100\",\n        \"analyzer\": {\n          \"tokenizer\": {\n            \"class\": \"solr.StandardTokenizerFactory\"\n          },\n          \"filters\": [\n            {\n              \"class\": \"solr.LowerCaseFilterFactory\"\n            },\n            {\n              \"class\": \"solr.StopFilterFactory\",\n              \"words\": \"lang/stopwords_lv.txt\",\n              \"ignoreCase\": \"true\"\n            },\n            {\n              \"class\": \"solr.LatvianStemFilterFactory\"\n            }\n          ]\n        }\n      },\n      {\n        \"name\": \"text_nl\",\n        \"class\": \"solr.TextField\",\n        \"positionIncrementGap\": \"100\",\n        \"analyzer\": {\n          \"tokenizer\": {\n            \"class\": \"solr.StandardTokenizerFactory\"\n          },\n          \"filters\": [\n            {\n              \"class\": \"solr.LowerCaseFilterFactory\"\n            },\n            {\n              \"class\": \"solr.StopFilterFactory\",\n              \"format\": \"snowball\",\n              \"words\": \"lang/stopwords_nl.txt\",\n              \"ignoreCase\": \"true\"\n            },\n            {\n              \"class\": \"solr.StemmerOverrideFilterFactory\",\n              \"dictionary\": \"lang/stemdict_nl.txt\",\n              \"ignoreCase\": \"false\"\n            },\n            {\n              \"class\": \"solr.SnowballPorterFilterFactory\",\n              \"language\": \"Dutch\"\n            }\n          ]\n        }\n      },\n      {\n        \"name\": \"text_no\",\n        \"class\": \"solr.TextField\",\n        \"positionIncrementGap\": \"100\",\n        \"analyzer\": {\n          \"tokenizer\": {\n            \"class\": \"solr.StandardTokenizerFactory\"\n          },\n          \"filters\": [\n            {\n              \"class\": \"solr.LowerCaseFilterFactory\"\n            },\n            {\n              \"class\": \"solr.StopFilterFactory\",\n              \"format\": \"snowball\",\n              \"words\": \"lang/stopwords_no.txt\",\n              \"ignoreCase\": \"true\"\n            },\n            {\n              \"class\": \"solr.SnowballPorterFilterFactory\",\n              \"language\": \"Norwegian\"\n            }\n          ]\n        }\n      },\n      {\n        \"name\": \"text_pt\",\n        \"class\": \"solr.TextField\",\n        \"positionIncrementGap\": \"100\",\n        \"analyzer\": {\n          \"tokenizer\": {\n            \"class\": \"solr.StandardTokenizerFactory\"\n          },\n          \"filters\": [\n            {\n              \"class\": \"solr.LowerCaseFilterFactory\"\n            },\n            {\n              \"class\": \"solr.StopFilterFactory\",\n              \"format\": \"snowball\",\n              \"words\": \"lang/stopwords_pt.txt\",\n              \"ignoreCase\": \"true\"\n            },\n            {\n              \"class\": \"solr.PortugueseLightStemFilterFactory\"\n            }\n          ]\n        }\n      },\n      {\n        \"name\": \"text_ro\",\n        \"class\": \"solr.TextField\",\n        \"positionIncrementGap\": \"100\",\n        \"analyzer\": {\n          \"tokenizer\": {\n            \"class\": \"solr.StandardTokenizerFactory\"\n          },\n          \"filters\": [\n            {\n              \"class\": \"solr.LowerCaseFilterFactory\"\n            },\n            {\n              \"class\": \"solr.StopFilterFactory\",\n              \"words\": \"lang/stopwords_ro.txt\",\n              \"ignoreCase\": \"true\"\n            },\n            {\n              \"class\": \"solr.SnowballPorterFilterFactory\",\n              \"language\": \"Romanian\"\n            }\n          ]\n        }\n      },\n      {\n        \"name\": \"text_ru\",\n        \"class\": \"solr.TextField\",\n        \"positionIncrementGap\": \"100\",\n        \"analyzer\": {\n          \"tokenizer\": {\n            \"class\": \"solr.StandardTokenizerFactory\"\n          },\n          \"filters\": [\n            {\n              \"class\": \"solr.LowerCaseFilterFactory\"\n            },\n            {\n              \"class\": \"solr.StopFilterFactory\",\n              \"format\": \"snowball\",\n              \"words\": \"lang/stopwords_ru.txt\",\n              \"ignoreCase\": \"true\"\n            },\n            {\n              \"class\": \"solr.SnowballPorterFilterFactory\",\n              \"language\": \"Russian\"\n            }\n          ]\n        }\n      },\n      {\n        \"name\": \"text_sv\",\n        \"class\": \"solr.TextField\",\n        \"positionIncrementGap\": \"100\",\n        \"analyzer\": {\n          \"tokenizer\": {\n            \"class\": \"solr.StandardTokenizerFactory\"\n          },\n          \"filters\": [\n            {\n              \"class\": \"solr.LowerCaseFilterFactory\"\n            },\n            {\n              \"class\": \"solr.StopFilterFactory\",\n              \"format\": \"snowball\",\n              \"words\": \"lang/stopwords_sv.txt\",\n              \"ignoreCase\": \"true\"\n            },\n            {\n              \"class\": \"solr.SnowballPorterFilterFactory\",\n              \"language\": \"Swedish\"\n            }\n          ]\n        }\n      },\n      {\n        \"name\": \"text_th\",\n        \"class\": \"solr.TextField\",\n        \"positionIncrementGap\": \"100\",\n        \"analyzer\": {\n          \"tokenizer\": {\n            \"class\": \"solr.ThaiTokenizerFactory\"\n          },\n          \"filters\": [\n            {\n              \"class\": \"solr.LowerCaseFilterFactory\"\n            },\n            {\n              \"class\": \"solr.StopFilterFactory\",\n              \"words\": \"lang/stopwords_th.txt\",\n              \"ignoreCase\": \"true\"\n            }\n          ]\n        }\n      },\n      {\n        \"name\": \"text_tr\",\n        \"class\": \"solr.TextField\",\n        \"positionIncrementGap\": \"100\",\n        \"analyzer\": {\n          \"tokenizer\": {\n            \"class\": \"solr.StandardTokenizerFactory\"\n          },\n          \"filters\": [\n            {\n              \"class\": \"solr.TurkishLowerCaseFilterFactory\"\n            },\n            {\n              \"class\": \"solr.StopFilterFactory\",\n              \"words\": \"lang/stopwords_tr.txt\",\n              \"ignoreCase\": \"false\"\n            },\n            {\n              \"class\": \"solr.SnowballPorterFilterFactory\",\n              \"language\": \"Turkish\"\n            }\n          ]\n        }\n      },\n      {\n        \"name\": \"text_ws\",\n        \"class\": \"solr.TextField\",\n        \"positionIncrementGap\": \"100\",\n        \"analyzer\": {\n          \"tokenizer\": {\n            \"class\": \"solr.WhitespaceTokenizerFactory\"\n          }\n        }\n      }\n    ],\n    \"fields\": [\n      {\n        \"name\": \"_nest_path_\",\n        \"type\": \"_nest_path_\"\n      },\n      {\n        \"name\": \"_root_\",\n        \"type\": \"string\",\n        \"docValues\": false,\n        \"indexed\": true,\n        \"stored\": false\n      },\n      {\n        \"name\": \"_text_\",\n        \"type\": \"text_general\",\n        \"multiValued\": true,\n        \"indexed\": true,\n        \"stored\": false\n      },\n      {\n        \"name\": \"_version_\",\n        \"type\": \"plong\",\n        \"indexed\": false,\n        \"stored\": false\n      },\n      {\n        \"name\": \"authors\",\n        \"type\": \"string\",\n        \"multiValued\": true,\n        \"required\": true\n      },\n      {\n        \"name\": \"id\",\n        \"type\": \"string\",\n        \"multiValued\": false,\n        \"indexed\": true,\n        \"required\": true,\n        \"stored\": true\n      },\n      {\n        \"name\": \"language\",\n        \"type\": \"string\",\n        \"required\": true\n      },\n      {\n        \"name\": \"publication_date\",\n        \"type\": \"pdate\",\n        \"required\": true\n      },\n      {\n        \"name\": \"title\",\n        \"type\": \"text_en\",\n        \"required\": true\n      }\n    ],\n    \"dynamicFields\": [\n      {\n        \"name\": \"*_txt_en_split_tight\",\n        \"type\": \"text_en_splitting_tight\",\n        \"indexed\": true,\n        \"stored\": true\n      },\n      {\n        \"name\": \"*_descendent_path\",\n        \"type\": \"descendent_path\",\n        \"indexed\": true,\n        \"stored\": true\n      },\n      {\n        \"name\": \"*_ancestor_path\",\n        \"type\": \"ancestor_path\",\n        \"indexed\": true,\n        \"stored\": true\n      },\n      {\n        \"name\": \"*_txt_en_split\",\n        \"type\": \"text_en_splitting\",\n        \"indexed\": true,\n        \"stored\": true\n      },\n      {\n        \"name\": \"*_txt_sort\",\n        \"type\": \"text_gen_sort\",\n        \"indexed\": true,\n        \"stored\": true\n      },\n      {\n        \"name\": \"ignored_*\",\n        \"type\": \"ignored\"\n      },\n      {\n        \"name\": \"*_txt_rev\",\n        \"type\": \"text_general_rev\",\n        \"indexed\": true,\n        \"stored\": true\n      },\n      {\n        \"name\": \"*_phon_en\",\n        \"type\": \"phonetic_en\",\n        \"indexed\": true,\n        \"stored\": true\n      },\n      {\n        \"name\": \"*_s_lower\",\n        \"type\": \"lowercase\",\n        \"indexed\": true,\n        \"stored\": true\n      },\n      {\n        \"name\": \"*_txt_cjk\",\n        \"type\": \"text_cjk\",\n        \"indexed\": true,\n        \"stored\": true\n      },\n      {\n        \"name\": \"*__latlng\",\n        \"type\": \"location\"\n      },\n      {\n        \"name\": \"random_*\",\n        \"type\": \"random\"\n      },\n      {\n        \"name\": \"*_t_sort\",\n        \"type\": \"text_gen_sort\",\n        \"multiValued\": false,\n        \"indexed\": true,\n        \"stored\": true\n      },\n      {\n        \"name\": \"*_txt_en\",\n        \"type\": \"text_en\",\n        \"indexed\": true,\n        \"stored\": true\n      },\n      {\n        \"name\": \"*_txt_ar\",\n        \"type\": \"text_ar\",\n        \"indexed\": true,\n        \"stored\": true\n      },\n      {\n        \"name\": \"*_txt_bg\",\n        \"type\": \"text_bg\",\n        \"indexed\": true,\n        \"stored\": true\n      },\n      {\n        \"name\": \"*_txt_ca\",\n        \"type\": \"text_ca\",\n        \"indexed\": true,\n        \"stored\": true\n      },\n      {\n        \"name\": \"*_txt_cz\",\n        \"type\": \"text_cz\",\n        \"indexed\": true,\n        \"stored\": true\n      },\n      {\n        \"name\": \"*_txt_da\",\n        \"type\": \"text_da\",\n        \"indexed\": true,\n        \"stored\": true\n      },\n      {\n        \"name\": \"*_txt_de\",\n        \"type\": \"text_de\",\n        \"indexed\": true,\n        \"stored\": true\n      },\n      {\n        \"name\": \"*_txt_el\",\n        \"type\": \"text_el\",\n        \"indexed\": true,\n        \"stored\": true\n      },\n      {\n        \"name\": \"*_txt_es\",\n        \"type\": \"text_es\",\n        \"indexed\": true,\n        \"stored\": true\n      },\n      {\n        \"name\": \"*_txt_et\",\n        \"type\": \"text_et\",\n        \"indexed\": true,\n        \"stored\": true\n      },\n      {\n        \"name\": \"*_txt_eu\",\n        \"type\": \"text_eu\",\n        \"indexed\": true,\n        \"stored\": true\n      },\n      {\n        \"name\": \"*_txt_fa\",\n        \"type\": \"text_fa\",\n        \"indexed\": true,\n        \"stored\": true\n      },\n      {\n        \"name\": \"*_txt_fi\",\n        \"type\": \"text_fi\",\n        \"indexed\": true,\n        \"stored\": true\n      },\n      {\n        \"name\": \"*_txt_fr\",\n        \"type\": \"text_fr\",\n        \"indexed\": true,\n        \"stored\": true\n      },\n      {\n        \"name\": \"*_txt_ga\",\n        \"type\": \"text_ga\",\n        \"indexed\": true,\n        \"stored\": true\n      },\n      {\n        \"name\": \"*_txt_gl\",\n        \"type\": \"text_gl\",\n        \"indexed\": true,\n        \"stored\": true\n      },\n      {\n        \"name\": \"*_txt_hi\",\n        \"type\": \"text_hi\",\n        \"indexed\": true,\n        \"stored\": true\n      },\n      {\n        \"name\": \"*_txt_hu\",\n        \"type\": \"text_hu\",\n        \"indexed\": true,\n        \"stored\": true\n      },\n      {\n        \"name\": \"*_txt_hy\",\n        \"type\": \"text_hy\",\n        \"indexed\": true,\n        \"stored\": true\n      },\n      {\n        \"name\": \"*_txt_id\",\n        \"type\": \"text_id\",\n        \"indexed\": true,\n        \"stored\": true\n      },\n      {\n        \"name\": \"*_txt_it\",\n        \"type\": \"text_it\",\n        \"indexed\": true,\n        \"stored\": true\n      },\n      {\n        \"name\": \"*_txt_ja\",\n        \"type\": \"text_ja\",\n        \"indexed\": true,\n        \"stored\": true\n      },\n      {\n        \"name\": \"*_txt_ko\",\n        \"type\": \"text_ko\",\n        \"indexed\": true,\n        \"stored\": true\n      },\n      {\n        \"name\": \"*_txt_lv\",\n        \"type\": \"text_lv\",\n        \"indexed\": true,\n        \"stored\": true\n      },\n      {\n        \"name\": \"*_txt_nl\",\n        \"type\": \"text_nl\",\n        \"indexed\": true,\n        \"stored\": true\n      },\n      {\n        \"name\": \"*_txt_no\",\n        \"type\": \"text_no\",\n        \"indexed\": true,\n        \"stored\": true\n      },\n      {\n        \"name\": \"*_txt_pt\",\n        \"type\": \"text_pt\",\n        \"indexed\": true,\n        \"stored\": true\n      },\n      {\n        \"name\": \"*_txt_ro\",\n        \"type\": \"text_ro\",\n        \"indexed\": true,\n        \"stored\": true\n      },\n      {\n        \"name\": \"*_txt_ru\",\n        \"type\": \"text_ru\",\n        \"indexed\": true,\n        \"stored\": true\n      },\n      {\n        \"name\": \"*_txt_sv\",\n        \"type\": \"text_sv\",\n        \"indexed\": true,\n        \"stored\": true\n      },\n      {\n        \"name\": \"*_txt_th\",\n        \"type\": \"text_th\",\n        \"indexed\": true,\n        \"stored\": true\n      },\n      {\n        \"name\": \"*_txt_tr\",\n        \"type\": \"text_tr\",\n        \"indexed\": true,\n        \"stored\": true\n      },\n      {\n        \"name\": \"*_point\",\n        \"type\": \"point\",\n        \"indexed\": true,\n        \"stored\": true\n      },\n      {\n        \"name\": \"*_srpt\",\n        \"type\": \"location_rpt\",\n        \"indexed\": true,\n        \"stored\": true\n      },\n      {\n        \"name\": \"attr_*\",\n        \"type\": \"text_general\",\n        \"multiValued\": true,\n        \"indexed\": true,\n        \"stored\": true\n      },\n      {\n        \"name\": \"*_list\",\n        \"type\": \"string\",\n        \"multiValued\": true\n      },\n      {\n        \"name\": \"*_json\",\n        \"type\": \"string\",\n        \"multiValued\": true\n      },\n      {\n        \"name\": \"*_txt\",\n        \"type\": \"text_general\",\n        \"indexed\": true,\n        \"stored\": true\n      },\n      {\n        \"name\": \"*_str\",\n        \"type\": \"strings\",\n        \"docValues\": true,\n        \"indexed\": false,\n        \"stored\": false,\n        \"useDocValuesAsStored\": false\n      },\n      {\n        \"name\": \"*_dts\",\n        \"type\": \"pdate\",\n        \"multiValued\": true,\n        \"indexed\": true,\n        \"stored\": true\n      },\n      {\n        \"name\": \"*_dpf\",\n        \"type\": \"delimited_payloads_float\",\n        \"indexed\": true,\n        \"stored\": true\n      },\n      {\n        \"name\": \"*_dpi\",\n        \"type\": \"delimited_payloads_int\",\n        \"indexed\": true,\n        \"stored\": true\n      },\n      {\n        \"name\": \"*_dps\",\n        \"type\": \"delimited_payloads_string\",\n        \"indexed\": true,\n        \"stored\": true\n      },\n      {\n        \"name\": \"*_is\",\n        \"type\": \"pints\",\n        \"indexed\": true,\n        \"stored\": true\n      },\n      {\n        \"name\": \"*_ss\",\n        \"type\": \"strings\",\n        \"indexed\": true,\n        \"stored\": true\n      },\n      {\n        \"name\": \"*_ls\",\n        \"type\": \"plongs\",\n        \"indexed\": true,\n        \"stored\": true\n      },\n      {\n        \"name\": \"*_bs\",\n        \"type\": \"booleans\",\n        \"indexed\": true,\n        \"stored\": true\n      },\n      {\n        \"name\": \"*_fs\",\n        \"type\": \"pfloats\",\n        \"indexed\": true,\n        \"stored\": true\n      },\n      {\n        \"name\": \"*_ds\",\n        \"type\": \"pdoubles\",\n        \"indexed\": true,\n        \"stored\": true\n      },\n      {\n        \"name\": \"*_dt\",\n        \"type\": \"pdate\",\n        \"indexed\": true,\n        \"stored\": true\n      },\n      {\n        \"name\": \"*_ws\",\n        \"type\": \"text_ws\",\n        \"indexed\": true,\n        \"stored\": true\n      },\n      {\n        \"name\": \"*_i\",\n        \"type\": \"pint\",\n        \"indexed\": true,\n        \"stored\": true\n      },\n      {\n        \"name\": \"*_s\",\n        \"type\": \"string\",\n        \"indexed\": true,\n        \"stored\": true\n      },\n      {\n        \"name\": \"*_l\",\n        \"type\": \"plong\",\n        \"indexed\": true,\n        \"stored\": true\n      },\n      {\n        \"name\": \"*_t\",\n        \"type\": \"text_general\",\n        \"multiValued\": false,\n        \"indexed\": true,\n        \"stored\": true\n      },\n      {\n        \"name\": \"*_b\",\n        \"type\": \"boolean\",\n        \"indexed\": true,\n        \"stored\": true\n      },\n      {\n        \"name\": \"*_f\",\n        \"type\": \"pfloat\",\n        \"indexed\": true,\n        \"stored\": true\n      },\n      {\n        \"name\": \"*_d\",\n        \"type\": \"pdouble\",\n        \"indexed\": true,\n        \"stored\": true\n      },\n      {\n        \"name\": \"*_p\",\n        \"type\": \"location\",\n        \"indexed\": true,\n        \"stored\": true\n      }\n    ],\n    \"copyFields\": []\n  }\n}\n"
     ]
    }
   ],
   "source": [
    "# Retrieve whole schema\n",
    "schema = handle_request('GET')\n",
    "print(dumps(schema, indent=2))"
   ]
  },
  {
   "source": [
    "## Modify the Schema  \n",
    "\n",
    "To add, remove or replace fields, dynamic field rules, copy field rules, or new field types, you can send a POST request to the `/api/<collections|cores>/<name>/schema/` endpoint with a sequence of commands in `JSON` format to perform the requested actions. The following commands are supported:  \n",
    "\n",
    "- `add-field`: add a new field with parameters you provide.  \n",
    "- `delete-field`: delete a field.\n",
    "- `replace-field`: replace an existing field with one that is differently configured.\n",
    "- `add-dynamic-field`: add a new dynamic field rule with parameters you provide.\n",
    "- `delete-dynamic-field`: delete a dynamic field rule.\n",
    "- `replace-dynamic-field`: replace an existing dynamic field rule with one that is differently configured.\n",
    "- `add-field-type`: add a new field type with parameters you provide.\n",
    "- `delete-field-type`: delete a field type.\n",
    "- `replace-field-type`: replace an existing field type with one that is differently configured.\n",
    "- `add-copy-field`: add a new copy field rule.\n",
    "- `delete-copy-field`: delete a copy field rule.  \n",
    "\n",
    "**These commands can be issued in separate `POST` requests or in the same `POST` request. Commands are executed in the order in which they are specified.**\n",
    "\n",
    "### Add a new field  \n",
    "\n",
    "The `add-field` command adds a new field definition to your schema. If a field with the same name exists an error is thrown.  "
   ],
   "cell_type": "markdown",
   "metadata": {}
  },
  {
   "cell_type": "code",
   "execution_count": 22,
   "metadata": {},
   "outputs": [
    {
     "output_type": "execute_result",
     "data": {
      "text/plain": [
       "{'responseHeader': {'status': 0, 'QTime': 235}}"
      ]
     },
     "metadata": {},
     "execution_count": 22
    }
   ],
   "source": [
    "# define field attributes\n",
    "new_field = {\n",
    "    'add-field': {\n",
    "        'name': 'title',\n",
    "        'type': 'text_en',\n",
    "        'required': True\n",
    "    }\n",
    "}\n",
    "\n",
    "handle_request('POST', new_field)"
   ]
  },
  {
   "cell_type": "code",
   "execution_count": 21,
   "metadata": {},
   "outputs": [
    {
     "output_type": "execute_result",
     "data": {
      "text/plain": [
       "{'responseHeader': {'status': 0, 'QTime': 256}}"
      ]
     },
     "metadata": {},
     "execution_count": 21
    }
   ],
   "source": [
    "# create several fields all together at once\n",
    "\n",
    "fields = {\n",
    "    'add-field':[\n",
    "        {\n",
    "            'name':'authors',\n",
    "            'type':'string',\n",
    "            'required':True,\n",
    "            'multiValued':True\n",
    "        },\n",
    "        {\n",
    "            \"name\":'publication_date',\n",
    "            'type':'string',\n",
    "            'required':True\n",
    "        },\n",
    "        {\n",
    "            'name':'isbn',\n",
    "            'type':'string'\n",
    "        },\n",
    "        {\n",
    "            'name':'language',\n",
    "            'type':'string'\n",
    "        }\n",
    "    ]\n",
    "}\n",
    "\n",
    "handle_request('POST', fields)"
   ]
  },
  {
   "source": [
    "#### Delete a Field  \n",
    "\n",
    "The `delete-field` command removes a field definition from your schema. If the field does not exist in the schema, or if the field is the source or destination of a `copy field rule`, an error is thrown."
   ],
   "cell_type": "markdown",
   "metadata": {}
  },
  {
   "cell_type": "code",
   "execution_count": 23,
   "metadata": {},
   "outputs": [
    {
     "output_type": "execute_result",
     "data": {
      "text/plain": [
       "{'responseHeader': {'status': 0, 'QTime': 160}}"
      ]
     },
     "metadata": {},
     "execution_count": 23
    }
   ],
   "source": [
    "field = {\n",
    "    'delete-field': {'name':'isbn'}\n",
    "}\n",
    "\n",
    "handle_request('POST', field)"
   ]
  },
  {
   "source": [
    "#### Replace a Field  \n",
    "\n",
    "The `replace-field` command replaces a field’s definition. Note that you **must** supply the full definition for a field - this command will **not** partially modify a field’s definition. If the field does not exist in the schema an error is thrown."
   ],
   "cell_type": "markdown",
   "metadata": {}
  },
  {
   "cell_type": "code",
   "execution_count": 25,
   "metadata": {},
   "outputs": [
    {
     "output_type": "execute_result",
     "data": {
      "text/plain": [
       "{'responseHeader': {'status': 0, 'QTime': 192}}"
      ]
     },
     "metadata": {},
     "execution_count": 25
    }
   ],
   "source": [
    "# make language field required, change publication_date type to date\n",
    "# if there was already indexed data, changing publication_date to date type would require re-indexing of existing documents\n",
    "\n",
    "field = {\n",
    "    'replace-field':[\n",
    "        {\n",
    "            'name':'language',\n",
    "            'type':'string',\n",
    "            'required':True\n",
    "        },\n",
    "        {\n",
    "            \"name\":'publication_date',\n",
    "            'type':'pdate',\n",
    "            'required':True\n",
    "        }\n",
    "    ]\n",
    "}\n",
    "\n",
    "handle_request('POST', field)"
   ]
  },
  {
   "source": [
    "#### Add a Dynamic Field Rule   \n",
    "\n",
    "The `add-dynamic-field` command adds a new dynamic field rule to your schema."
   ],
   "cell_type": "markdown",
   "metadata": {}
  },
  {
   "cell_type": "code",
   "execution_count": 28,
   "metadata": {},
   "outputs": [
    {
     "output_type": "execute_result",
     "data": {
      "text/plain": [
       "{'responseHeader': {'status': 0, 'QTime': 166}}"
      ]
     },
     "metadata": {},
     "execution_count": 28
    }
   ],
   "source": [
    "# create a new dynamic field rule where all incoming fields ending with \"_latlng\" would be stored and have field type \"location\" (for spatial operations)\n",
    "\n",
    "field = {\n",
    "    'add-dynamic-field':{\n",
    "        'name':'*_latlng',\n",
    "        'type':'location',\n",
    "        'stored':True\n",
    "    }\n",
    "}\n",
    "\n",
    "handle_request('POST', field)"
   ]
  },
  {
   "source": [
    "#### Delete a Dynamic Field Rule  \n",
    "\n",
    "The `delete-dynamic-field` command deletes a dynamic field rule from your schema.  "
   ],
   "cell_type": "markdown",
   "metadata": {}
  },
  {
   "cell_type": "code",
   "execution_count": 3,
   "metadata": {},
   "outputs": [
    {
     "output_type": "execute_result",
     "data": {
      "text/plain": [
       "{'responseHeader': {'status': 0, 'QTime': 284}}"
      ]
     },
     "metadata": {},
     "execution_count": 3
    }
   ],
   "source": [
    "field = {\n",
    "    'delete-dynamic-field':{'name':'*_latlng'}\n",
    "}\n",
    "\n",
    "handle_request('POST', field)"
   ]
  },
  {
   "source": [
    "#### Replace a Dynamic Field Rule\n",
    "The `replace-dynamic-field` command replaces a dynamic field rule in your schema. "
   ],
   "cell_type": "markdown",
   "metadata": {}
  },
  {
   "cell_type": "code",
   "execution_count": 4,
   "metadata": {},
   "outputs": [
    {
     "output_type": "execute_result",
     "data": {
      "text/plain": [
       "{'responseHeader': {'status': 0, 'QTime': 310}}"
      ]
     },
     "metadata": {},
     "execution_count": 4
    }
   ],
   "source": [
    "# It's good we work with custom fields.\n",
    "# messing up with Solr default fields might cost us down the lane\n",
    "# So, we will create a custom field then replace it in same block, see the syntax\n",
    "\n",
    "field = {\n",
    "    'add-dynamic-field':[\n",
    "        {\n",
    "            'name':'*__latlng',\n",
    "            'type':'location'\n",
    "        },\n",
    "        {\n",
    "            'name':'*_list',\n",
    "            'type':'string'\n",
    "        },\n",
    "        {\n",
    "            'name':'*_json',\n",
    "            'type':'string'\n",
    "        }\n",
    "    ],\n",
    "    'replace-dynamic-field':[\n",
    "        {\n",
    "            'name':'*_list',\n",
    "            'type':'string',\n",
    "            'multiValued':True\n",
    "        },\n",
    "        {\n",
    "            'name':'*_json',\n",
    "            'type':'string',\n",
    "            'multiValued':True\n",
    "        }\n",
    "    ]\n",
    "}\n",
    "\n",
    "handle_request('POST', field)"
   ]
  },
  {
   "source": [
    "#### Add a New Field Type  \n",
    "\n",
    "The `add-field-type` command adds a new field type to your schema. The structure of the command is a `JSON` mapping of the standard field type definition described [here](https://solr.apache.org/guide/8_8/solr-field-types.html#solr-field-types)"
   ],
   "cell_type": "markdown",
   "metadata": {}
  },
  {
   "cell_type": "code",
   "execution_count": 5,
   "metadata": {},
   "outputs": [
    {
     "output_type": "execute_result",
     "data": {
      "text/plain": [
       "{'responseHeader': {'status': 0, 'QTime': 231}}"
      ]
     },
     "metadata": {},
     "execution_count": 5
    }
   ],
   "source": [
    "field = {\n",
    "    'add-field-type':{\n",
    "        \"name\":\"new_txt_field\",\n",
    "        \"class\":\"solr.TextField\",\n",
    "        \"positionIncrementGap\":\"100\",\n",
    "        \"analyzer\" : {\n",
    "            \"charFilters\":[{\n",
    "                \"class\":\"solr.PatternReplaceCharFilterFactory\",\n",
    "                \"replacement\":\"$1$1\",\n",
    "                \"pattern\":\"([a-zA-Z])\\\\\\\\1+\" \n",
    "            }],\n",
    "            \"tokenizer\":{\n",
    "                \"class\":\"solr.WhitespaceTokenizerFactory\" \n",
    "            },\n",
    "            \"filters\":[{\n",
    "                \"class\":\"solr.WordDelimiterFilterFactory\",\n",
    "                \"preserveOriginal\":\"0\" \n",
    "            }]\n",
    "        }\n",
    "    }\n",
    "}\n",
    "\n",
    "handle_request('POST',field)"
   ]
  },
  {
   "source": [
    "#### Delete a Field Type  \n",
    "\n",
    "The `delete-field-type` command removes a field type from your schema."
   ],
   "cell_type": "markdown",
   "metadata": {}
  },
  {
   "cell_type": "code",
   "execution_count": 7,
   "metadata": {},
   "outputs": [
    {
     "output_type": "execute_result",
     "data": {
      "text/plain": [
       "{'responseHeader': {'status': 0, 'QTime': 193}}"
      ]
     },
     "metadata": {},
     "execution_count": 7
    }
   ],
   "source": [
    "field = {\n",
    "    'delete-field-type':{'name':'new_txt_field'}\n",
    "}\n",
    "\n",
    "handle_request('POST', field)"
   ]
  },
  {
   "source": [
    "#### Replace a Field Type\n",
    "The `replace-field-type` command replaces a field type in your schema."
   ],
   "cell_type": "markdown",
   "metadata": {}
  },
  {
   "cell_type": "code",
   "execution_count": 8,
   "metadata": {},
   "outputs": [
    {
     "output_type": "execute_result",
     "data": {
      "text/plain": [
       "{'responseHeader': {'status': 0, 'QTime': 164}}"
      ]
     },
     "metadata": {},
     "execution_count": 8
    }
   ],
   "source": [
    "field = {\n",
    "    'add-field-type':{\n",
    "        \"name\":\"new_txt_field\",\n",
    "        \"class\":\"solr.TextField\",\n",
    "        \"positionIncrementGap\":100,\n",
    "        \"analyzer\" : {\n",
    "            \"charFilters\":[{\n",
    "                \"class\":\"solr.PatternReplaceCharFilterFactory\",\n",
    "                \"replacement\":\"$1$1\",\n",
    "                \"pattern\":\"([a-zA-Z])\\\\\\\\1+\" \n",
    "            }],\n",
    "            \"tokenizer\":{\n",
    "                \"class\":\"solr.WhitespaceTokenizerFactory\" \n",
    "            },\n",
    "            \"filters\":[{\n",
    "                \"class\":\"solr.WordDelimiterFilterFactory\",\n",
    "                \"preserveOriginal\":\"0\" \n",
    "            }]\n",
    "        }\n",
    "    },\n",
    "    'replace-field-type':{\n",
    "        \"name\":\"new_txt_field\",\n",
    "        \"class\":\"solr.TextField\",\n",
    "        \"positionIncrementGap\":100,\n",
    "        \"analyzer\" : {\n",
    "            \"charFilters\":[{\n",
    "                \"class\":\"solr.PatternReplaceCharFilterFactory\",\n",
    "                \"replacement\":\"$1$1\",\n",
    "                \"pattern\":\"([a-zA-Z])\\\\\\\\1+\" \n",
    "            }],\n",
    "            \"tokenizer\":{\n",
    "                \"class\":\"solr.StandardTokenizerFactory\" \n",
    "            },\n",
    "            \"filters\":[{\n",
    "                \"class\":\"solr.WordDelimiterFilterFactory\",\n",
    "                \"preserveOriginal\":\"0\" \n",
    "            },\n",
    "            {\n",
    "                'class': 'solr.StopFilterFactory',\n",
    "                'words': 'lang/stopwords_en.txt',\n",
    "                'ignoreCase': True\n",
    "            },\n",
    "            {\n",
    "                'class': 'solr.EnglishPossessiveFilterFactory'\n",
    "            },\n",
    "            {\n",
    "                'class': 'solr.KeywordMarkerFilterFactory',\n",
    "                'protected': 'protwords.txt'\n",
    "            }]\n",
    "        }\n",
    "    }\n",
    "}\n",
    "\n",
    "handle_request('POST',field)"
   ]
  },
  {
   "source": [
    "#### Add a New Copy Field Rule\n",
    "The `add-copy-field` command adds a new copy field rule to your schema."
   ],
   "cell_type": "markdown",
   "metadata": {}
  },
  {
   "cell_type": "code",
   "execution_count": 19,
   "metadata": {},
   "outputs": [
    {
     "output_type": "execute_result",
     "data": {
      "text/plain": [
       "{'responseHeader': {'status': 0, 'QTime': 157}}"
      ]
     },
     "metadata": {},
     "execution_count": 19
    }
   ],
   "source": [
    "# define a rule to copy the field \"*_list\" to \"*-json\" field\n",
    "field = {\n",
    "     \"add-copy-field\":{\n",
    "        \"source\":\"*_list\",\n",
    "        \"dest\":[\"*_json\"]\n",
    "    }\n",
    "}\n",
    "\n",
    "handle_request('POST', field)"
   ]
  },
  {
   "source": [
    "#### Delete a Copy Field Rule  \n",
    "The `delete-copy-field` command deletes a copy field rule from your schema.  "
   ],
   "cell_type": "markdown",
   "metadata": {}
  },
  {
   "cell_type": "code",
   "execution_count": 22,
   "metadata": {},
   "outputs": [
    {
     "output_type": "execute_result",
     "data": {
      "text/plain": [
       "{'responseHeader': {'status': 0, 'QTime': 202}}"
      ]
     },
     "metadata": {},
     "execution_count": 22
    }
   ],
   "source": [
    "field = {\n",
    "    'delete-copy-field':{'source':'*_list', 'dest':'*_json'}\n",
    "}\n",
    "\n",
    "handle_request('POST', field)"
   ]
  },
  {
   "source": [
    "## Retrieve Schema  \n",
    "\n",
    "The schema so defined can be retwieved in entirety or in portionns as needed.\n",
    "\n",
    "### List Schema Fields\n",
    "\n",
    "`GET /api/cores|collections/<c-name>/schema/fields` endpint is used"
   ],
   "cell_type": "markdown",
   "metadata": {}
  },
  {
   "cell_type": "code",
   "execution_count": 4,
   "metadata": {},
   "outputs": [
    {
     "output_type": "stream",
     "name": "stdout",
     "text": [
      "{\n  \"responseHeader\": {\n    \"status\": 0,\n    \"QTime\": 0\n  },\n  \"fields\": [\n    {\n      \"name\": \"_nest_path_\",\n      \"type\": \"_nest_path_\"\n    },\n    {\n      \"name\": \"_root_\",\n      \"type\": \"string\",\n      \"docValues\": false,\n      \"indexed\": true,\n      \"stored\": false\n    },\n    {\n      \"name\": \"_text_\",\n      \"type\": \"text_general\",\n      \"multiValued\": true,\n      \"indexed\": true,\n      \"stored\": false\n    },\n    {\n      \"name\": \"_version_\",\n      \"type\": \"plong\",\n      \"indexed\": false,\n      \"stored\": false\n    },\n    {\n      \"name\": \"authors\",\n      \"type\": \"string\",\n      \"multiValued\": true,\n      \"required\": true\n    },\n    {\n      \"name\": \"id\",\n      \"type\": \"string\",\n      \"multiValued\": false,\n      \"indexed\": true,\n      \"required\": true,\n      \"stored\": true\n    },\n    {\n      \"name\": \"language\",\n      \"type\": \"string\",\n      \"required\": true\n    },\n    {\n      \"name\": \"publication_date\",\n      \"type\": \"pdate\",\n      \"required\": true\n    },\n    {\n      \"name\": \"title\",\n      \"type\": \"text_en\",\n      \"required\": true\n    }\n  ]\n}\n"
     ]
    }
   ],
   "source": [
    "# list document fields in the schema\n",
    "\n",
    "fields = handle_request(method=\"GET\", endpoint=f'{schema_endpoint}/fields')\n",
    "print(dumps(fields, indent=2))"
   ]
  },
  {
   "cell_type": "code",
   "execution_count": 35,
   "metadata": {},
   "outputs": [
    {
     "output_type": "execute_result",
     "data": {
      "text/plain": [
       "{'responseHeader': {'status': 0, 'QTime': 0},\n",
       " 'field': {'name': 'title', 'type': 'text_en', 'required': True}}"
      ]
     },
     "metadata": {},
     "execution_count": 35
    }
   ],
   "source": [
    "# show details of a specific field\n",
    "\n",
    "handle_request(method=\"GET\", endpoint=f'{schema_endpoint}/fields/title')"
   ]
  },
  {
   "cell_type": "code",
   "execution_count": 5,
   "metadata": {},
   "outputs": [
    {
     "output_type": "stream",
     "name": "stdout",
     "text": [
      "{\n  \"responseHeader\": {\n    \"status\": 0,\n    \"QTime\": 0\n  },\n  \"dynamicFields\": [\n    {\n      \"name\": \"*_txt_en_split_tight\",\n      \"type\": \"text_en_splitting_tight\",\n      \"indexed\": true,\n      \"stored\": true\n    },\n    {\n      \"name\": \"*_descendent_path\",\n      \"type\": \"descendent_path\",\n      \"indexed\": true,\n      \"stored\": true\n    },\n    {\n      \"name\": \"*_ancestor_path\",\n      \"type\": \"ancestor_path\",\n      \"indexed\": true,\n      \"stored\": true\n    },\n    {\n      \"name\": \"*_txt_en_split\",\n      \"type\": \"text_en_splitting\",\n      \"indexed\": true,\n      \"stored\": true\n    },\n    {\n      \"name\": \"*_txt_sort\",\n      \"type\": \"text_gen_sort\",\n      \"indexed\": true,\n      \"stored\": true\n    },\n    {\n      \"name\": \"ignored_*\",\n      \"type\": \"ignored\"\n    },\n    {\n      \"name\": \"*_txt_rev\",\n      \"type\": \"text_general_rev\",\n      \"indexed\": true,\n      \"stored\": true\n    },\n    {\n      \"name\": \"*_phon_en\",\n      \"type\": \"phonetic_en\",\n      \"indexed\": true,\n      \"stored\": true\n    },\n    {\n      \"name\": \"*_s_lower\",\n      \"type\": \"lowercase\",\n      \"indexed\": true,\n      \"stored\": true\n    },\n    {\n      \"name\": \"*_txt_cjk\",\n      \"type\": \"text_cjk\",\n      \"indexed\": true,\n      \"stored\": true\n    },\n    {\n      \"name\": \"*__latlng\",\n      \"type\": \"location\"\n    },\n    {\n      \"name\": \"random_*\",\n      \"type\": \"random\"\n    },\n    {\n      \"name\": \"*_t_sort\",\n      \"type\": \"text_gen_sort\",\n      \"multiValued\": false,\n      \"indexed\": true,\n      \"stored\": true\n    },\n    {\n      \"name\": \"*_txt_en\",\n      \"type\": \"text_en\",\n      \"indexed\": true,\n      \"stored\": true\n    },\n    {\n      \"name\": \"*_txt_ar\",\n      \"type\": \"text_ar\",\n      \"indexed\": true,\n      \"stored\": true\n    },\n    {\n      \"name\": \"*_txt_bg\",\n      \"type\": \"text_bg\",\n      \"indexed\": true,\n      \"stored\": true\n    },\n    {\n      \"name\": \"*_txt_ca\",\n      \"type\": \"text_ca\",\n      \"indexed\": true,\n      \"stored\": true\n    },\n    {\n      \"name\": \"*_txt_cz\",\n      \"type\": \"text_cz\",\n      \"indexed\": true,\n      \"stored\": true\n    },\n    {\n      \"name\": \"*_txt_da\",\n      \"type\": \"text_da\",\n      \"indexed\": true,\n      \"stored\": true\n    },\n    {\n      \"name\": \"*_txt_de\",\n      \"type\": \"text_de\",\n      \"indexed\": true,\n      \"stored\": true\n    },\n    {\n      \"name\": \"*_txt_el\",\n      \"type\": \"text_el\",\n      \"indexed\": true,\n      \"stored\": true\n    },\n    {\n      \"name\": \"*_txt_es\",\n      \"type\": \"text_es\",\n      \"indexed\": true,\n      \"stored\": true\n    },\n    {\n      \"name\": \"*_txt_et\",\n      \"type\": \"text_et\",\n      \"indexed\": true,\n      \"stored\": true\n    },\n    {\n      \"name\": \"*_txt_eu\",\n      \"type\": \"text_eu\",\n      \"indexed\": true,\n      \"stored\": true\n    },\n    {\n      \"name\": \"*_txt_fa\",\n      \"type\": \"text_fa\",\n      \"indexed\": true,\n      \"stored\": true\n    },\n    {\n      \"name\": \"*_txt_fi\",\n      \"type\": \"text_fi\",\n      \"indexed\": true,\n      \"stored\": true\n    },\n    {\n      \"name\": \"*_txt_fr\",\n      \"type\": \"text_fr\",\n      \"indexed\": true,\n      \"stored\": true\n    },\n    {\n      \"name\": \"*_txt_ga\",\n      \"type\": \"text_ga\",\n      \"indexed\": true,\n      \"stored\": true\n    },\n    {\n      \"name\": \"*_txt_gl\",\n      \"type\": \"text_gl\",\n      \"indexed\": true,\n      \"stored\": true\n    },\n    {\n      \"name\": \"*_txt_hi\",\n      \"type\": \"text_hi\",\n      \"indexed\": true,\n      \"stored\": true\n    },\n    {\n      \"name\": \"*_txt_hu\",\n      \"type\": \"text_hu\",\n      \"indexed\": true,\n      \"stored\": true\n    },\n    {\n      \"name\": \"*_txt_hy\",\n      \"type\": \"text_hy\",\n      \"indexed\": true,\n      \"stored\": true\n    },\n    {\n      \"name\": \"*_txt_id\",\n      \"type\": \"text_id\",\n      \"indexed\": true,\n      \"stored\": true\n    },\n    {\n      \"name\": \"*_txt_it\",\n      \"type\": \"text_it\",\n      \"indexed\": true,\n      \"stored\": true\n    },\n    {\n      \"name\": \"*_txt_ja\",\n      \"type\": \"text_ja\",\n      \"indexed\": true,\n      \"stored\": true\n    },\n    {\n      \"name\": \"*_txt_ko\",\n      \"type\": \"text_ko\",\n      \"indexed\": true,\n      \"stored\": true\n    },\n    {\n      \"name\": \"*_txt_lv\",\n      \"type\": \"text_lv\",\n      \"indexed\": true,\n      \"stored\": true\n    },\n    {\n      \"name\": \"*_txt_nl\",\n      \"type\": \"text_nl\",\n      \"indexed\": true,\n      \"stored\": true\n    },\n    {\n      \"name\": \"*_txt_no\",\n      \"type\": \"text_no\",\n      \"indexed\": true,\n      \"stored\": true\n    },\n    {\n      \"name\": \"*_txt_pt\",\n      \"type\": \"text_pt\",\n      \"indexed\": true,\n      \"stored\": true\n    },\n    {\n      \"name\": \"*_txt_ro\",\n      \"type\": \"text_ro\",\n      \"indexed\": true,\n      \"stored\": true\n    },\n    {\n      \"name\": \"*_txt_ru\",\n      \"type\": \"text_ru\",\n      \"indexed\": true,\n      \"stored\": true\n    },\n    {\n      \"name\": \"*_txt_sv\",\n      \"type\": \"text_sv\",\n      \"indexed\": true,\n      \"stored\": true\n    },\n    {\n      \"name\": \"*_txt_th\",\n      \"type\": \"text_th\",\n      \"indexed\": true,\n      \"stored\": true\n    },\n    {\n      \"name\": \"*_txt_tr\",\n      \"type\": \"text_tr\",\n      \"indexed\": true,\n      \"stored\": true\n    },\n    {\n      \"name\": \"*_point\",\n      \"type\": \"point\",\n      \"indexed\": true,\n      \"stored\": true\n    },\n    {\n      \"name\": \"*_srpt\",\n      \"type\": \"location_rpt\",\n      \"indexed\": true,\n      \"stored\": true\n    },\n    {\n      \"name\": \"attr_*\",\n      \"type\": \"text_general\",\n      \"multiValued\": true,\n      \"indexed\": true,\n      \"stored\": true\n    },\n    {\n      \"name\": \"*_list\",\n      \"type\": \"string\",\n      \"multiValued\": true\n    },\n    {\n      \"name\": \"*_json\",\n      \"type\": \"string\",\n      \"multiValued\": true\n    },\n    {\n      \"name\": \"*_txt\",\n      \"type\": \"text_general\",\n      \"indexed\": true,\n      \"stored\": true\n    },\n    {\n      \"name\": \"*_str\",\n      \"type\": \"strings\",\n      \"docValues\": true,\n      \"indexed\": false,\n      \"stored\": false,\n      \"useDocValuesAsStored\": false\n    },\n    {\n      \"name\": \"*_dts\",\n      \"type\": \"pdate\",\n      \"multiValued\": true,\n      \"indexed\": true,\n      \"stored\": true\n    },\n    {\n      \"name\": \"*_dpf\",\n      \"type\": \"delimited_payloads_float\",\n      \"indexed\": true,\n      \"stored\": true\n    },\n    {\n      \"name\": \"*_dpi\",\n      \"type\": \"delimited_payloads_int\",\n      \"indexed\": true,\n      \"stored\": true\n    },\n    {\n      \"name\": \"*_dps\",\n      \"type\": \"delimited_payloads_string\",\n      \"indexed\": true,\n      \"stored\": true\n    },\n    {\n      \"name\": \"*_is\",\n      \"type\": \"pints\",\n      \"indexed\": true,\n      \"stored\": true\n    },\n    {\n      \"name\": \"*_ss\",\n      \"type\": \"strings\",\n      \"indexed\": true,\n      \"stored\": true\n    },\n    {\n      \"name\": \"*_ls\",\n      \"type\": \"plongs\",\n      \"indexed\": true,\n      \"stored\": true\n    },\n    {\n      \"name\": \"*_bs\",\n      \"type\": \"booleans\",\n      \"indexed\": true,\n      \"stored\": true\n    },\n    {\n      \"name\": \"*_fs\",\n      \"type\": \"pfloats\",\n      \"indexed\": true,\n      \"stored\": true\n    },\n    {\n      \"name\": \"*_ds\",\n      \"type\": \"pdoubles\",\n      \"indexed\": true,\n      \"stored\": true\n    },\n    {\n      \"name\": \"*_dt\",\n      \"type\": \"pdate\",\n      \"indexed\": true,\n      \"stored\": true\n    },\n    {\n      \"name\": \"*_ws\",\n      \"type\": \"text_ws\",\n      \"indexed\": true,\n      \"stored\": true\n    },\n    {\n      \"name\": \"*_i\",\n      \"type\": \"pint\",\n      \"indexed\": true,\n      \"stored\": true\n    },\n    {\n      \"name\": \"*_s\",\n      \"type\": \"string\",\n      \"indexed\": true,\n      \"stored\": true\n    },\n    {\n      \"name\": \"*_l\",\n      \"type\": \"plong\",\n      \"indexed\": true,\n      \"stored\": true\n    },\n    {\n      \"name\": \"*_t\",\n      \"type\": \"text_general\",\n      \"multiValued\": false,\n      \"indexed\": true,\n      \"stored\": true\n    },\n    {\n      \"name\": \"*_b\",\n      \"type\": \"boolean\",\n      \"indexed\": true,\n      \"stored\": true\n    },\n    {\n      \"name\": \"*_f\",\n      \"type\": \"pfloat\",\n      \"indexed\": true,\n      \"stored\": true\n    },\n    {\n      \"name\": \"*_d\",\n      \"type\": \"pdouble\",\n      \"indexed\": true,\n      \"stored\": true\n    },\n    {\n      \"name\": \"*_p\",\n      \"type\": \"location\",\n      \"indexed\": true,\n      \"stored\": true\n    }\n  ]\n}\n"
     ]
    }
   ],
   "source": [
    "# list dynamic fields in the schema\n",
    "\n",
    "dfields = handle_request('GET', endpoint=f'{schema_endpoint}/dynamicfields')\n",
    "print(dumps(dfields, indent=2))"
   ]
  },
  {
   "cell_type": "code",
   "execution_count": 36,
   "metadata": {},
   "outputs": [
    {
     "output_type": "execute_result",
     "data": {
      "text/plain": [
       "{'responseHeader': {'status': 0, 'QTime': 0},\n",
       " 'dynamicField': {'name': '*_dts',\n",
       "  'type': 'pdate',\n",
       "  'multiValued': True,\n",
       "  'indexed': True,\n",
       "  'stored': True}}"
      ]
     },
     "metadata": {},
     "execution_count": 36
    }
   ],
   "source": [
    "# details of a specific field\n",
    "\n",
    "handle_request('GET', endpoint=f'{schema_endpoint}/dynamicfields/*_dts')"
   ]
  },
  {
   "cell_type": "code",
   "execution_count": 6,
   "metadata": {},
   "outputs": [
    {
     "output_type": "stream",
     "name": "stdout",
     "text": [
      "{\n  \"responseHeader\": {\n    \"status\": 0,\n    \"QTime\": 0\n  },\n  \"fieldTypes\": [\n    {\n      \"name\": \"_nest_path_\",\n      \"class\": \"solr.NestPathField\",\n      \"maxCharsForDocValues\": \"-1\",\n      \"omitNorms\": true,\n      \"omitTermFreqAndPositions\": true,\n      \"stored\": false,\n      \"multiValued\": false\n    },\n    {\n      \"name\": \"ancestor_path\",\n      \"class\": \"solr.TextField\",\n      \"indexAnalyzer\": {\n        \"tokenizer\": {\n          \"class\": \"solr.KeywordTokenizerFactory\"\n        }\n      },\n      \"queryAnalyzer\": {\n        \"tokenizer\": {\n          \"class\": \"solr.PathHierarchyTokenizerFactory\",\n          \"delimiter\": \"/\"\n        }\n      }\n    },\n    {\n      \"name\": \"binary\",\n      \"class\": \"solr.BinaryField\"\n    },\n    {\n      \"name\": \"boolean\",\n      \"class\": \"solr.BoolField\",\n      \"sortMissingLast\": true\n    },\n    {\n      \"name\": \"booleans\",\n      \"class\": \"solr.BoolField\",\n      \"sortMissingLast\": true,\n      \"multiValued\": true\n    },\n    {\n      \"name\": \"delimited_payloads_float\",\n      \"class\": \"solr.TextField\",\n      \"indexed\": true,\n      \"stored\": false,\n      \"analyzer\": {\n        \"tokenizer\": {\n          \"class\": \"solr.WhitespaceTokenizerFactory\"\n        },\n        \"filters\": [\n          {\n            \"class\": \"solr.DelimitedPayloadTokenFilterFactory\",\n            \"encoder\": \"float\"\n          }\n        ]\n      }\n    },\n    {\n      \"name\": \"delimited_payloads_int\",\n      \"class\": \"solr.TextField\",\n      \"indexed\": true,\n      \"stored\": false,\n      \"analyzer\": {\n        \"tokenizer\": {\n          \"class\": \"solr.WhitespaceTokenizerFactory\"\n        },\n        \"filters\": [\n          {\n            \"class\": \"solr.DelimitedPayloadTokenFilterFactory\",\n            \"encoder\": \"integer\"\n          }\n        ]\n      }\n    },\n    {\n      \"name\": \"delimited_payloads_string\",\n      \"class\": \"solr.TextField\",\n      \"indexed\": true,\n      \"stored\": false,\n      \"analyzer\": {\n        \"tokenizer\": {\n          \"class\": \"solr.WhitespaceTokenizerFactory\"\n        },\n        \"filters\": [\n          {\n            \"class\": \"solr.DelimitedPayloadTokenFilterFactory\",\n            \"encoder\": \"identity\"\n          }\n        ]\n      }\n    },\n    {\n      \"name\": \"descendent_path\",\n      \"class\": \"solr.TextField\",\n      \"indexAnalyzer\": {\n        \"tokenizer\": {\n          \"class\": \"solr.PathHierarchyTokenizerFactory\",\n          \"delimiter\": \"/\"\n        }\n      },\n      \"queryAnalyzer\": {\n        \"tokenizer\": {\n          \"class\": \"solr.KeywordTokenizerFactory\"\n        }\n      }\n    },\n    {\n      \"name\": \"ignored\",\n      \"class\": \"solr.StrField\",\n      \"indexed\": false,\n      \"stored\": false,\n      \"multiValued\": true\n    },\n    {\n      \"name\": \"location\",\n      \"class\": \"solr.LatLonPointSpatialField\",\n      \"docValues\": true\n    },\n    {\n      \"name\": \"location_rpt\",\n      \"class\": \"solr.SpatialRecursivePrefixTreeFieldType\",\n      \"geo\": \"true\",\n      \"omitNorms\": true,\n      \"omitTermFreqAndPositions\": true,\n      \"maxDistErr\": \"0.001\",\n      \"termOffsets\": false,\n      \"distErrPct\": \"0.025\",\n      \"distanceUnits\": \"kilometers\",\n      \"termPositions\": false,\n      \"omitPositions\": true\n    },\n    {\n      \"name\": \"lowercase\",\n      \"class\": \"solr.TextField\",\n      \"positionIncrementGap\": \"100\",\n      \"analyzer\": {\n        \"tokenizer\": {\n          \"class\": \"solr.KeywordTokenizerFactory\"\n        },\n        \"filters\": [\n          {\n            \"class\": \"solr.LowerCaseFilterFactory\"\n          }\n        ]\n      }\n    },\n    {\n      \"name\": \"new_txt_field\",\n      \"class\": \"solr.TextField\",\n      \"positionIncrementGap\": \"100\",\n      \"analyzer\": {\n        \"charFilters\": [\n          {\n            \"class\": \"solr.PatternReplaceCharFilterFactory\",\n            \"pattern\": \"([a-zA-Z])\\\\\\\\1+\",\n            \"replacement\": \"$1$1\"\n          }\n        ],\n        \"tokenizer\": {\n          \"class\": \"solr.StandardTokenizerFactory\"\n        },\n        \"filters\": [\n          {\n            \"class\": \"solr.WordDelimiterFilterFactory\",\n            \"preserveOriginal\": \"0\"\n          },\n          {\n            \"class\": \"solr.StopFilterFactory\",\n            \"words\": \"lang/stopwords_en.txt\",\n            \"ignoreCase\": \"true\"\n          },\n          {\n            \"class\": \"solr.EnglishPossessiveFilterFactory\"\n          },\n          {\n            \"class\": \"solr.KeywordMarkerFilterFactory\",\n            \"protected\": \"protwords.txt\"\n          }\n        ]\n      }\n    },\n    {\n      \"name\": \"pdate\",\n      \"class\": \"solr.DatePointField\",\n      \"docValues\": true\n    },\n    {\n      \"name\": \"pdates\",\n      \"class\": \"solr.DatePointField\",\n      \"docValues\": true,\n      \"multiValued\": true\n    },\n    {\n      \"name\": \"pdouble\",\n      \"class\": \"solr.DoublePointField\",\n      \"docValues\": true\n    },\n    {\n      \"name\": \"pdoubles\",\n      \"class\": \"solr.DoublePointField\",\n      \"docValues\": true,\n      \"multiValued\": true\n    },\n    {\n      \"name\": \"pfloat\",\n      \"class\": \"solr.FloatPointField\",\n      \"docValues\": true\n    },\n    {\n      \"name\": \"pfloats\",\n      \"class\": \"solr.FloatPointField\",\n      \"docValues\": true,\n      \"multiValued\": true\n    },\n    {\n      \"name\": \"phonetic_en\",\n      \"class\": \"solr.TextField\",\n      \"indexed\": true,\n      \"stored\": false,\n      \"analyzer\": {\n        \"tokenizer\": {\n          \"class\": \"solr.StandardTokenizerFactory\"\n        },\n        \"filters\": [\n          {\n            \"class\": \"solr.DoubleMetaphoneFilterFactory\",\n            \"inject\": \"false\"\n          }\n        ]\n      }\n    },\n    {\n      \"name\": \"pint\",\n      \"class\": \"solr.IntPointField\",\n      \"docValues\": true\n    },\n    {\n      \"name\": \"pints\",\n      \"class\": \"solr.IntPointField\",\n      \"docValues\": true,\n      \"multiValued\": true\n    },\n    {\n      \"name\": \"plong\",\n      \"class\": \"solr.LongPointField\",\n      \"docValues\": true\n    },\n    {\n      \"name\": \"plongs\",\n      \"class\": \"solr.LongPointField\",\n      \"docValues\": true,\n      \"multiValued\": true\n    },\n    {\n      \"name\": \"point\",\n      \"class\": \"solr.PointType\",\n      \"subFieldSuffix\": \"_d\",\n      \"dimension\": \"2\"\n    },\n    {\n      \"name\": \"random\",\n      \"class\": \"solr.RandomSortField\",\n      \"indexed\": true\n    },\n    {\n      \"name\": \"rank\",\n      \"class\": \"solr.RankField\"\n    },\n    {\n      \"name\": \"string\",\n      \"class\": \"solr.StrField\",\n      \"sortMissingLast\": true,\n      \"docValues\": true\n    },\n    {\n      \"name\": \"strings\",\n      \"class\": \"solr.StrField\",\n      \"sortMissingLast\": true,\n      \"docValues\": true,\n      \"multiValued\": true\n    },\n    {\n      \"name\": \"text_ar\",\n      \"class\": \"solr.TextField\",\n      \"positionIncrementGap\": \"100\",\n      \"analyzer\": {\n        \"tokenizer\": {\n          \"class\": \"solr.StandardTokenizerFactory\"\n        },\n        \"filters\": [\n          {\n            \"class\": \"solr.LowerCaseFilterFactory\"\n          },\n          {\n            \"class\": \"solr.StopFilterFactory\",\n            \"words\": \"lang/stopwords_ar.txt\",\n            \"ignoreCase\": \"true\"\n          },\n          {\n            \"class\": \"solr.ArabicNormalizationFilterFactory\"\n          },\n          {\n            \"class\": \"solr.ArabicStemFilterFactory\"\n          }\n        ]\n      }\n    },\n    {\n      \"name\": \"text_bg\",\n      \"class\": \"solr.TextField\",\n      \"positionIncrementGap\": \"100\",\n      \"analyzer\": {\n        \"tokenizer\": {\n          \"class\": \"solr.StandardTokenizerFactory\"\n        },\n        \"filters\": [\n          {\n            \"class\": \"solr.LowerCaseFilterFactory\"\n          },\n          {\n            \"class\": \"solr.StopFilterFactory\",\n            \"words\": \"lang/stopwords_bg.txt\",\n            \"ignoreCase\": \"true\"\n          },\n          {\n            \"class\": \"solr.BulgarianStemFilterFactory\"\n          }\n        ]\n      }\n    },\n    {\n      \"name\": \"text_ca\",\n      \"class\": \"solr.TextField\",\n      \"positionIncrementGap\": \"100\",\n      \"analyzer\": {\n        \"tokenizer\": {\n          \"class\": \"solr.StandardTokenizerFactory\"\n        },\n        \"filters\": [\n          {\n            \"class\": \"solr.ElisionFilterFactory\",\n            \"articles\": \"lang/contractions_ca.txt\",\n            \"ignoreCase\": \"true\"\n          },\n          {\n            \"class\": \"solr.LowerCaseFilterFactory\"\n          },\n          {\n            \"class\": \"solr.StopFilterFactory\",\n            \"words\": \"lang/stopwords_ca.txt\",\n            \"ignoreCase\": \"true\"\n          },\n          {\n            \"class\": \"solr.SnowballPorterFilterFactory\",\n            \"language\": \"Catalan\"\n          }\n        ]\n      }\n    },\n    {\n      \"name\": \"text_cjk\",\n      \"class\": \"solr.TextField\",\n      \"positionIncrementGap\": \"100\",\n      \"analyzer\": {\n        \"tokenizer\": {\n          \"class\": \"solr.StandardTokenizerFactory\"\n        },\n        \"filters\": [\n          {\n            \"class\": \"solr.CJKWidthFilterFactory\"\n          },\n          {\n            \"class\": \"solr.LowerCaseFilterFactory\"\n          },\n          {\n            \"class\": \"solr.CJKBigramFilterFactory\"\n          }\n        ]\n      }\n    },\n    {\n      \"name\": \"text_cz\",\n      \"class\": \"solr.TextField\",\n      \"positionIncrementGap\": \"100\",\n      \"analyzer\": {\n        \"tokenizer\": {\n          \"class\": \"solr.StandardTokenizerFactory\"\n        },\n        \"filters\": [\n          {\n            \"class\": \"solr.LowerCaseFilterFactory\"\n          },\n          {\n            \"class\": \"solr.StopFilterFactory\",\n            \"words\": \"lang/stopwords_cz.txt\",\n            \"ignoreCase\": \"true\"\n          },\n          {\n            \"class\": \"solr.CzechStemFilterFactory\"\n          }\n        ]\n      }\n    },\n    {\n      \"name\": \"text_da\",\n      \"class\": \"solr.TextField\",\n      \"positionIncrementGap\": \"100\",\n      \"analyzer\": {\n        \"tokenizer\": {\n          \"class\": \"solr.StandardTokenizerFactory\"\n        },\n        \"filters\": [\n          {\n            \"class\": \"solr.LowerCaseFilterFactory\"\n          },\n          {\n            \"class\": \"solr.StopFilterFactory\",\n            \"format\": \"snowball\",\n            \"words\": \"lang/stopwords_da.txt\",\n            \"ignoreCase\": \"true\"\n          },\n          {\n            \"class\": \"solr.SnowballPorterFilterFactory\",\n            \"language\": \"Danish\"\n          }\n        ]\n      }\n    },\n    {\n      \"name\": \"text_de\",\n      \"class\": \"solr.TextField\",\n      \"positionIncrementGap\": \"100\",\n      \"analyzer\": {\n        \"tokenizer\": {\n          \"class\": \"solr.StandardTokenizerFactory\"\n        },\n        \"filters\": [\n          {\n            \"class\": \"solr.LowerCaseFilterFactory\"\n          },\n          {\n            \"class\": \"solr.StopFilterFactory\",\n            \"format\": \"snowball\",\n            \"words\": \"lang/stopwords_de.txt\",\n            \"ignoreCase\": \"true\"\n          },\n          {\n            \"class\": \"solr.GermanNormalizationFilterFactory\"\n          },\n          {\n            \"class\": \"solr.GermanLightStemFilterFactory\"\n          }\n        ]\n      }\n    },\n    {\n      \"name\": \"text_el\",\n      \"class\": \"solr.TextField\",\n      \"positionIncrementGap\": \"100\",\n      \"analyzer\": {\n        \"tokenizer\": {\n          \"class\": \"solr.StandardTokenizerFactory\"\n        },\n        \"filters\": [\n          {\n            \"class\": \"solr.GreekLowerCaseFilterFactory\"\n          },\n          {\n            \"class\": \"solr.StopFilterFactory\",\n            \"words\": \"lang/stopwords_el.txt\",\n            \"ignoreCase\": \"false\"\n          },\n          {\n            \"class\": \"solr.GreekStemFilterFactory\"\n          }\n        ]\n      }\n    },\n    {\n      \"name\": \"text_en\",\n      \"class\": \"solr.TextField\",\n      \"positionIncrementGap\": \"100\",\n      \"indexAnalyzer\": {\n        \"tokenizer\": {\n          \"class\": \"solr.StandardTokenizerFactory\"\n        },\n        \"filters\": [\n          {\n            \"class\": \"solr.StopFilterFactory\",\n            \"words\": \"lang/stopwords_en.txt\",\n            \"ignoreCase\": \"true\"\n          },\n          {\n            \"class\": \"solr.LowerCaseFilterFactory\"\n          },\n          {\n            \"class\": \"solr.EnglishPossessiveFilterFactory\"\n          },\n          {\n            \"class\": \"solr.KeywordMarkerFilterFactory\",\n            \"protected\": \"protwords.txt\"\n          },\n          {\n            \"class\": \"solr.PorterStemFilterFactory\"\n          }\n        ]\n      },\n      \"queryAnalyzer\": {\n        \"tokenizer\": {\n          \"class\": \"solr.StandardTokenizerFactory\"\n        },\n        \"filters\": [\n          {\n            \"class\": \"solr.SynonymGraphFilterFactory\",\n            \"expand\": \"true\",\n            \"ignoreCase\": \"true\",\n            \"synonyms\": \"synonyms.txt\"\n          },\n          {\n            \"class\": \"solr.StopFilterFactory\",\n            \"words\": \"lang/stopwords_en.txt\",\n            \"ignoreCase\": \"true\"\n          },\n          {\n            \"class\": \"solr.LowerCaseFilterFactory\"\n          },\n          {\n            \"class\": \"solr.EnglishPossessiveFilterFactory\"\n          },\n          {\n            \"class\": \"solr.KeywordMarkerFilterFactory\",\n            \"protected\": \"protwords.txt\"\n          },\n          {\n            \"class\": \"solr.PorterStemFilterFactory\"\n          }\n        ]\n      }\n    },\n    {\n      \"name\": \"text_en_splitting\",\n      \"class\": \"solr.TextField\",\n      \"autoGeneratePhraseQueries\": \"true\",\n      \"positionIncrementGap\": \"100\",\n      \"indexAnalyzer\": {\n        \"tokenizer\": {\n          \"class\": \"solr.WhitespaceTokenizerFactory\"\n        },\n        \"filters\": [\n          {\n            \"class\": \"solr.StopFilterFactory\",\n            \"words\": \"lang/stopwords_en.txt\",\n            \"ignoreCase\": \"true\"\n          },\n          {\n            \"class\": \"solr.WordDelimiterGraphFilterFactory\",\n            \"catenateNumbers\": \"1\",\n            \"generateNumberParts\": \"1\",\n            \"splitOnCaseChange\": \"1\",\n            \"generateWordParts\": \"1\",\n            \"catenateAll\": \"0\",\n            \"catenateWords\": \"1\"\n          },\n          {\n            \"class\": \"solr.LowerCaseFilterFactory\"\n          },\n          {\n            \"class\": \"solr.KeywordMarkerFilterFactory\",\n            \"protected\": \"protwords.txt\"\n          },\n          {\n            \"class\": \"solr.PorterStemFilterFactory\"\n          },\n          {\n            \"class\": \"solr.FlattenGraphFilterFactory\"\n          }\n        ]\n      },\n      \"queryAnalyzer\": {\n        \"tokenizer\": {\n          \"class\": \"solr.WhitespaceTokenizerFactory\"\n        },\n        \"filters\": [\n          {\n            \"class\": \"solr.SynonymGraphFilterFactory\",\n            \"expand\": \"true\",\n            \"ignoreCase\": \"true\",\n            \"synonyms\": \"synonyms.txt\"\n          },\n          {\n            \"class\": \"solr.StopFilterFactory\",\n            \"words\": \"lang/stopwords_en.txt\",\n            \"ignoreCase\": \"true\"\n          },\n          {\n            \"class\": \"solr.WordDelimiterGraphFilterFactory\",\n            \"catenateNumbers\": \"0\",\n            \"generateNumberParts\": \"1\",\n            \"splitOnCaseChange\": \"1\",\n            \"generateWordParts\": \"1\",\n            \"catenateAll\": \"0\",\n            \"catenateWords\": \"0\"\n          },\n          {\n            \"class\": \"solr.LowerCaseFilterFactory\"\n          },\n          {\n            \"class\": \"solr.KeywordMarkerFilterFactory\",\n            \"protected\": \"protwords.txt\"\n          },\n          {\n            \"class\": \"solr.PorterStemFilterFactory\"\n          }\n        ]\n      }\n    },\n    {\n      \"name\": \"text_en_splitting_tight\",\n      \"class\": \"solr.TextField\",\n      \"autoGeneratePhraseQueries\": \"true\",\n      \"positionIncrementGap\": \"100\",\n      \"indexAnalyzer\": {\n        \"tokenizer\": {\n          \"class\": \"solr.WhitespaceTokenizerFactory\"\n        },\n        \"filters\": [\n          {\n            \"class\": \"solr.SynonymGraphFilterFactory\",\n            \"expand\": \"false\",\n            \"ignoreCase\": \"true\",\n            \"synonyms\": \"synonyms.txt\"\n          },\n          {\n            \"class\": \"solr.StopFilterFactory\",\n            \"words\": \"lang/stopwords_en.txt\",\n            \"ignoreCase\": \"true\"\n          },\n          {\n            \"class\": \"solr.WordDelimiterGraphFilterFactory\",\n            \"catenateNumbers\": \"1\",\n            \"generateNumberParts\": \"0\",\n            \"generateWordParts\": \"0\",\n            \"catenateAll\": \"0\",\n            \"catenateWords\": \"1\"\n          },\n          {\n            \"class\": \"solr.LowerCaseFilterFactory\"\n          },\n          {\n            \"class\": \"solr.KeywordMarkerFilterFactory\",\n            \"protected\": \"protwords.txt\"\n          },\n          {\n            \"class\": \"solr.EnglishMinimalStemFilterFactory\"\n          },\n          {\n            \"class\": \"solr.RemoveDuplicatesTokenFilterFactory\"\n          },\n          {\n            \"class\": \"solr.FlattenGraphFilterFactory\"\n          }\n        ]\n      },\n      \"queryAnalyzer\": {\n        \"tokenizer\": {\n          \"class\": \"solr.WhitespaceTokenizerFactory\"\n        },\n        \"filters\": [\n          {\n            \"class\": \"solr.SynonymGraphFilterFactory\",\n            \"expand\": \"false\",\n            \"ignoreCase\": \"true\",\n            \"synonyms\": \"synonyms.txt\"\n          },\n          {\n            \"class\": \"solr.StopFilterFactory\",\n            \"words\": \"lang/stopwords_en.txt\",\n            \"ignoreCase\": \"true\"\n          },\n          {\n            \"class\": \"solr.WordDelimiterGraphFilterFactory\",\n            \"catenateNumbers\": \"1\",\n            \"generateNumberParts\": \"0\",\n            \"generateWordParts\": \"0\",\n            \"catenateAll\": \"0\",\n            \"catenateWords\": \"1\"\n          },\n          {\n            \"class\": \"solr.LowerCaseFilterFactory\"\n          },\n          {\n            \"class\": \"solr.KeywordMarkerFilterFactory\",\n            \"protected\": \"protwords.txt\"\n          },\n          {\n            \"class\": \"solr.EnglishMinimalStemFilterFactory\"\n          },\n          {\n            \"class\": \"solr.RemoveDuplicatesTokenFilterFactory\"\n          }\n        ]\n      }\n    },\n    {\n      \"name\": \"text_es\",\n      \"class\": \"solr.TextField\",\n      \"positionIncrementGap\": \"100\",\n      \"analyzer\": {\n        \"tokenizer\": {\n          \"class\": \"solr.StandardTokenizerFactory\"\n        },\n        \"filters\": [\n          {\n            \"class\": \"solr.LowerCaseFilterFactory\"\n          },\n          {\n            \"class\": \"solr.StopFilterFactory\",\n            \"format\": \"snowball\",\n            \"words\": \"lang/stopwords_es.txt\",\n            \"ignoreCase\": \"true\"\n          },\n          {\n            \"class\": \"solr.SpanishLightStemFilterFactory\"\n          }\n        ]\n      }\n    },\n    {\n      \"name\": \"text_et\",\n      \"class\": \"solr.TextField\",\n      \"positionIncrementGap\": \"100\",\n      \"analyzer\": {\n        \"tokenizer\": {\n          \"class\": \"solr.StandardTokenizerFactory\"\n        },\n        \"filters\": [\n          {\n            \"class\": \"solr.LowerCaseFilterFactory\"\n          },\n          {\n            \"class\": \"solr.StopFilterFactory\",\n            \"words\": \"lang/stopwords_et.txt\",\n            \"ignoreCase\": \"true\"\n          },\n          {\n            \"class\": \"solr.SnowballPorterFilterFactory\",\n            \"language\": \"Estonian\"\n          }\n        ]\n      }\n    },\n    {\n      \"name\": \"text_eu\",\n      \"class\": \"solr.TextField\",\n      \"positionIncrementGap\": \"100\",\n      \"analyzer\": {\n        \"tokenizer\": {\n          \"class\": \"solr.StandardTokenizerFactory\"\n        },\n        \"filters\": [\n          {\n            \"class\": \"solr.LowerCaseFilterFactory\"\n          },\n          {\n            \"class\": \"solr.StopFilterFactory\",\n            \"words\": \"lang/stopwords_eu.txt\",\n            \"ignoreCase\": \"true\"\n          },\n          {\n            \"class\": \"solr.SnowballPorterFilterFactory\",\n            \"language\": \"Basque\"\n          }\n        ]\n      }\n    },\n    {\n      \"name\": \"text_fa\",\n      \"class\": \"solr.TextField\",\n      \"positionIncrementGap\": \"100\",\n      \"analyzer\": {\n        \"charFilters\": [\n          {\n            \"class\": \"solr.PersianCharFilterFactory\"\n          }\n        ],\n        \"tokenizer\": {\n          \"class\": \"solr.StandardTokenizerFactory\"\n        },\n        \"filters\": [\n          {\n            \"class\": \"solr.LowerCaseFilterFactory\"\n          },\n          {\n            \"class\": \"solr.ArabicNormalizationFilterFactory\"\n          },\n          {\n            \"class\": \"solr.PersianNormalizationFilterFactory\"\n          },\n          {\n            \"class\": \"solr.StopFilterFactory\",\n            \"words\": \"lang/stopwords_fa.txt\",\n            \"ignoreCase\": \"true\"\n          }\n        ]\n      }\n    },\n    {\n      \"name\": \"text_fi\",\n      \"class\": \"solr.TextField\",\n      \"positionIncrementGap\": \"100\",\n      \"analyzer\": {\n        \"tokenizer\": {\n          \"class\": \"solr.StandardTokenizerFactory\"\n        },\n        \"filters\": [\n          {\n            \"class\": \"solr.LowerCaseFilterFactory\"\n          },\n          {\n            \"class\": \"solr.StopFilterFactory\",\n            \"format\": \"snowball\",\n            \"words\": \"lang/stopwords_fi.txt\",\n            \"ignoreCase\": \"true\"\n          },\n          {\n            \"class\": \"solr.SnowballPorterFilterFactory\",\n            \"language\": \"Finnish\"\n          }\n        ]\n      }\n    },\n    {\n      \"name\": \"text_fr\",\n      \"class\": \"solr.TextField\",\n      \"positionIncrementGap\": \"100\",\n      \"analyzer\": {\n        \"tokenizer\": {\n          \"class\": \"solr.StandardTokenizerFactory\"\n        },\n        \"filters\": [\n          {\n            \"class\": \"solr.ElisionFilterFactory\",\n            \"articles\": \"lang/contractions_fr.txt\",\n            \"ignoreCase\": \"true\"\n          },\n          {\n            \"class\": \"solr.LowerCaseFilterFactory\"\n          },\n          {\n            \"class\": \"solr.StopFilterFactory\",\n            \"format\": \"snowball\",\n            \"words\": \"lang/stopwords_fr.txt\",\n            \"ignoreCase\": \"true\"\n          },\n          {\n            \"class\": \"solr.FrenchLightStemFilterFactory\"\n          }\n        ]\n      }\n    },\n    {\n      \"name\": \"text_ga\",\n      \"class\": \"solr.TextField\",\n      \"positionIncrementGap\": \"100\",\n      \"analyzer\": {\n        \"tokenizer\": {\n          \"class\": \"solr.StandardTokenizerFactory\"\n        },\n        \"filters\": [\n          {\n            \"class\": \"solr.ElisionFilterFactory\",\n            \"articles\": \"lang/contractions_ga.txt\",\n            \"ignoreCase\": \"true\"\n          },\n          {\n            \"class\": \"solr.StopFilterFactory\",\n            \"words\": \"lang/hyphenations_ga.txt\",\n            \"ignoreCase\": \"true\"\n          },\n          {\n            \"class\": \"solr.IrishLowerCaseFilterFactory\"\n          },\n          {\n            \"class\": \"solr.StopFilterFactory\",\n            \"words\": \"lang/stopwords_ga.txt\",\n            \"ignoreCase\": \"true\"\n          },\n          {\n            \"class\": \"solr.SnowballPorterFilterFactory\",\n            \"language\": \"Irish\"\n          }\n        ]\n      }\n    },\n    {\n      \"name\": \"text_gen_sort\",\n      \"class\": \"solr.SortableTextField\",\n      \"positionIncrementGap\": \"100\",\n      \"multiValued\": true,\n      \"indexAnalyzer\": {\n        \"tokenizer\": {\n          \"class\": \"solr.StandardTokenizerFactory\"\n        },\n        \"filters\": [\n          {\n            \"class\": \"solr.StopFilterFactory\",\n            \"words\": \"stopwords.txt\",\n            \"ignoreCase\": \"true\"\n          },\n          {\n            \"class\": \"solr.LowerCaseFilterFactory\"\n          }\n        ]\n      },\n      \"queryAnalyzer\": {\n        \"tokenizer\": {\n          \"class\": \"solr.StandardTokenizerFactory\"\n        },\n        \"filters\": [\n          {\n            \"class\": \"solr.StopFilterFactory\",\n            \"words\": \"stopwords.txt\",\n            \"ignoreCase\": \"true\"\n          },\n          {\n            \"class\": \"solr.SynonymGraphFilterFactory\",\n            \"expand\": \"true\",\n            \"ignoreCase\": \"true\",\n            \"synonyms\": \"synonyms.txt\"\n          },\n          {\n            \"class\": \"solr.LowerCaseFilterFactory\"\n          }\n        ]\n      }\n    },\n    {\n      \"name\": \"text_general\",\n      \"class\": \"solr.TextField\",\n      \"positionIncrementGap\": \"100\",\n      \"multiValued\": true,\n      \"indexAnalyzer\": {\n        \"tokenizer\": {\n          \"class\": \"solr.StandardTokenizerFactory\"\n        },\n        \"filters\": [\n          {\n            \"class\": \"solr.StopFilterFactory\",\n            \"words\": \"stopwords.txt\",\n            \"ignoreCase\": \"true\"\n          },\n          {\n            \"class\": \"solr.LowerCaseFilterFactory\"\n          }\n        ]\n      },\n      \"queryAnalyzer\": {\n        \"tokenizer\": {\n          \"class\": \"solr.StandardTokenizerFactory\"\n        },\n        \"filters\": [\n          {\n            \"class\": \"solr.StopFilterFactory\",\n            \"words\": \"stopwords.txt\",\n            \"ignoreCase\": \"true\"\n          },\n          {\n            \"class\": \"solr.SynonymGraphFilterFactory\",\n            \"expand\": \"true\",\n            \"ignoreCase\": \"true\",\n            \"synonyms\": \"synonyms.txt\"\n          },\n          {\n            \"class\": \"solr.LowerCaseFilterFactory\"\n          }\n        ]\n      }\n    },\n    {\n      \"name\": \"text_general_rev\",\n      \"class\": \"solr.TextField\",\n      \"positionIncrementGap\": \"100\",\n      \"indexAnalyzer\": {\n        \"tokenizer\": {\n          \"class\": \"solr.StandardTokenizerFactory\"\n        },\n        \"filters\": [\n          {\n            \"class\": \"solr.StopFilterFactory\",\n            \"words\": \"stopwords.txt\",\n            \"ignoreCase\": \"true\"\n          },\n          {\n            \"class\": \"solr.LowerCaseFilterFactory\"\n          },\n          {\n            \"class\": \"solr.ReversedWildcardFilterFactory\",\n            \"maxPosQuestion\": \"2\",\n            \"maxFractionAsterisk\": \"0.33\",\n            \"maxPosAsterisk\": \"3\",\n            \"withOriginal\": \"true\"\n          }\n        ]\n      },\n      \"queryAnalyzer\": {\n        \"tokenizer\": {\n          \"class\": \"solr.StandardTokenizerFactory\"\n        },\n        \"filters\": [\n          {\n            \"class\": \"solr.SynonymGraphFilterFactory\",\n            \"expand\": \"true\",\n            \"ignoreCase\": \"true\",\n            \"synonyms\": \"synonyms.txt\"\n          },\n          {\n            \"class\": \"solr.StopFilterFactory\",\n            \"words\": \"stopwords.txt\",\n            \"ignoreCase\": \"true\"\n          },\n          {\n            \"class\": \"solr.LowerCaseFilterFactory\"\n          }\n        ]\n      }\n    },\n    {\n      \"name\": \"text_gl\",\n      \"class\": \"solr.TextField\",\n      \"positionIncrementGap\": \"100\",\n      \"analyzer\": {\n        \"tokenizer\": {\n          \"class\": \"solr.StandardTokenizerFactory\"\n        },\n        \"filters\": [\n          {\n            \"class\": \"solr.LowerCaseFilterFactory\"\n          },\n          {\n            \"class\": \"solr.StopFilterFactory\",\n            \"words\": \"lang/stopwords_gl.txt\",\n            \"ignoreCase\": \"true\"\n          },\n          {\n            \"class\": \"solr.GalicianStemFilterFactory\"\n          }\n        ]\n      }\n    },\n    {\n      \"name\": \"text_hi\",\n      \"class\": \"solr.TextField\",\n      \"positionIncrementGap\": \"100\",\n      \"analyzer\": {\n        \"tokenizer\": {\n          \"class\": \"solr.StandardTokenizerFactory\"\n        },\n        \"filters\": [\n          {\n            \"class\": \"solr.LowerCaseFilterFactory\"\n          },\n          {\n            \"class\": \"solr.IndicNormalizationFilterFactory\"\n          },\n          {\n            \"class\": \"solr.HindiNormalizationFilterFactory\"\n          },\n          {\n            \"class\": \"solr.StopFilterFactory\",\n            \"words\": \"lang/stopwords_hi.txt\",\n            \"ignoreCase\": \"true\"\n          },\n          {\n            \"class\": \"solr.HindiStemFilterFactory\"\n          }\n        ]\n      }\n    },\n    {\n      \"name\": \"text_hu\",\n      \"class\": \"solr.TextField\",\n      \"positionIncrementGap\": \"100\",\n      \"analyzer\": {\n        \"tokenizer\": {\n          \"class\": \"solr.StandardTokenizerFactory\"\n        },\n        \"filters\": [\n          {\n            \"class\": \"solr.LowerCaseFilterFactory\"\n          },\n          {\n            \"class\": \"solr.StopFilterFactory\",\n            \"format\": \"snowball\",\n            \"words\": \"lang/stopwords_hu.txt\",\n            \"ignoreCase\": \"true\"\n          },\n          {\n            \"class\": \"solr.SnowballPorterFilterFactory\",\n            \"language\": \"Hungarian\"\n          }\n        ]\n      }\n    },\n    {\n      \"name\": \"text_hy\",\n      \"class\": \"solr.TextField\",\n      \"positionIncrementGap\": \"100\",\n      \"analyzer\": {\n        \"tokenizer\": {\n          \"class\": \"solr.StandardTokenizerFactory\"\n        },\n        \"filters\": [\n          {\n            \"class\": \"solr.LowerCaseFilterFactory\"\n          },\n          {\n            \"class\": \"solr.StopFilterFactory\",\n            \"words\": \"lang/stopwords_hy.txt\",\n            \"ignoreCase\": \"true\"\n          },\n          {\n            \"class\": \"solr.SnowballPorterFilterFactory\",\n            \"language\": \"Armenian\"\n          }\n        ]\n      }\n    },\n    {\n      \"name\": \"text_id\",\n      \"class\": \"solr.TextField\",\n      \"positionIncrementGap\": \"100\",\n      \"analyzer\": {\n        \"tokenizer\": {\n          \"class\": \"solr.StandardTokenizerFactory\"\n        },\n        \"filters\": [\n          {\n            \"class\": \"solr.LowerCaseFilterFactory\"\n          },\n          {\n            \"class\": \"solr.StopFilterFactory\",\n            \"words\": \"lang/stopwords_id.txt\",\n            \"ignoreCase\": \"true\"\n          },\n          {\n            \"class\": \"solr.IndonesianStemFilterFactory\",\n            \"stemDerivational\": \"true\"\n          }\n        ]\n      }\n    },\n    {\n      \"name\": \"text_it\",\n      \"class\": \"solr.TextField\",\n      \"positionIncrementGap\": \"100\",\n      \"analyzer\": {\n        \"tokenizer\": {\n          \"class\": \"solr.StandardTokenizerFactory\"\n        },\n        \"filters\": [\n          {\n            \"class\": \"solr.ElisionFilterFactory\",\n            \"articles\": \"lang/contractions_it.txt\",\n            \"ignoreCase\": \"true\"\n          },\n          {\n            \"class\": \"solr.LowerCaseFilterFactory\"\n          },\n          {\n            \"class\": \"solr.StopFilterFactory\",\n            \"format\": \"snowball\",\n            \"words\": \"lang/stopwords_it.txt\",\n            \"ignoreCase\": \"true\"\n          },\n          {\n            \"class\": \"solr.ItalianLightStemFilterFactory\"\n          }\n        ]\n      }\n    },\n    {\n      \"name\": \"text_ja\",\n      \"class\": \"solr.TextField\",\n      \"autoGeneratePhraseQueries\": \"false\",\n      \"positionIncrementGap\": \"100\",\n      \"analyzer\": {\n        \"tokenizer\": {\n          \"class\": \"solr.JapaneseTokenizerFactory\",\n          \"mode\": \"search\"\n        },\n        \"filters\": [\n          {\n            \"class\": \"solr.JapaneseBaseFormFilterFactory\"\n          },\n          {\n            \"class\": \"solr.JapanesePartOfSpeechStopFilterFactory\",\n            \"tags\": \"lang/stoptags_ja.txt\"\n          },\n          {\n            \"class\": \"solr.CJKWidthFilterFactory\"\n          },\n          {\n            \"class\": \"solr.StopFilterFactory\",\n            \"words\": \"lang/stopwords_ja.txt\",\n            \"ignoreCase\": \"true\"\n          },\n          {\n            \"class\": \"solr.JapaneseKatakanaStemFilterFactory\",\n            \"minimumLength\": \"4\"\n          },\n          {\n            \"class\": \"solr.LowerCaseFilterFactory\"\n          }\n        ]\n      }\n    },\n    {\n      \"name\": \"text_ko\",\n      \"class\": \"solr.TextField\",\n      \"positionIncrementGap\": \"100\",\n      \"analyzer\": {\n        \"tokenizer\": {\n          \"class\": \"solr.KoreanTokenizerFactory\",\n          \"outputUnknownUnigrams\": \"false\",\n          \"decompoundMode\": \"discard\"\n        },\n        \"filters\": [\n          {\n            \"class\": \"solr.KoreanPartOfSpeechStopFilterFactory\"\n          },\n          {\n            \"class\": \"solr.KoreanReadingFormFilterFactory\"\n          },\n          {\n            \"class\": \"solr.LowerCaseFilterFactory\"\n          }\n        ]\n      }\n    },\n    {\n      \"name\": \"text_lv\",\n      \"class\": \"solr.TextField\",\n      \"positionIncrementGap\": \"100\",\n      \"analyzer\": {\n        \"tokenizer\": {\n          \"class\": \"solr.StandardTokenizerFactory\"\n        },\n        \"filters\": [\n          {\n            \"class\": \"solr.LowerCaseFilterFactory\"\n          },\n          {\n            \"class\": \"solr.StopFilterFactory\",\n            \"words\": \"lang/stopwords_lv.txt\",\n            \"ignoreCase\": \"true\"\n          },\n          {\n            \"class\": \"solr.LatvianStemFilterFactory\"\n          }\n        ]\n      }\n    },\n    {\n      \"name\": \"text_nl\",\n      \"class\": \"solr.TextField\",\n      \"positionIncrementGap\": \"100\",\n      \"analyzer\": {\n        \"tokenizer\": {\n          \"class\": \"solr.StandardTokenizerFactory\"\n        },\n        \"filters\": [\n          {\n            \"class\": \"solr.LowerCaseFilterFactory\"\n          },\n          {\n            \"class\": \"solr.StopFilterFactory\",\n            \"format\": \"snowball\",\n            \"words\": \"lang/stopwords_nl.txt\",\n            \"ignoreCase\": \"true\"\n          },\n          {\n            \"class\": \"solr.StemmerOverrideFilterFactory\",\n            \"dictionary\": \"lang/stemdict_nl.txt\",\n            \"ignoreCase\": \"false\"\n          },\n          {\n            \"class\": \"solr.SnowballPorterFilterFactory\",\n            \"language\": \"Dutch\"\n          }\n        ]\n      }\n    },\n    {\n      \"name\": \"text_no\",\n      \"class\": \"solr.TextField\",\n      \"positionIncrementGap\": \"100\",\n      \"analyzer\": {\n        \"tokenizer\": {\n          \"class\": \"solr.StandardTokenizerFactory\"\n        },\n        \"filters\": [\n          {\n            \"class\": \"solr.LowerCaseFilterFactory\"\n          },\n          {\n            \"class\": \"solr.StopFilterFactory\",\n            \"format\": \"snowball\",\n            \"words\": \"lang/stopwords_no.txt\",\n            \"ignoreCase\": \"true\"\n          },\n          {\n            \"class\": \"solr.SnowballPorterFilterFactory\",\n            \"language\": \"Norwegian\"\n          }\n        ]\n      }\n    },\n    {\n      \"name\": \"text_pt\",\n      \"class\": \"solr.TextField\",\n      \"positionIncrementGap\": \"100\",\n      \"analyzer\": {\n        \"tokenizer\": {\n          \"class\": \"solr.StandardTokenizerFactory\"\n        },\n        \"filters\": [\n          {\n            \"class\": \"solr.LowerCaseFilterFactory\"\n          },\n          {\n            \"class\": \"solr.StopFilterFactory\",\n            \"format\": \"snowball\",\n            \"words\": \"lang/stopwords_pt.txt\",\n            \"ignoreCase\": \"true\"\n          },\n          {\n            \"class\": \"solr.PortugueseLightStemFilterFactory\"\n          }\n        ]\n      }\n    },\n    {\n      \"name\": \"text_ro\",\n      \"class\": \"solr.TextField\",\n      \"positionIncrementGap\": \"100\",\n      \"analyzer\": {\n        \"tokenizer\": {\n          \"class\": \"solr.StandardTokenizerFactory\"\n        },\n        \"filters\": [\n          {\n            \"class\": \"solr.LowerCaseFilterFactory\"\n          },\n          {\n            \"class\": \"solr.StopFilterFactory\",\n            \"words\": \"lang/stopwords_ro.txt\",\n            \"ignoreCase\": \"true\"\n          },\n          {\n            \"class\": \"solr.SnowballPorterFilterFactory\",\n            \"language\": \"Romanian\"\n          }\n        ]\n      }\n    },\n    {\n      \"name\": \"text_ru\",\n      \"class\": \"solr.TextField\",\n      \"positionIncrementGap\": \"100\",\n      \"analyzer\": {\n        \"tokenizer\": {\n          \"class\": \"solr.StandardTokenizerFactory\"\n        },\n        \"filters\": [\n          {\n            \"class\": \"solr.LowerCaseFilterFactory\"\n          },\n          {\n            \"class\": \"solr.StopFilterFactory\",\n            \"format\": \"snowball\",\n            \"words\": \"lang/stopwords_ru.txt\",\n            \"ignoreCase\": \"true\"\n          },\n          {\n            \"class\": \"solr.SnowballPorterFilterFactory\",\n            \"language\": \"Russian\"\n          }\n        ]\n      }\n    },\n    {\n      \"name\": \"text_sv\",\n      \"class\": \"solr.TextField\",\n      \"positionIncrementGap\": \"100\",\n      \"analyzer\": {\n        \"tokenizer\": {\n          \"class\": \"solr.StandardTokenizerFactory\"\n        },\n        \"filters\": [\n          {\n            \"class\": \"solr.LowerCaseFilterFactory\"\n          },\n          {\n            \"class\": \"solr.StopFilterFactory\",\n            \"format\": \"snowball\",\n            \"words\": \"lang/stopwords_sv.txt\",\n            \"ignoreCase\": \"true\"\n          },\n          {\n            \"class\": \"solr.SnowballPorterFilterFactory\",\n            \"language\": \"Swedish\"\n          }\n        ]\n      }\n    },\n    {\n      \"name\": \"text_th\",\n      \"class\": \"solr.TextField\",\n      \"positionIncrementGap\": \"100\",\n      \"analyzer\": {\n        \"tokenizer\": {\n          \"class\": \"solr.ThaiTokenizerFactory\"\n        },\n        \"filters\": [\n          {\n            \"class\": \"solr.LowerCaseFilterFactory\"\n          },\n          {\n            \"class\": \"solr.StopFilterFactory\",\n            \"words\": \"lang/stopwords_th.txt\",\n            \"ignoreCase\": \"true\"\n          }\n        ]\n      }\n    },\n    {\n      \"name\": \"text_tr\",\n      \"class\": \"solr.TextField\",\n      \"positionIncrementGap\": \"100\",\n      \"analyzer\": {\n        \"tokenizer\": {\n          \"class\": \"solr.StandardTokenizerFactory\"\n        },\n        \"filters\": [\n          {\n            \"class\": \"solr.TurkishLowerCaseFilterFactory\"\n          },\n          {\n            \"class\": \"solr.StopFilterFactory\",\n            \"words\": \"lang/stopwords_tr.txt\",\n            \"ignoreCase\": \"false\"\n          },\n          {\n            \"class\": \"solr.SnowballPorterFilterFactory\",\n            \"language\": \"Turkish\"\n          }\n        ]\n      }\n    },\n    {\n      \"name\": \"text_ws\",\n      \"class\": \"solr.TextField\",\n      \"positionIncrementGap\": \"100\",\n      \"analyzer\": {\n        \"tokenizer\": {\n          \"class\": \"solr.WhitespaceTokenizerFactory\"\n        }\n      }\n    }\n  ]\n}\n"
     ]
    }
   ],
   "source": [
    "# list field types\n",
    "\n",
    "ftypes = handle_request('GET',endpoint=f'{schema_endpoint}/fieldtypes')\n",
    "\n",
    "print(dumps(ftypes, indent=2))"
   ]
  },
  {
   "cell_type": "code",
   "execution_count": 7,
   "metadata": {},
   "outputs": [
    {
     "output_type": "stream",
     "name": "stdout",
     "text": [
      "{\n  \"responseHeader\": {\n    \"status\": 0,\n    \"QTime\": 0\n  },\n  \"fieldType\": {\n    \"name\": \"new_txt_field\",\n    \"class\": \"solr.TextField\",\n    \"positionIncrementGap\": \"100\",\n    \"analyzer\": {\n      \"charFilters\": [\n        {\n          \"class\": \"solr.PatternReplaceCharFilterFactory\",\n          \"pattern\": \"([a-zA-Z])\\\\\\\\1+\",\n          \"replacement\": \"$1$1\"\n        }\n      ],\n      \"tokenizer\": {\n        \"class\": \"solr.StandardTokenizerFactory\"\n      },\n      \"filters\": [\n        {\n          \"class\": \"solr.WordDelimiterFilterFactory\",\n          \"preserveOriginal\": \"0\"\n        },\n        {\n          \"class\": \"solr.StopFilterFactory\",\n          \"words\": \"lang/stopwords_en.txt\",\n          \"ignoreCase\": \"true\"\n        },\n        {\n          \"class\": \"solr.EnglishPossessiveFilterFactory\"\n        },\n        {\n          \"class\": \"solr.KeywordMarkerFilterFactory\",\n          \"protected\": \"protwords.txt\"\n        }\n      ]\n    }\n  }\n}\n"
     ]
    }
   ],
   "source": [
    "# details of a specific field type  \n",
    "\n",
    "new_field = handle_request('GET', endpoint=f'{schema_endpoint}/fieldtypes/new_txt_field')\n",
    "print(dumps(new_field, indent=2))"
   ]
  },
  {
   "cell_type": "code",
   "execution_count": 45,
   "metadata": {},
   "outputs": [
    {
     "output_type": "execute_result",
     "data": {
      "text/plain": [
       "{'responseHeader': {'status': 0, 'QTime': 0}, 'copyFields': []}"
      ]
     },
     "metadata": {},
     "execution_count": 45
    }
   ],
   "source": [
    "# list copy fields  \n",
    "\n",
    "handle_request('GET', endpoint=f'{schema_endpoint}/copyfields')"
   ]
  },
  {
   "cell_type": "code",
   "execution_count": 46,
   "metadata": {},
   "outputs": [
    {
     "output_type": "execute_result",
     "data": {
      "text/plain": [
       "{'responseHeader': {'status': 0, 'QTime': 0}, 'name': 'default-config'}"
      ]
     },
     "metadata": {},
     "execution_count": 46
    }
   ],
   "source": [
    "# show schema name  \n",
    "\n",
    "handle_request('GET', endpoint=f'{schema_endpoint}/name')"
   ]
  },
  {
   "cell_type": "code",
   "execution_count": 47,
   "metadata": {},
   "outputs": [
    {
     "output_type": "execute_result",
     "data": {
      "text/plain": [
       "{'responseHeader': {'status': 0, 'QTime': 0}, 'version': 1.6}"
      ]
     },
     "metadata": {},
     "execution_count": 47
    }
   ],
   "source": [
    "# show schema version  \n",
    "\n",
    "handle_request('GET', endpoint=f'{schema_endpoint}/version')"
   ]
  },
  {
   "cell_type": "code",
   "execution_count": 48,
   "metadata": {},
   "outputs": [
    {
     "output_type": "execute_result",
     "data": {
      "text/plain": [
       "{'responseHeader': {'status': 0, 'QTime': 0}, 'uniqueKey': 'id'}"
      ]
     },
     "metadata": {},
     "execution_count": 48
    }
   ],
   "source": [
    "# list unique keys \n",
    "\n",
    "handle_request('GET', endpoint=f'{schema_endpoint}/uniquekey')"
   ]
  },
  {
   "cell_type": "code",
   "execution_count": 49,
   "metadata": {},
   "outputs": [
    {
     "output_type": "execute_result",
     "data": {
      "text/plain": [
       "{'responseHeader': {'status': 0, 'QTime': 0},\n",
       " 'similarity': {'class': 'org.apache.solr.search.similarities.SchemaSimilarityFactory'}}"
      ]
     },
     "metadata": {},
     "execution_count": 49
    }
   ],
   "source": [
    "# show global similarity\n",
    "\n",
    "handle_request('GET', endpoint=f'{schema_endpoint}/similarity')"
   ]
  }
 ]
}